{
 "cells": [
  {
   "cell_type": "code",
   "execution_count": null,
   "id": "db09ba3d",
   "metadata": {},
   "outputs": [],
   "source": [
    "'''\n",
    "Function is block of code defined with a name.\n",
    "\n",
    "We use functions whenever,whereever we need to perfoem the same task \n",
    "multiple times without writeing the same code again and again. \n",
    "\n",
    "It can take arguments and return value.\n",
    "\n",
    "Example : \n",
    "Suppose we want to runsoe action many times, we can define that action only once \n",
    "using function and call it several times as per our requirement to do some\n",
    "activity.\n",
    "\n",
    "\n",
    "(Note : Python follows DRY priciple Don't Repeat YourSelf)\n",
    "\n",
    "Function improves efficiency and reduce errors because of reusability of a code.\n",
    "\n",
    "The benefits of using a function is reusability and modularity.\n",
    "(Modularity means code divide into set of modules \n",
    "i.e. into subparts which helps in managing complexity\n",
    "also it is easiar to understand, easiar to debug)\n",
    "\n",
    "Types of function:\n",
    "\n",
    "1.Built-in function\n",
    "2.User Defined function\n",
    "\n",
    "1.Built-In Functions-\n",
    "The functions which come along with python itself are called built-in functions\n",
    "or predefined function.\n",
    "\n",
    "Ex: \n",
    "range(), id(), type(), input(), reverse(), sort(), len() etc.\n",
    "\n",
    "2.User-defined function-\n",
    "Functions which are created by programmer explicitly according to their \n",
    "requirement are called user-defined function.\n",
    "\n",
    "1.Use def keyword with the function name to define a function.\n",
    "2.Pass a number of parameters as per your requirement (optional).\n",
    "3.Define the function body with block of code.\n",
    "This block of code is nothing but an action you wanted to perfrom.\n",
    "\n",
    "Note:\n",
    "In python, no need to specify curly braces for the function body.\n",
    "The only indentation is essential to separate code blocks.\n",
    "\n",
    "Syntax to define a function :- \n",
    "\n",
    "def function_name(parameter1,parameter2...n):\n",
    "    #Function Body\n",
    "    #Write code here \n",
    "return value\n",
    "\n",
    "Here,\n",
    "\n",
    "Function_name :  Function name is name of the function.\n",
    "                 We cna give any name to the function\n",
    "                 \n",
    "Paramerter    :  Parameter is the value passed to the function\n",
    "                 we can pass any number of parameters\n",
    "                 function body uses the parameter value to perform an action\n",
    "                 \n",
    "Function_Body :  The Function_body is the block of code that perform some task.\n",
    "                 The block of code is nothing but the action you wanted to \n",
    "                 accomplish.\n",
    "\n",
    "Return value   :  Return value is the output of the fucntion.\n",
    "\n",
    "\n",
    "'''"
   ]
  },
  {
   "cell_type": "code",
   "execution_count": 1,
   "id": "82f1aaf0",
   "metadata": {
    "scrolled": true
   },
   "outputs": [
    {
     "name": "stdout",
     "output_type": "stream",
     "text": [
      "Welcome to Python With Sahil Sir\n"
     ]
    }
   ],
   "source": [
    "#Creating a function without any parameter/No Argument.\n",
    "\n",
    "def message():\n",
    "    print(\"Welcome to Python With Sahil Sir\")\n",
    "    \n",
    "#call function using the function name\n",
    "\n",
    "message()\n",
    "    "
   ]
  },
  {
   "cell_type": "code",
   "execution_count": 3,
   "id": "7a2397d4",
   "metadata": {},
   "outputs": [
    {
     "name": "stdout",
     "output_type": "stream",
     "text": [
      "Hello Anshika Welcome to Data Analytics\n",
      "Your Course Name is Python\n"
     ]
    }
   ],
   "source": [
    "#Creating a function with two parameters \n",
    "\n",
    "def course_fun(name, course_name):\n",
    "    print(f\"Hello {name} Welcome to Data Analytics\")\n",
    "    print(f\"Your Course Name is {course_name}\")\n",
    "    \n",
    "    \n",
    "#Call Function \n",
    "\n",
    "course_fun('Anshika',\"Python\")\n",
    "#Anshika went to 1st parameter name\n",
    "#Python went to 2nd parameter course_name"
   ]
  },
  {
   "cell_type": "code",
   "execution_count": 7,
   "id": "e4d3194b",
   "metadata": {},
   "outputs": [
    {
     "name": "stdout",
     "output_type": "stream",
     "text": [
      "Addition of second two values 151\n",
      "Addition of second two values 280\n"
     ]
    }
   ],
   "source": [
    "#Creating a function with parameter and return value.\n",
    "\n",
    "def calculator(a,b):\n",
    "    add = a + b\n",
    "    return add\n",
    "\n",
    "#call funtion\n",
    "calculator(21,5) #return a result --> 26\n",
    "\n",
    "res1 = calculator(56,95)\n",
    "print(\"Addition of second two values\", res1)\n",
    "\n",
    "res2 = calculator(95,185)\n",
    "print(\"Addition of second two values\", res2)"
   ]
  },
  {
   "cell_type": "code",
   "execution_count": 9,
   "id": "d38dd51c",
   "metadata": {},
   "outputs": [
    {
     "name": "stdout",
     "output_type": "stream",
     "text": [
      "Odd Number\n",
      "-----------------------------\n",
      "Enter a number to check whether the given number is even or odd :19\n",
      "Odd Number\n"
     ]
    }
   ],
   "source": [
    "#take a number and check whether the number is even or odd using function.\n",
    "\n",
    "\n",
    "def even_odd(n):\n",
    "    if n % 2 == 0:\n",
    "        print(\"Even Number\")\n",
    "    else:\n",
    "        print(\"Odd Number\")\n",
    "        \n",
    "even_odd(19)\n",
    "\n",
    "print(\"-----------------------------\")\n",
    "\n",
    "n= int(input(\"Enter a number to check whether the given number is even or odd :\"))\n",
    "\n",
    "def even_odd(n):\n",
    "    if n % 2 == 0:\n",
    "        print(\"Even Number\")\n",
    "    else:\n",
    "        print(\"Odd Number\")\n",
    "        \n",
    "even_odd(n)\n"
   ]
  },
  {
   "cell_type": "code",
   "execution_count": 10,
   "id": "3a658540",
   "metadata": {},
   "outputs": [
    {
     "name": "stdout",
     "output_type": "stream",
     "text": [
      "14\n"
     ]
    }
   ],
   "source": [
    "#Using random module import function randint\n",
    "\n",
    "from random import randint\n",
    "\n",
    "#Call randint funtction to get random number\n",
    "\n",
    "print(randint(10,20))"
   ]
  },
  {
   "cell_type": "code",
   "execution_count": 15,
   "id": "d1ef9242",
   "metadata": {},
   "outputs": [
    {
     "name": "stdout",
     "output_type": "stream",
     "text": [
      "This function returns factorial of given number\n",
      "\n",
      "    The function return factorial of given no.\n",
      "    number of the factorial \n",
      "    \n",
      "    \n"
     ]
    }
   ],
   "source": [
    "'''\n",
    "Doctstring\n",
    "\n",
    "The documentation string is also called as docstring.\n",
    "\n",
    "It is a descriptive text (like a comment) written by a programmer to let others\n",
    "know what block of code does.\n",
    "\n",
    "We write docstring in source code and define it immediatly after module,class,\n",
    "function defination.\n",
    "\n",
    "It is being declared using triple single quotes ('''   ''') or triple double \n",
    "quotes (\"\"\" \"\"\")\n",
    "\n",
    "We can access docstring using doc veriable (__doc__) for any object like list,\n",
    "tuple, dict etc.\n",
    "\n",
    "'''\n",
    "\n",
    "#single line docstring\n",
    "\n",
    "def factorial(x):\n",
    "    \"\"\"This function returns factorial of given number\"\"\"\n",
    "    return x\n",
    "\n",
    "#access a docstring\n",
    "print(factorial.__doc__)\n",
    "\n",
    "#multi-line doc string\n",
    "\n",
    "def factorial(X):\n",
    "    \"\"\"\n",
    "    The function return factorial of given no.\n",
    "    number of the factorial \n",
    "    \n",
    "    \"\"\"\n",
    "    return X\n",
    "\n",
    "#Accessing a docstring\n",
    "\n",
    "print(factorial.__doc__)\n"
   ]
  },
  {
   "cell_type": "code",
   "execution_count": 2,
   "id": "c4ac93df",
   "metadata": {},
   "outputs": [
    {
     "name": "stdout",
     "output_type": "stream",
     "text": [
      "Help on method randint in module random:\n",
      "\n",
      "randint(a, b) method of random.Random instance\n",
      "    Return random integer in range [a, b], including both end points.\n",
      "\n",
      "None\n"
     ]
    }
   ],
   "source": [
    "from random import randint\n",
    "\n",
    "print(help(randint))"
   ]
  },
  {
   "cell_type": "code",
   "execution_count": 10,
   "id": "f6ec178b",
   "metadata": {},
   "outputs": [
    {
     "name": "stdout",
     "output_type": "stream",
     "text": [
      "[10, 4, 8]\n",
      "--------------------------------------------------------\n",
      "[10, 4, 8]\n"
     ]
    }
   ],
   "source": [
    "'''\n",
    "Return value from a function\n",
    "\n",
    "In python, to return value from the function, return statement is used.\n",
    "\n",
    "It return the value of the expression because of the return keywork.\n",
    "\n",
    "Syntax:- \n",
    "\n",
    "def fun_name():\n",
    "    Statement 1\n",
    "    Statement 2\n",
    "    .\n",
    "    .\n",
    "    return [expression]\n",
    "    \n",
    "\n",
    "The return value is nothing but an outcome of the function.\n",
    "\n",
    "-The return statement ends the function execution.\n",
    "-For function, it is not mendatory to return value.\n",
    "-If a return statement is is used without any expression, then the NONE will \n",
    "return.\n",
    "-The return statement should be inside the function block.\n",
    "\n",
    "'''\n",
    "\n",
    "\n",
    "#Create a list and sort even numbers from that list but using function\n",
    "\n",
    "list1 = [10,25,65,4,8,7,9,11]\n",
    "\n",
    "def is_even(list1):\n",
    "    even_num = []  #empty list\n",
    "    for n in list1: # each element itreate n=10,25,65,4,8\n",
    "        if n % 2 == 0:\n",
    "            even_num.append(n)\n",
    "            \n",
    "    return even_num\n",
    "\n",
    "even_num = is_even(list1)\n",
    "print(even_num)\n",
    "\n",
    "print(\"--------------------------------------------------------\")\n",
    "\n",
    "def is_even(list1):\n",
    "    even_num = []  #empty list\n",
    "    for n in list1: # each element itreate n=10,25,65,4,8\n",
    "        if n % 2 == 0:\n",
    "            even_num.append(n)\n",
    "            \n",
    "    return even_num\n",
    "\n",
    "even_num = is_even( [10,25,65,4,8,7,9,11])\n",
    "print(even_num)\n"
   ]
  },
  {
   "cell_type": "code",
   "execution_count": 11,
   "id": "83e8d163",
   "metadata": {},
   "outputs": [
    {
     "name": "stdout",
     "output_type": "stream",
     "text": [
      "Addition :  12\n",
      "Subtraction :  8\n",
      "Mutiplication :  20\n",
      "Division :  5.0\n",
      "Exponential :  100\n",
      "Floor Division :  5\n"
     ]
    }
   ],
   "source": [
    "#Return Multiple values\n",
    "\n",
    "#WAP to do all the arithmatic operation using function on two numbers and return \n",
    "#all the operation results.\n",
    "\n",
    "def arithmatic(a,b):\n",
    "    add = a + b\n",
    "    sub = a - b\n",
    "    mul = a * b\n",
    "    div = a / b\n",
    "    exp = a ** b\n",
    "    floor_div = a // b\n",
    "    \n",
    "    return add, sub, mul, div, exp, floor_div\n",
    "\n",
    "x,y,z,w,j,k = arithmatic(10,2)\n",
    "\n",
    "print(\"Addition : \",x)\n",
    "print(\"Subtraction : \",y)\n",
    "print(\"Mutiplication : \",z)\n",
    "print(\"Division : \",w)\n",
    "print(\"Exponential : \",j)\n",
    "print(\"Floor Division : \",k)"
   ]
  },
  {
   "cell_type": "code",
   "execution_count": 13,
   "id": "9862807f",
   "metadata": {},
   "outputs": [],
   "source": [
    "#Pass Implementation\n",
    "\n",
    "def addition(num1,num2):\n",
    "    #Implementation of adding function in coming release.\n",
    "    pass\n",
    "\n",
    "addition(10,2)"
   ]
  },
  {
   "cell_type": "code",
   "execution_count": 15,
   "id": "7569600d",
   "metadata": {},
   "outputs": [
    {
     "name": "stdout",
     "output_type": "stream",
     "text": [
      "(50, 15)\n"
     ]
    }
   ],
   "source": [
    "#Function Calling Function\n",
    "\n",
    "def multiply(num1,num2):\n",
    "    result = num1 * num2\n",
    "    return result\n",
    "\n",
    "def add(num1,num2):\n",
    "    result = num1 + num2\n",
    "    return result\n",
    "\n",
    "def calculate(num1,num2):\n",
    "    product = multiply(num1,num2) #Function Calling Function\n",
    "    sum1 = add(num1,num2) #Function Calling Function\n",
    "    return(product,sum1)\n",
    "\n",
    "res = calculate(10,5)\n",
    "\n",
    "print(res)"
   ]
  },
  {
   "cell_type": "code",
   "execution_count": null,
   "id": "ba7bc4d2",
   "metadata": {},
   "outputs": [],
   "source": [
    "#Find the largest and smallest element by defining a function.\n"
   ]
  },
  {
   "cell_type": "code",
   "execution_count": 3,
   "id": "b59e3ab8",
   "metadata": {},
   "outputs": [
    {
     "name": "stdout",
     "output_type": "stream",
     "text": [
      "Python\n",
      "Data Science\n"
     ]
    },
    {
     "ename": "NameError",
     "evalue": "name 'local_lang' is not defined",
     "output_type": "error",
     "traceback": [
      "\u001b[1;31m---------------------------------------------------------------------------\u001b[0m",
      "\u001b[1;31mNameError\u001b[0m                                 Traceback (most recent call last)",
      "\u001b[1;32m~\\AppData\\Local\\Temp\\ipykernel_7732\\3664534355.py\u001b[0m in \u001b[0;36m<module>\u001b[1;34m\u001b[0m\n\u001b[0;32m     31\u001b[0m \u001b[0mprint\u001b[0m\u001b[1;33m(\u001b[0m\u001b[0mglobal_lang\u001b[0m\u001b[1;33m)\u001b[0m\u001b[1;33m\u001b[0m\u001b[1;33m\u001b[0m\u001b[0m\n\u001b[0;32m     32\u001b[0m \u001b[1;33m\u001b[0m\u001b[0m\n\u001b[1;32m---> 33\u001b[1;33m \u001b[0mprint\u001b[0m\u001b[1;33m(\u001b[0m\u001b[0mlocal_lang\u001b[0m\u001b[1;33m)\u001b[0m\u001b[1;33m\u001b[0m\u001b[1;33m\u001b[0m\u001b[0m\n\u001b[0m",
      "\u001b[1;31mNameError\u001b[0m: name 'local_lang' is not defined"
     ]
    }
   ],
   "source": [
    "'''\n",
    "Scope and lifetime of variables\n",
    "\n",
    "When we define a function with variales, then those variables scope is limited \n",
    "to that function.\n",
    "\n",
    "The scope of a variable is an area where a variable is declared.\n",
    "it is called as variable's local scope.\n",
    "\n",
    "We cannot access the local scope variables from outside of the function.\n",
    "Because the scope of local variables are not visible from outside of the\n",
    "function\n",
    "\n",
    "When we are executing a function, those variables life is up to running time.\n",
    "Once we return from the function, those variables get destroyed.\n",
    "\n",
    "SO function does not need to remember the value of a variable from its \n",
    "previous call.\n",
    "\n",
    "'''\n",
    "\n",
    "global_lang = \"Data Science\"\n",
    "\n",
    "def var_scope_test():\n",
    "    local_lang = \"Python\"\n",
    "    print(local_lang)\n",
    "    \n",
    "\n",
    "var_scope_test()\n",
    "\n",
    "#Global Varible access outside the function\n",
    "print(global_lang)\n",
    "\n",
    "#Local Varible access outside the function\n",
    "print(local_lang) #NameError: name 'local_lang' is not defined\n",
    "  "
   ]
  },
  {
   "cell_type": "code",
   "execution_count": 4,
   "id": "ccd36d84",
   "metadata": {},
   "outputs": [
    {
     "name": "stdout",
     "output_type": "stream",
     "text": [
      "Value is : 888\n"
     ]
    },
    {
     "ename": "NameError",
     "evalue": "name 'loc_var' is not defined",
     "output_type": "error",
     "traceback": [
      "\u001b[1;31m---------------------------------------------------------------------------\u001b[0m",
      "\u001b[1;31mNameError\u001b[0m                                 Traceback (most recent call last)",
      "\u001b[1;32m~\\AppData\\Local\\Temp\\ipykernel_7732\\473733579.py\u001b[0m in \u001b[0;36m<module>\u001b[1;34m\u001b[0m\n\u001b[0;32m      9\u001b[0m \u001b[0mfunction1\u001b[0m\u001b[1;33m(\u001b[0m\u001b[1;33m)\u001b[0m\u001b[1;33m\u001b[0m\u001b[1;33m\u001b[0m\u001b[0m\n\u001b[0;32m     10\u001b[0m \u001b[1;33m\u001b[0m\u001b[0m\n\u001b[1;32m---> 11\u001b[1;33m \u001b[0mfunction2\u001b[0m\u001b[1;33m(\u001b[0m\u001b[1;33m)\u001b[0m\u001b[1;33m\u001b[0m\u001b[1;33m\u001b[0m\u001b[0m\n\u001b[0m",
      "\u001b[1;32m~\\AppData\\Local\\Temp\\ipykernel_7732\\473733579.py\u001b[0m in \u001b[0;36mfunction2\u001b[1;34m()\u001b[0m\n\u001b[0;32m      5\u001b[0m \u001b[1;33m\u001b[0m\u001b[0m\n\u001b[0;32m      6\u001b[0m \u001b[1;32mdef\u001b[0m \u001b[0mfunction2\u001b[0m\u001b[1;33m(\u001b[0m\u001b[1;33m)\u001b[0m\u001b[1;33m:\u001b[0m\u001b[1;33m\u001b[0m\u001b[1;33m\u001b[0m\u001b[0m\n\u001b[1;32m----> 7\u001b[1;33m     \u001b[0mprint\u001b[0m\u001b[1;33m(\u001b[0m\u001b[1;34m\"Value is :\"\u001b[0m\u001b[1;33m,\u001b[0m\u001b[0mloc_var\u001b[0m\u001b[1;33m)\u001b[0m\u001b[1;33m\u001b[0m\u001b[1;33m\u001b[0m\u001b[0m\n\u001b[0m\u001b[0;32m      8\u001b[0m \u001b[1;33m\u001b[0m\u001b[0m\n\u001b[0;32m      9\u001b[0m \u001b[0mfunction1\u001b[0m\u001b[1;33m(\u001b[0m\u001b[1;33m)\u001b[0m\u001b[1;33m\u001b[0m\u001b[1;33m\u001b[0m\u001b[0m\n",
      "\u001b[1;31mNameError\u001b[0m: name 'loc_var' is not defined"
     ]
    }
   ],
   "source": [
    "#Local var example\n",
    "\n",
    "def function1():\n",
    "    #Local varible \n",
    "    loc_var = 888\n",
    "    print(\"Value is :\", loc_var)\n",
    "\n",
    "def function2():\n",
    "    print(\"Value is :\",loc_var)\n",
    "    \n",
    "function1()\n",
    "\n",
    "#Local variable access is limited to that funtcion only where its defiend \n",
    "#outside that function it cannot be accessible.\n",
    "\n",
    "function2()"
   ]
  },
  {
   "cell_type": "code",
   "execution_count": 6,
   "id": "22296ff8",
   "metadata": {},
   "outputs": [
    {
     "name": "stdout",
     "output_type": "stream",
     "text": [
      "Value in 1st function : 999\n",
      "Value in 2nd function : 999\n"
     ]
    }
   ],
   "source": [
    "#Example of Global Varibale\n",
    "\n",
    "global_var = 999\n",
    "\n",
    "def function1():\n",
    "    print(\"Value in 1st function :\",global_var)\n",
    "    \n",
    "def function2():\n",
    "    print(\"Value in 2nd function :\",global_var)\n",
    "    \n",
    "function1() #calling 1st function\n",
    "\n",
    "function2()"
   ]
  },
  {
   "cell_type": "code",
   "execution_count": 8,
   "id": "4101246f",
   "metadata": {},
   "outputs": [
    {
     "name": "stdout",
     "output_type": "stream",
     "text": [
      "value in 1st function : 5\n",
      "Value in 2nd function : 555\n",
      "Value in 3rd function : 5\n"
     ]
    }
   ],
   "source": [
    "'''\n",
    "Global Keyword in function \n",
    "\n",
    "In python, global is keyword used to access the actual global varible\n",
    "from outside the function.\n",
    "\n",
    "We use the global keyword for two purpose:\n",
    "1.To declare a global inside the function.\n",
    "2.Declaring a valriable as global, which makes it available to \n",
    "function to perform the modification.\n",
    "\n",
    "'''\n",
    "\n",
    "#Global Var\n",
    "\n",
    "global_var = 5\n",
    "\n",
    "def function1():\n",
    "    print(\"value in 1st function :\",global_var)\n",
    "    \n",
    "def function2():\n",
    "    #modify global var\n",
    "    #function will treat it as local var\n",
    "    global_var = 555\n",
    "    print(\"Value in 2nd function :\",global_var)\n",
    "    \n",
    "def function3():\n",
    "    print(\"Value in 3rd function :\", global_var)\n",
    "    \n",
    "function1()\n",
    "function2()\n",
    "function3()"
   ]
  },
  {
   "cell_type": "code",
   "execution_count": 10,
   "id": "1d8ae011",
   "metadata": {},
   "outputs": [
    {
     "name": "stdout",
     "output_type": "stream",
     "text": [
      "value of 1st function:  5\n",
      "Value of 2nd function:  555\n",
      "value of 3rd function:  555\n"
     ]
    }
   ],
   "source": [
    "x = 5\n",
    "\n",
    "def function1():\n",
    "    print(\"value of 1st function: \", x)\n",
    "    \n",
    "def function2():\n",
    "    #Modify global variable using global keyword\n",
    "    global x\n",
    "    x = 555  \n",
    "    print(\"Value of 2nd function: \", x)\n",
    "    \n",
    "def function3():\n",
    "    print(\"value of 3rd function: \", x)\n",
    "    \n",
    "function1()\n",
    "function2()\n",
    "function3()"
   ]
  },
  {
   "cell_type": "code",
   "execution_count": 11,
   "id": "d3ad0956",
   "metadata": {},
   "outputs": [
    {
     "name": "stdout",
     "output_type": "stream",
     "text": [
      "Value of x inside inner function is : 700\n",
      "Value of x inside outer function is :  700\n"
     ]
    }
   ],
   "source": [
    "#Non local \n",
    "\n",
    "def outer_func():\n",
    "    w = 777\n",
    "    \n",
    "    def inner_func():\n",
    "        #local varibale now acts as global varible\n",
    "        nonlocal w\n",
    "        w = 700\n",
    "        print(\"Value of x inside inner function is :\",w)\n",
    "        \n",
    "    inner_func()\n",
    "    print(\"Value of x inside outer function is : \", w)\n",
    "    \n",
    "outer_func()"
   ]
  },
  {
   "cell_type": "code",
   "execution_count": 1,
   "id": "acdc0ed2",
   "metadata": {},
   "outputs": [
    {
     "name": "stdout",
     "output_type": "stream",
     "text": [
      "Value of x inside inner function is : 700\n",
      "Value of x inside outer function is :  777\n"
     ]
    }
   ],
   "source": [
    "#Non local -- Global keyword will not work in nested function hence we have to\n",
    "#use non-local keyword to declare global variable.\n",
    "\n",
    "def outer_func():\n",
    "    w = 777\n",
    "    \n",
    "    def inner_func():\n",
    "        #local varibale now acts as global varible\n",
    "        global w\n",
    "        w = 700\n",
    "        print(\"Value of x inside inner function is :\",w)\n",
    "        \n",
    "    inner_func()\n",
    "    print(\"Value of x inside outer function is : \", w)\n",
    "\n",
    "    \n",
    "outer_func()"
   ]
  },
  {
   "cell_type": "code",
   "execution_count": 4,
   "id": "b4bd1b0c",
   "metadata": {},
   "outputs": [
    {
     "name": "stdout",
     "output_type": "stream",
     "text": [
      "40\n",
      "-40\n"
     ]
    },
    {
     "ename": "TypeError",
     "evalue": "sub() takes 2 positional arguments but 3 were given",
     "output_type": "error",
     "traceback": [
      "\u001b[1;31m---------------------------------------------------------------------------\u001b[0m",
      "\u001b[1;31mTypeError\u001b[0m                                 Traceback (most recent call last)",
      "\u001b[1;32m~\\AppData\\Local\\Temp\\ipykernel_7532\\1522551999.py\u001b[0m in \u001b[0;36m<module>\u001b[1;34m\u001b[0m\n\u001b[0;32m     36\u001b[0m \u001b[0msub\u001b[0m\u001b[1;33m(\u001b[0m\u001b[1;36m10\u001b[0m\u001b[1;33m,\u001b[0m\u001b[1;36m50\u001b[0m\u001b[1;33m)\u001b[0m \u001b[1;31m#position of arugument interchange --> -40\u001b[0m\u001b[1;33m\u001b[0m\u001b[1;33m\u001b[0m\u001b[0m\n\u001b[0;32m     37\u001b[0m \u001b[1;33m\u001b[0m\u001b[0m\n\u001b[1;32m---> 38\u001b[1;33m \u001b[0msub\u001b[0m\u001b[1;33m(\u001b[0m\u001b[1;36m10\u001b[0m\u001b[1;33m,\u001b[0m\u001b[1;36m50\u001b[0m\u001b[1;33m,\u001b[0m\u001b[1;36m5\u001b[0m\u001b[1;33m)\u001b[0m\u001b[1;33m\u001b[0m\u001b[1;33m\u001b[0m\u001b[0m\n\u001b[0m",
      "\u001b[1;31mTypeError\u001b[0m: sub() takes 2 positional arguments but 3 were given"
     ]
    }
   ],
   "source": [
    "'''\n",
    "Python Function Arguments -\n",
    "\n",
    "Difference betweer parameters and arguments \n",
    "\n",
    "Parameter - It is variable listed inside the parantheses in the function \n",
    "defination.\n",
    "\n",
    "Arguments- It is value sent to the function when it is called.\n",
    "         - Argument is data on which funtion performs some action and return \n",
    "           result.\n",
    "         - The argument can be a value, a variable or an object that we pass\n",
    "           to a function.\n",
    "           \n",
    "There are four types of arguments:-\n",
    "1.Positional Argument\n",
    "2.Keyword Argument\n",
    "3.Default Argument\n",
    "4.Varible-length Argument\n",
    "\n",
    "'''\n",
    "\n",
    "#1.Positional Argument \n",
    "\n",
    "#Positional arguments are that arguments which are are pass to function in \n",
    "#proper positional order\n",
    "\n",
    "#that is, the 1st positional arugument needs to be 1st when function is called.\n",
    "#& same conditon for the second.\n",
    "\n",
    "def sub(a,b):\n",
    "    print(a-b)\n",
    "    \n",
    "sub(50,10)\n",
    "\n",
    "sub(10,50) #position of arugument interchange --> -40\n",
    "\n",
    "sub(10,50,5)"
   ]
  },
  {
   "cell_type": "code",
   "execution_count": 6,
   "id": "9b790d38",
   "metadata": {},
   "outputs": [
    {
     "name": "stdout",
     "output_type": "stream",
     "text": [
      "Hello Niman Saini\n",
      "Hello Sahil Shinde\n",
      "---------------------------------------------------------\n",
      "Hello Sahil Shinde\n",
      "Hello Sahil Shinde\n"
     ]
    }
   ],
   "source": [
    "#Keword Argument is an argument value, passed to a function preceded(key) \n",
    "#by the variable name and an equals to sign.\n",
    "\n",
    "def message(name, surname):\n",
    "    print(\"Hello\",name,surname)\n",
    "    \n",
    "message(name = \"Niman\",surname = \"Saini\")\n",
    "message(surname = \"Shinde\", name = \"Sahil\")\n",
    "\n",
    "print(\"---------------------------------------------------------\")\n",
    "\n",
    "#While using keyword and positional argument simulteniously\n",
    "\n",
    "def message(first_nm,last_nm):\n",
    "    print(\"Hello\",first_nm,last_nm)\n",
    "    \n",
    "#Correct use \n",
    "message(\"Sahil\",\"Shinde\")\n",
    "message(\"Sahil\",last_nm = \"Shinde\")\n",
    "\n",
    "#Syntax Error\n",
    "#SyntaxError: positional argument follows keyword argument\n",
    "#message(first_nm = \"Sahil\",\"Shinde\")"
   ]
  },
  {
   "cell_type": "code",
   "execution_count": 8,
   "id": "a07dbfcc",
   "metadata": {},
   "outputs": [
    {
     "name": "stdout",
     "output_type": "stream",
     "text": [
      "Hello Sahil\n",
      "Hello Guest\n"
     ]
    }
   ],
   "source": [
    "'''\n",
    "Default Arguments \n",
    "\n",
    "Default Arguments take the defalut value during the function call if we do not\n",
    "pass them.\n",
    "\n",
    "we can assign default value to an argument in the function defination using \n",
    "the  =  assignment operator.\n",
    "\n",
    "'''\n",
    "\n",
    "#Function with default argument\n",
    "\n",
    "def message(name = \"Guest\"):\n",
    "    print(\"Hello\",name)\n",
    "    \n",
    "message(\"Sahil\")\n",
    "message()"
   ]
  },
  {
   "cell_type": "code",
   "execution_count": 10,
   "id": "ec9c49de",
   "metadata": {},
   "outputs": [
    {
     "name": "stdout",
     "output_type": "stream",
     "text": [
      "Sum is  0\n",
      "Sum is  31\n"
     ]
    }
   ],
   "source": [
    "'''\n",
    "Variable-length Argument\n",
    "\n",
    "In python, Sometimes there is a situation where we need to pass multiple number \n",
    "of arguments to the function.\n",
    "\n",
    "such type of arguments are called variable-length arguments.\n",
    "We can declare variable length argument with the *(asterisk) symbol.\n",
    "\n",
    "def func_name(*var):\n",
    "      function body\n",
    "\n",
    "'''\n",
    "\n",
    "#We can pass any number of arguments to this function.\n",
    "#Internally all these values represented in the form of tuple.\n",
    "\n",
    "def addition(*numbers):\n",
    "    total = 0\n",
    "    for no in numbers:\n",
    "        total = total + no\n",
    "    print(\"Sum is \",total)\n",
    "\n",
    "#0 arguments passed\n",
    "addition()\n",
    "\n",
    "#5 arguments \n",
    "addition(10,5,2,6,8)\n"
   ]
  },
  {
   "cell_type": "code",
   "execution_count": 11,
   "id": "6dcaaec4",
   "metadata": {},
   "outputs": [
    {
     "name": "stdout",
     "output_type": "stream",
     "text": [
      "Factorial of number is :  40320\n"
     ]
    }
   ],
   "source": [
    "'''\n",
    "Resursive Function\n",
    "\n",
    "A recursive function is a function that calls itself, again and again.\n",
    "\n",
    "Cosider, calculating the factorial of number is a repetative activity,\n",
    "in this case we call a function again and again , whihc calulates factorial.\n",
    "\n",
    "factorial(5)\n",
    "\n",
    "5 * factorial(4)\n",
    "5 * 4 * factorial(3)\n",
    "5 * 4 * 3 * factorial(2)\n",
    "5 * 4 * 3 * 2 * factorial(1)\n",
    "\n",
    "5*4*3*2*1 = 120\n",
    "\n",
    "The advantages of recursive function\n",
    "\n",
    "1.Reduce length of code\n",
    "2.Improve readability\n",
    "3.useful for solving complex problem\n",
    "\n",
    "Disadvantages: \n",
    "\n",
    "1.takes more memory and execution time.\n",
    "2.debugging is not easy\n",
    "\n",
    "'''\n",
    "\n",
    "def factorial(no):\n",
    "    if no == 0:\n",
    "        return 1\n",
    "    else:\n",
    "        return no * factorial(no-1) #--> 8 * 7 * 6 * 5 * 4 * 3 * 2 * 1  \n",
    "    \n",
    "print(\"Factorial of number is : \",factorial(8))"
   ]
  },
  {
   "cell_type": "code",
   "execution_count": 16,
   "id": "1590f938",
   "metadata": {},
   "outputs": [
    {
     "name": "stdout",
     "output_type": "stream",
     "text": [
      "Even numbers are  [10, 78, 6, 8]\n",
      "-------------------------------------\n",
      "[6, 8, 10]\n",
      "--------------------------------------\n",
      "Even Nos [10, 8, 8, 2, 12]\n"
     ]
    }
   ],
   "source": [
    "'''\n",
    "Python Lambda Function / Anonymous Functions\n",
    "\n",
    "Lambda function can take any number of arguments, but can only have one \n",
    "expression.\n",
    "\n",
    "Sometime we need to declare a function without name.\n",
    "The nameless property of function is called lambda func or anonymous function.\n",
    "\n",
    "The reson behind using lambda function is for instant use,\n",
    "that is one-time usage.\n",
    "\n",
    "Normal function is decalred using the def keyword, whereas the lambda function\n",
    "is declared by using lambda keyword.\n",
    "\n",
    "In opposite to normal function, lambda function is a single expression\n",
    "But in lambda body, we can expand the expression over multiple lines \n",
    "using parentheses.\n",
    "ex : lambda n : n + n\n",
    "\n",
    "\n",
    "Syntax Lambda function:\n",
    "\n",
    "lambda argument_list : expression\n",
    "\n",
    "ex- \n",
    "even_nos = list(filter(lambda x : x % 2 == 0, l1))\n",
    "\n",
    "\n",
    "- Lambda function can have any number of arguments but return only one value \n",
    "after expression evaluation.\n",
    "- We need not required to write return statement explicitly in lambda function\n",
    "beacause lambda function automatically return expression value.\n",
    "\n",
    "'''\n",
    "\n",
    "#Wap to filter out even numbers from the list without lambda function\n",
    "\n",
    "def even_numbers(nums):\n",
    "    even_list = []\n",
    "    for n in nums:\n",
    "        if n % 2 == 0:\n",
    "            even_list.append(n)\n",
    "    return even_list\n",
    "\n",
    "num_list = [10,5,78,15,5,6,8]\n",
    "\n",
    "res = even_numbers(num_list)\n",
    "\n",
    "print(\"Even numbers are \", res)\n",
    "\n",
    "print(\"-------------------------------------\")\n",
    "\n",
    "#using list comprehension\n",
    "\n",
    "n = [3,5,6,8,9,10]\n",
    "\n",
    "filter_list = [i for i in n if i % 2 == 0]\n",
    "\n",
    "print(filter_list)\n",
    "\n",
    "print(\"--------------------------------------\")\n",
    "\n",
    "#Using lambda funtcion\n",
    "\n",
    "l = [10,8,9,45,7,8,9,2,5,12]\n",
    "\n",
    "even_nos = list(filter(lambda x : x % 2 == 0, l))\n",
    "\n",
    "print(\"Even Nos\", even_nos)"
   ]
  },
  {
   "cell_type": "code",
   "execution_count": 1,
   "id": "5e567318",
   "metadata": {},
   "outputs": [
    {
     "name": "stdout",
     "output_type": "stream",
     "text": [
      "[5, 12, 6, 9]\n"
     ]
    }
   ],
   "source": [
    "#Example lambada function with filter(expression,sequence)\n",
    "#Filter() function in python\n",
    "\n",
    "#The filter() function is used to return the filtered values.\n",
    "\n",
    "#Syntax\n",
    "#filter(function,sequence)\n",
    "\n",
    "#where\n",
    "#function - function argumnet is responsible for performing condition cheking\n",
    "#sequence - sequence argument can be anything like string, tuple, list.\n",
    "\n",
    "#Filter out positive values from the given list using lambda funtion\n",
    "\n",
    "l = [-10,5,12,-78,6,-1,-7,9]\n",
    "\n",
    "#lambda argument_list : expression\n",
    "\n",
    "pos_num=list(filter(lambda x : x>0, l))\n",
    "print(pos_num)"
   ]
  },
  {
   "cell_type": "code",
   "execution_count": 2,
   "id": "72cc1da0",
   "metadata": {},
   "outputs": [
    {
     "name": "stdout",
     "output_type": "stream",
     "text": [
      "8\n"
     ]
    }
   ],
   "source": [
    "#Add two values using lambda function\n",
    "\n",
    "add = lambda x,y:x+y\n",
    "\n",
    "result = add(3,5)\n",
    "print(result)"
   ]
  },
  {
   "cell_type": "code",
   "execution_count": 6,
   "id": "ff7b6bb2",
   "metadata": {},
   "outputs": [
    {
     "name": "stdout",
     "output_type": "stream",
     "text": [
      "125\n",
      "---------------------------------------------------------\n",
      "[8, 27, 64, 125, 216]\n",
      "[8, 27, 64, 125, 216]\n"
     ]
    }
   ],
   "source": [
    "#Take a number and make its cube using lambda function\n",
    "\n",
    "cube = lambda x : x*x*x\n",
    "\n",
    "res = cube(5)\n",
    "print(res)\n",
    "\n",
    "print(\"---------------------------------------------------------\")\n",
    "\n",
    "#map() function in python\n",
    "\n",
    "#The map() function is used to apply some functionality for \n",
    "#every element present in the given sequence and generate a new series with \n",
    "#required modification\n",
    "\n",
    "#Syntax\n",
    "# map(function,sequence)\n",
    "\n",
    "#where\n",
    "#function - function argumnet is responsible for performing condition cheking\n",
    "#sequence - sequence argument can be anything like string, tuple, list.\n",
    "\n",
    "#Make a cube of each element inside a list into another list using lambda.\n",
    "\n",
    "l = [2,3,4,5,6]\n",
    "\n",
    "list1 = list(map(lambda x : x*x*x , l))\n",
    "print(list1)\n",
    "\n",
    "print(\"-----------------------------------------\")\n",
    "\n",
    "#list_comprehension\n",
    "l = [2,3,4,5,6]\n",
    "list1 = [x*x*x for x in l]\n",
    "print(list1)\n",
    "\n",
    "print(\"--------------------------------------------\")\n",
    "\n",
    "#BY HON. Mr. Nirman Sir -->\n",
    "\n",
    "l = [2, 3, 4, 5, 6]\n",
    "\n",
    "result = (lambda lst: [x**3 for x in lst])(l)\n",
    "\n",
    "print(result)"
   ]
  },
  {
   "cell_type": "code",
   "execution_count": 10,
   "id": "0b5ab437",
   "metadata": {},
   "outputs": [
    {
     "name": "stdout",
     "output_type": "stream",
     "text": [
      "[2, 3, 4, 5, 6]\n",
      "[8, 27, 64, 125, 216]\n"
     ]
    }
   ],
   "source": [
    "l = [2,3,4,5,6]\n",
    "res = [i for i in l]\n",
    "print(res)\n",
    "\n",
    "list1 = list(map(lambda i : i*i*i , res ))\n",
    "print(list1)"
   ]
  },
  {
   "cell_type": "code",
   "execution_count": 11,
   "id": "e2eaec89",
   "metadata": {},
   "outputs": [
    {
     "name": "stdout",
     "output_type": "stream",
     "text": [
      "54\n"
     ]
    }
   ],
   "source": [
    "#Sum all the elements present inside a list and give me a single value.\n",
    "\n",
    "from functools import reduce\n",
    "\n",
    "l = [20,13,4,8,9]\n",
    "\n",
    "add = reduce(lambda x,y : x+y, l)\n",
    "\n",
    "print(add)\n"
   ]
  },
  {
   "cell_type": "code",
   "execution_count": 13,
   "id": "6b5e1ca5",
   "metadata": {},
   "outputs": [
    {
     "name": "stdout",
     "output_type": "stream",
     "text": [
      "6\n"
     ]
    }
   ],
   "source": [
    "#Find the maximum element in the list using lambda and reduce()\n",
    "\n",
    "from functools import reduce\n",
    "\n",
    "l = [2,3,1,5,6]\n",
    "\n",
    "Max_val = reduce(lambda a, b : a if a > b else b, l)\n",
    "print(Max_val)"
   ]
  },
  {
   "cell_type": "code",
   "execution_count": null,
   "id": "ec4376ae",
   "metadata": {},
   "outputs": [],
   "source": [
    "#There is list of ages of people from that you have to \n",
    "#sort age which is greater than 18 using lambda function.\n",
    "\n"
   ]
  },
  {
   "cell_type": "code",
   "execution_count": null,
   "id": "7a0d67ba",
   "metadata": {},
   "outputs": [],
   "source": [
    "#Take a list of animals in lower case and make each letter in upper case \n",
    "\n"
   ]
  },
  {
   "cell_type": "code",
   "execution_count": 15,
   "id": "da11d69a",
   "metadata": {},
   "outputs": [
    {
     "name": "stdout",
     "output_type": "stream",
     "text": [
      "10\n",
      "20\n",
      "30\n",
      "40\n"
     ]
    }
   ],
   "source": [
    "#Take a range of numbers (1,5) and multipy each number by 10 and print each \n",
    "#item.\n",
    "\n",
    "mul_list = [lambda arg = x : arg*10 for x in range(1,5)]\n",
    "\n",
    "for item in mul_list:\n",
    "    print(item())"
   ]
  }
 ],
 "metadata": {
  "kernelspec": {
   "display_name": "Python 3 (ipykernel)",
   "language": "python",
   "name": "python3"
  },
  "language_info": {
   "codemirror_mode": {
    "name": "ipython",
    "version": 3
   },
   "file_extension": ".py",
   "mimetype": "text/x-python",
   "name": "python",
   "nbconvert_exporter": "python",
   "pygments_lexer": "ipython3",
   "version": "3.9.12"
  }
 },
 "nbformat": 4,
 "nbformat_minor": 5
}
