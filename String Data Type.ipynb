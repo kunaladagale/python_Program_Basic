{
 "cells": [
  {
   "cell_type": "code",
   "execution_count": 1,
   "id": "aacccf21",
   "metadata": {},
   "outputs": [
    {
     "name": "stdout",
     "output_type": "stream",
     "text": [
      "<class 'str'>\n"
     ]
    }
   ],
   "source": [
    "'''\n",
    "1. str data type - String is a sequence of character enclosed within single or double quote.\n",
    "\n",
    "This character could be anything like letters, numbers or special symbols enclosed within single or\n",
    "double quotation marks.\n",
    "\n",
    "Once a string is created, we can do many operations on it, such as searching substring inside it,\n",
    "splitting string etc.\n",
    "\n",
    "The string is immutable i.e. it can not be changed once it defined.\n",
    "\n",
    "Non-changable behaviour is called immutability.\n",
    "\n",
    "'''\n",
    "\n",
    "#Define string\n",
    "\n",
    "text = \"Hello World\"\n",
    "print(type(text))\n"
   ]
  },
  {
   "cell_type": "code",
   "execution_count": 8,
   "id": "a5ad1f40",
   "metadata": {},
   "outputs": [
    {
     "name": "stdout",
     "output_type": "stream",
     "text": [
      "Hello\n",
      "Hello\n",
      "World\n",
      "d\n",
      " Worl\n",
      "HloWr\n"
     ]
    }
   ],
   "source": [
    "#Get the substring from 0 to 4 (up to 4 , index - 5, end will be excluded )\n",
    "\n",
    "#-11 -10  -9   -8   -7   -6   -5   -4   -3   -2   -1   #Negative Index\n",
    "#0    1    2    3    4    5    6    7    8    9    10  #Positive Index\n",
    "#H    e    l    l    o         W    o    r    l    d   #Str\n",
    "\n",
    "text = \"Hello World\"\n",
    "substring1 = text[0:5]\n",
    "print(substring1)\n",
    "\n",
    "#another way to write slicing (defalut starts with 0)\n",
    "\n",
    "substr2 = text[:5]\n",
    "print(substr2)\n",
    "\n",
    "#Get substring from index 6 to end.\n",
    "print(text[6:])\n",
    "\n",
    "#Get the last character of the string.\n",
    "print(text[-1])\n",
    "\n",
    "#Get substr using negative indexing starts with -6 to -1.\n",
    "\n",
    "print(text[-6:-1])\n",
    "\n",
    "#Slice with a step value of 2, starting index 0 and end will be 10.\n",
    "\n",
    "print(text[0:10:2])"
   ]
  },
  {
   "cell_type": "code",
   "execution_count": 19,
   "id": "ee757a83",
   "metadata": {},
   "outputs": [
    {
     "name": "stdout",
     "output_type": "stream",
     "text": [
      "Deiraj\n"
     ]
    }
   ],
   "source": [
    "'''\n",
    "str1 = \"Kaustubh\"\n",
    "\n",
    "print(str1[2])\n",
    "\n",
    "str1[2] = \"a\" #string is immutable hence giving an typeError.\n",
    "\n",
    "'''\n",
    "# So there is an another approch ,you can replace a letter by using replace function\n",
    "\n",
    "str1 = \"Dhiraj\"\n",
    "str1=str1.replace(\"h\",\"e\")\n",
    "print(str1)\n"
   ]
  },
  {
   "cell_type": "code",
   "execution_count": 19,
   "id": "ca8dc7b4",
   "metadata": {},
   "outputs": [
    {
     "name": "stdout",
     "output_type": "stream",
     "text": [
      "My name is sahil. my\n"
     ]
    }
   ],
   "source": [
    "#capitalize() - method  - used to make first letter of sentence to capital\n",
    "\n",
    "str = \"my name is sahil. my\"\n",
    "print(str.capitalize())"
   ]
  },
  {
   "cell_type": "code",
   "execution_count": 21,
   "id": "14dcf033",
   "metadata": {},
   "outputs": [
    {
     "name": "stdout",
     "output_type": "stream",
     "text": [
      "my name is kaustubh\n"
     ]
    }
   ],
   "source": [
    "#casefold() method - capital latter string convert into lowercase\n",
    "\n",
    "str = \"my name is KAUSTUbh\"\n",
    "print(str.casefold())"
   ]
  },
  {
   "cell_type": "code",
   "execution_count": 1,
   "id": "a0d24ebb",
   "metadata": {},
   "outputs": [
    {
     "name": "stdout",
     "output_type": "stream",
     "text": [
      "########DEMO#######\n",
      "        DEMO        \n"
     ]
    }
   ],
   "source": [
    "#center() method - align string centrally\n",
    "#signature - str.center(width, fillchar = ' ')\n",
    "\n",
    "#In the str.center(width.fillchar) method, width parameter specifies total width of the resulting\n",
    "#string after centering the original string within it.\n",
    "\n",
    "str = 'DEMO'\n",
    "\n",
    "print(str.center(19,'#'))\n",
    "print(str.center(20,' '))"
   ]
  },
  {
   "cell_type": "code",
   "execution_count": 29,
   "id": "bdc54925",
   "metadata": {},
   "outputs": [
    {
     "name": "stdout",
     "output_type": "stream",
     "text": [
      "2\n",
      "6\n",
      "2\n",
      "4\n"
     ]
    }
   ],
   "source": [
    "#count() - count the word i.e. serch the appearance of the world(stream) in sentence.\n",
    "\n",
    "str1 = 'This is demo. This is another demo.'\n",
    "print(str1.count('demo'))\n",
    "\n",
    "print(str1.count(\" \"))\n",
    "\n",
    "#can give search index i.e start and end\n",
    "print(str1.count(\"i\",0,12)) \n",
    "\n",
    "print(str1.count(\" \",12)) # only starting index \n"
   ]
  },
  {
   "cell_type": "code",
   "execution_count": 7,
   "id": "f1d2915e",
   "metadata": {},
   "outputs": [
    {
     "name": "stdout",
     "output_type": "stream",
     "text": [
      "14\n",
      "35\n"
     ]
    }
   ],
   "source": [
    "#find() - use to search the occurance of index of specific words first letter's from string.\n",
    "\n",
    "str1 = \"this is first text. This is second text\"\n",
    "print(str1.find(\"text\")) # on the 14th index we find 't' letter from the 'text' stream.\n",
    "\n",
    "print(str1.find(\"text\",20,40)) # stream,starting search index, end search index\n"
   ]
  },
  {
   "cell_type": "code",
   "execution_count": 8,
   "id": "28bf93c3",
   "metadata": {},
   "outputs": [
    {
     "name": "stdout",
     "output_type": "stream",
     "text": [
      "14\n",
      "9\n"
     ]
    }
   ],
   "source": [
    "#index() - find the index of the first occurance if the specific value or letter\n",
    "\n",
    "str1 = \"This is first text.\"\n",
    "print(str1.index('text'))\n",
    "\n",
    "print(str1.index(\"i\",9,12))"
   ]
  },
  {
   "cell_type": "code",
   "execution_count": 43,
   "id": "c808175d",
   "metadata": {},
   "outputs": [
    {
     "name": "stdout",
     "output_type": "stream",
     "text": [
      "True\n",
      "False\n",
      "True\n"
     ]
    }
   ],
   "source": [
    "#endswith() - if string with specific value true is return true else it will return false.\n",
    "\n",
    "str1 = \"This is demo text. This is demo text2\"\n",
    "print(str1.endswith(\"text2\"))\n",
    "\n",
    "print(str1.endswith(\"text\"))\n",
    "\n",
    "print(str1.endswith(\"text\", 7, 17))"
   ]
  },
  {
   "cell_type": "code",
   "execution_count": 51,
   "id": "f979984e",
   "metadata": {},
   "outputs": [
    {
     "name": "stdout",
     "output_type": "stream",
     "text": [
      "D       E       M       O\n",
      "D E M O\n"
     ]
    }
   ],
   "source": [
    "#expandtabs() - use to set the tab size >> by default tab size is 8\n",
    "\n",
    "str1 = \"D\\tE\\tM\\tO\"\n",
    "print(str1.expandtabs()) #by defalut 8 tab\n",
    "print(str1.expandtabs(2)) # tab 2\n",
    "\n"
   ]
  },
  {
   "cell_type": "code",
   "execution_count": 61,
   "id": "0a48f480",
   "metadata": {},
   "outputs": [
    {
     "name": "stdout",
     "output_type": "stream",
     "text": [
      "True\n",
      "False\n"
     ]
    }
   ],
   "source": [
    "#isalnum() - which return true if all the characters in perticular word(stream) are alphanumeric, else \n",
    "#will return false.\n",
    "\n",
    "str1 = 'jemesBond007'\n",
    "print(str1.isalnum())\n",
    "\n",
    "str1 = 'jemesBond  007'#alphanumeric >> alphabets as well as numbers contain in that perticualr string, \n",
    "#here space comes in betwen them.\n",
    "\n",
    "print(str1.isalnum())"
   ]
  },
  {
   "cell_type": "code",
   "execution_count": 1,
   "id": "d3c56c49",
   "metadata": {},
   "outputs": [
    {
     "name": "stdout",
     "output_type": "stream",
     "text": [
      "True\n",
      "False\n",
      "False\n"
     ]
    }
   ],
   "source": [
    "#isalpha() - which return true if all the characters in perticular word(stream) are alphabets only, else \n",
    "#will return false.\n",
    "\n",
    "str1 = 'jemesBond'\n",
    "print(str1.isalpha())\n",
    "\n",
    "str1 = 'jemes Bond'\n",
    "print(str1.isalpha())\n",
    "\n",
    "str2=\"james007\"\n",
    "print(str2.isalpha())\n"
   ]
  },
  {
   "cell_type": "code",
   "execution_count": 65,
   "id": "d72d60f0",
   "metadata": {},
   "outputs": [
    {
     "name": "stdout",
     "output_type": "stream",
     "text": [
      "True\n",
      "False\n"
     ]
    }
   ],
   "source": [
    "#isdecimal() - retuen true if all the characters in the stream are decimal\n",
    "\n",
    "str1 = \"37\"\n",
    "print(str1.isdecimal())\n",
    "\n",
    "\n",
    "str1 = \"fd37\"\n",
    "print(str1.isdecimal())"
   ]
  },
  {
   "cell_type": "code",
   "execution_count": 2,
   "id": "128e45ae",
   "metadata": {},
   "outputs": [
    {
     "name": "stdout",
     "output_type": "stream",
     "text": [
      "True\n",
      "False\n",
      "False\n"
     ]
    }
   ],
   "source": [
    "#isdigit() -- Returns true if all char. in stram are digits.\n",
    "\n",
    "str1 = '54115'\n",
    "print(str1.isdigit())\n",
    "\n",
    "a=\"123.12\"\n",
    "print(a.isdigit())\n",
    "\n",
    "str1 = '54115sdg'\n",
    "print(str1.isdigit())\n"
   ]
  },
  {
   "cell_type": "code",
   "execution_count": 7,
   "id": "e8396e57",
   "metadata": {},
   "outputs": [
    {
     "name": "stdout",
     "output_type": "stream",
     "text": [
      "True\n",
      "False\n"
     ]
    }
   ],
   "source": [
    "#isidentifer() : returns true if string is an identifier.\n",
    "#identifier - identifier include value a-z, 0-9 and _.\n",
    "#It won't begin with numbers and do not have spaces between two words.\n",
    "\n",
    "str1 = \"demo888_\"\n",
    "print(str1.isidentifier())\n",
    "\n",
    "str2 = \"demo 888_\"\n",
    "print(str2.isidentifier())"
   ]
  },
  {
   "cell_type": "code",
   "execution_count": 3,
   "id": "c3633674",
   "metadata": {},
   "outputs": [
    {
     "name": "stdout",
     "output_type": "stream",
     "text": [
      "True\n",
      "False\n"
     ]
    }
   ],
   "source": [
    "#islower() - returns true if all the character inside the string is in lower.\n",
    "\n",
    "str1 = \"my name is akash\"\n",
    "print(str1.islower())\n",
    "\n",
    "str2=\"Kunal DEepak Adagale\"\n",
    "print(str2.islower())"
   ]
  },
  {
   "cell_type": "code",
   "execution_count": 10,
   "id": "7fa589af",
   "metadata": {},
   "outputs": [
    {
     "name": "stdout",
     "output_type": "stream",
     "text": [
      "False\n",
      "True\n"
     ]
    }
   ],
   "source": [
    "#isnumeric - returns true if all the character inside the string are numeric.\n",
    "\n",
    "str1 = \"my name is akash\"\n",
    "print(str1.isnumeric())\n",
    "\n",
    "str2 = \"888\"\n",
    "print(str2.isnumeric())"
   ]
  },
  {
   "cell_type": "code",
   "execution_count": 66,
   "id": "1e7f2d27",
   "metadata": {},
   "outputs": [
    {
     "name": "stdout",
     "output_type": "stream",
     "text": [
      "True\n",
      "True\n",
      "True\n",
      "True\n",
      "False\n",
      "False\n"
     ]
    }
   ],
   "source": [
    "#isprintable() - returns true if all characters is printable.\n",
    "\n",
    "str1 = \"sylvester\"\n",
    "print(str1.isprintable())\n",
    "\n",
    "str1 = \"sylvester8\"\n",
    "print(str1.isprintable())\n",
    "\n",
    "str1 = \"@sylvester@  8  5\"\n",
    "print(str1.isprintable())\n",
    "\n",
    "str2 = \"5555\"\n",
    "print(str2.isprintable())\n",
    "\n",
    "\n",
    "str3 = \"This is a String \\nwith a newline character\"\n",
    "print(str3.isprintable())\n",
    "\n",
    "str3 = \"This is a String \\bwith a newline character\"\n",
    "print(str3.isprintable())"
   ]
  },
  {
   "cell_type": "code",
   "execution_count": 20,
   "id": "e26d634d",
   "metadata": {},
   "outputs": [
    {
     "name": "stdout",
     "output_type": "stream",
     "text": [
      "True\n",
      "False\n",
      "False\n"
     ]
    }
   ],
   "source": [
    "#isspace() - retruns true if all the characters in the string are white spaces.\n",
    "\n",
    "\n",
    "str1 = \"        \"\n",
    "print(str1.isspace())\n",
    "\n",
    "str2 = \"Anshika           \"\n",
    "print(str2.isspace())\n",
    "\n",
    "str3 = \"\"\n",
    "print(str3.isspace())"
   ]
  },
  {
   "cell_type": "code",
   "execution_count": 5,
   "id": "0407e75d",
   "metadata": {},
   "outputs": [
    {
     "name": "stdout",
     "output_type": "stream",
     "text": [
      "False\n",
      "True\n",
      "True\n"
     ]
    }
   ],
   "source": [
    "#istitle() - returns true if all the string considers the rule  of title.\n",
    "#title should be starts with upper class (capital lettter).\n",
    "\n",
    "\n",
    "str1 = \"This is python class\"\n",
    "print(str1.istitle())\n",
    "\n",
    "str1 = \"Kaustubh Is\"\n",
    "print(str1.istitle())\n",
    "\n",
    "str2=\"Kaustubh\"\n",
    "print(str2.istitle())\n"
   ]
  },
  {
   "cell_type": "code",
   "execution_count": 24,
   "id": "fde8ada9",
   "metadata": {},
   "outputs": [
    {
     "name": "stdout",
     "output_type": "stream",
     "text": [
      "False\n",
      "True\n"
     ]
    }
   ],
   "source": [
    "#isupper() -  returns true if char inside string are upper case \n",
    "\n",
    "str1 = \"Kaustubh DANWADKAR\"\n",
    "print(str1.isupper())\n",
    "\n",
    "\n",
    "str1 = \"DANWADKAR\"\n",
    "print(str1.isupper())\n"
   ]
  },
  {
   "cell_type": "code",
   "execution_count": 31,
   "id": "301a291a",
   "metadata": {},
   "outputs": [
    {
     "name": "stdout",
     "output_type": "stream",
     "text": [
      "kaustubh danwadkar\n",
      "KAUSTUBH DANWADKAR\n"
     ]
    }
   ],
   "source": [
    "#lower() - convert upper case letter to lower case \n",
    "\n",
    "str1 = \"Kaustubh DANWADKAR\"\n",
    "print(str1.lower())\n",
    "\n",
    "\n",
    "#upper() - convert lower case letter to upper case\n",
    "\n",
    "str1 = \"Kaustubh DANWADKAR\"\n",
    "print(str1.upper())\n"
   ]
  },
  {
   "cell_type": "code",
   "execution_count": 11,
   "id": "5dac29e4",
   "metadata": {},
   "outputs": [
    {
     "name": "stdout",
     "output_type": "stream",
     "text": [
      "Morgen/Frank/Shaun/Scarlet\n",
      "j e m s   k a u s t u b h   r o s h a n i   a n s h i k a\n",
      "jems kaustubh roshani anshika\n"
     ]
    }
   ],
   "source": [
    "#Join() - Use to join the iterableelements to the end of the string.\n",
    "#Containers such as tuple, lists, dictionaries etc. are the iterables in python.\n",
    "\n",
    "str1 = {\"Frank\",\"Shaun\",\"Scarlet\",\"Morgen\"}\n",
    "\n",
    "sep = \"/\"  # --> Delimeter - all the elements will be join together.\n",
    "\n",
    "print(sep.join(str1))\n",
    "\n",
    "str2 = \"jems kaustubh roshani anshika\"\n",
    "spece = \" \"\n",
    "print(spece.join(str2))\n",
    "\n",
    "str3 = [\"jems\", \"kaustubh\", \"roshani\", \"anshika\"]\n",
    "print(spece.join(str3))"
   ]
  },
  {
   "cell_type": "code",
   "execution_count": 3,
   "id": "55d717f6",
   "metadata": {},
   "outputs": [
    {
     "name": "stdout",
     "output_type": "stream",
     "text": [
      "Hello\n"
     ]
    }
   ],
   "source": [
    "#strip() - will strip # from both sides\n",
    "\n",
    "str1 = \"##########Hello########\"\n",
    "print(str1.strip(\"#\"))"
   ]
  },
  {
   "cell_type": "code",
   "execution_count": 45,
   "id": "a9e1bdfe",
   "metadata": {},
   "outputs": [
    {
     "name": "stdout",
     "output_type": "stream",
     "text": [
      "STRENGER THINGS\n",
      "TRENGER THINGS\n",
      "il\n",
      "TRENGER\n",
      "trenger\n",
      "-----------------------------------------------------------------\n",
      "ROSHANISTRENGE\n",
      "ROSHANI\n"
     ]
    }
   ],
   "source": [
    "#lstrip() - use to remove character from left of the string.\n",
    "\n",
    "str1 = \"##########STRENGER THINGS\"\n",
    "print(str1.lstrip('#'))\n",
    "\n",
    "str2 = \"ROSHNISTRENGER THINGS\" #S IS DOUBLE IN SAME STREAM TH\n",
    "print(str2.lstrip('ROSHNI'))\n",
    "\n",
    "str3 = \"kaustubhsahil\"\n",
    "print(str3.lstrip(\"kaustubh\"))\n",
    "\n",
    "str4 = \"ROSHANISTRENGER\"\n",
    "print(str4.lstrip(\"ROSHANI\"))\n",
    "\n",
    "str5 = str4.lower()\n",
    "print(str5.lstrip('roshani'))\n",
    "\n",
    "print(\"-----------------------------------------------------------------\")\n",
    "\n",
    "#rstrip\n",
    "\n",
    "str4 = \"ROSHANISTRENGER\"\n",
    "print(str4.rstrip(\"ROSHANI\"))\n",
    "\n",
    "str4 = \"ROSHANI#############\"\n",
    "print(str4.rstrip(\"#\"))"
   ]
  },
  {
   "cell_type": "code",
   "execution_count": 55,
   "id": "d671055f",
   "metadata": {},
   "outputs": [
    {
     "name": "stdout",
     "output_type": "stream",
     "text": [
      "This is text. This is another text\n",
      "This is text. This is another text\n",
      "This is text. This is another text\n"
     ]
    }
   ],
   "source": [
    "#replace() -  use to replace a value with another value\n",
    "#Just put old value to be search in replace method with the value to be replace.\n",
    "\n",
    "str1 = 'This is demo. This is another demo'\n",
    "print(str1.replace(\"demo\",\"text\",2))\n",
    "\n",
    "#you can put 3rd parameter i.e. the repeat value to be repalced.\n",
    "\n",
    "#In above we put 3rd parameter 2 beacuse we want to replace a word 'demo' twice by word 'text'.\n",
    "\n",
    "str1 = 'This is demo. This is another demo'\n",
    "print(str1.replace(\"demo\",\"text\",2))\n",
    "\n",
    "str1 = 'This is demo. This is another demo'\n",
    "print(str1.replace(\"demo\",\"text\"))\n"
   ]
  },
  {
   "cell_type": "code",
   "execution_count": 59,
   "id": "d284f54f",
   "metadata": {},
   "outputs": [
    {
     "name": "stdout",
     "output_type": "stream",
     "text": [
      "30\n",
      "48\n"
     ]
    }
   ],
   "source": [
    "#rfind() - Use to find the last occurance of value in the string\n",
    "\n",
    "str1 = 'This is demo. This is another demo'\n",
    "print(str1.rfind(\"demo\"))\n",
    "\n",
    "str1 = 'This is demo. This is another demo. Yet another demo'\n",
    "print(str1.rfind(\"demo\"))\n"
   ]
  },
  {
   "cell_type": "code",
   "execution_count": 60,
   "id": "117e6a4f",
   "metadata": {},
   "outputs": [
    {
     "name": "stdout",
     "output_type": "stream",
     "text": [
      "30\n"
     ]
    }
   ],
   "source": [
    "#rindex()- Use to get index of last occurace of the specific value similar to rfind.\n",
    "\n",
    "str1 = 'This is demo. This is another demo'\n",
    "print(str1.rindex(\"demo\"))"
   ]
  },
  {
   "cell_type": "code",
   "execution_count": 63,
   "id": "e3d3c5b5",
   "metadata": {},
   "outputs": [
    {
     "name": "stdout",
     "output_type": "stream",
     "text": [
      "AAAAAAAAAAAmerican Vandal\n"
     ]
    }
   ],
   "source": [
    "#rjust() - Use to fill character to the left\n",
    "\n",
    "str1 = \"American Vandal\"\n",
    "print(str1.rjust(25,\"A\")) #(width,filling char)"
   ]
  },
  {
   "cell_type": "code",
   "execution_count": 2,
   "id": "0df23cbb",
   "metadata": {},
   "outputs": [
    {
     "name": "stdout",
     "output_type": "stream",
     "text": [
      "['Football, Archery, Cricket, Squash', ' Hockey', ' Volleyball']\n",
      "['Football, Archery, Cricket', ' Squash', ' Hockey', ' Volleyball']\n"
     ]
    }
   ],
   "source": [
    "#rsplit() - use to split begining to the right.\n",
    "    \n",
    "str1 = \"Football, Archery, Cricket, Squash, Hockey, Volleyball\"\n",
    "\n",
    "print(str1.rsplit(\",\",2)) \n",
    "#Split get the parameters like, delimiter and no of split to be perform \n",
    "\n",
    "\n",
    "str1 = \"Football, Archery, Cricket, Squash, Hockey, Volleyball\"\n",
    "\n",
    "print(str1.rsplit(\",\",3))"
   ]
  },
  {
   "cell_type": "code",
   "execution_count": 8,
   "id": "ef1aafed",
   "metadata": {},
   "outputs": [
    {
     "name": "stdout",
     "output_type": "stream",
     "text": [
      "One\n",
      "Two\n",
      "Three\n",
      "Four\n",
      "['One', 'Two', 'Three', 'Four']\n",
      "['One', 'Two', 'Three', 'Four']\n",
      "['One\\n', 'Two\\n', 'Three\\n', 'Four']\n"
     ]
    }
   ],
   "source": [
    "#splitlines() - Split string into a list\n",
    "\n",
    "str1 = \"One\\nTwo\\nThree\\nFour\"\n",
    "\n",
    "print(str1)\n",
    "\n",
    "print(str1.splitlines()) #We are allowing line breaks \n",
    "\n",
    "print(str1.splitlines(False))\n",
    "\n",
    "print(str1.splitlines(True))"
   ]
  },
  {
   "cell_type": "code",
   "execution_count": 11,
   "id": "69246e64",
   "metadata": {},
   "outputs": [
    {
     "name": "stdout",
     "output_type": "stream",
     "text": [
      "False\n",
      "False\n",
      "True\n"
     ]
    }
   ],
   "source": [
    "#startswith()- return true if starts with perticular value else false will return.\n",
    "\n",
    "str1 = \"This is demo. This is another demo\"\n",
    "print(str1.startswith(\"another\"))\n",
    "\n",
    "print(str1.startswith(\"another\",15,20))\n",
    "\n",
    "print(str1.startswith(\"another\",22,30)) #22 & 30 are the index position where searching starts and end"
   ]
  },
  {
   "cell_type": "code",
   "execution_count": 12,
   "id": "0d4438fb",
   "metadata": {},
   "outputs": [
    {
     "name": "stdout",
     "output_type": "stream",
     "text": [
      "tHIS IS DEMO. and THIS IS another demo.\n"
     ]
    }
   ],
   "source": [
    "#Swapcase() - use swap the case upper to lower and lower to upper\n",
    "\n",
    "str1 = \"This is demo. AND this is ANOTHER DEMO.\"\n",
    "\n",
    "print(str1.swapcase())"
   ]
  },
  {
   "cell_type": "code",
   "execution_count": 13,
   "id": "055d7ef5",
   "metadata": {},
   "outputs": [
    {
     "name": "stdout",
     "output_type": "stream",
     "text": [
      "My Name Is Roshni\n"
     ]
    }
   ],
   "source": [
    "#title() -converting first letter of each word capital as per title rule.\n",
    "\n",
    "str21 =\"my name is roshni\"\n",
    "print(str21.title())"
   ]
  },
  {
   "cell_type": "code",
   "execution_count": 15,
   "id": "4c8f1085",
   "metadata": {},
   "outputs": [
    {
     "name": "stdout",
     "output_type": "stream",
     "text": [
      "000Wow!\n"
     ]
    }
   ],
   "source": [
    "#zfill - use to fill the 0 in the bigining of the string \n",
    "\n",
    "# We can use the total length of the string as the parameter of zfill.\n",
    "\n",
    "str1 = \"Wow!\"\n",
    "print(str1.zfill(7)) #Make total length of string 7 i.e. width of the string."
   ]
  }
 ],
 "metadata": {
  "kernelspec": {
   "display_name": "Python 3 (ipykernel)",
   "language": "python",
   "name": "python3"
  },
  "language_info": {
   "codemirror_mode": {
    "name": "ipython",
    "version": 3
   },
   "file_extension": ".py",
   "mimetype": "text/x-python",
   "name": "python",
   "nbconvert_exporter": "python",
   "pygments_lexer": "ipython3",
   "version": "3.9.12"
  }
 },
 "nbformat": 4,
 "nbformat_minor": 5
}
