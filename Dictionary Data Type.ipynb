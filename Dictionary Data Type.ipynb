{
 "cells": [
  {
   "cell_type": "code",
   "execution_count": 8,
   "id": "984a3005",
   "metadata": {},
   "outputs": [
    {
     "name": "stdout",
     "output_type": "stream",
     "text": [
      "{'name': 'Jessa', 10: 'Mobile'}\n",
      "<class 'dict'>\n",
      "-------------------------------------------------\n",
      "{'Name': 'Jessa', 'Telephones': [1178, 2563, 4569], 10: 'Lokey'}\n",
      "<class 'dict'>\n",
      "---------------------------------------------------\n",
      "<class 'dict'>\n"
     ]
    }
   ],
   "source": [
    "'''\n",
    "Dictionary Data type - Unordered collection of values stored in the form of key-value pairs.\n",
    "\n",
    "EX - If you want to store the name and roll number for all students, then you can use the dict. \n",
    "data type\n",
    "\n",
    "In Dictionary , Duplicate keys are not allowed but duplicate values can be inserted.\n",
    "\n",
    "So if we try to insert duplicate value with duplicate key , the old value will be repalced with new \n",
    "value.\n",
    "\n",
    "Dictionary has some charcteristics:- \n",
    "1. Heterogeneous : Values of all data types are allowed.\n",
    "2. Dictionary is mutable which means we can modify its items.\n",
    "3. Dictionary is unordered hence we cannot perform indexing and slicing on it.\n",
    "\n",
    "We can create dict using two ways\n",
    "1. Using curly brackets {}\n",
    "2. dict({...})\n",
    "\n",
    "'''\n",
    "\n",
    "#Create dictionary with mixed keys \n",
    "\n",
    "\n",
    "\n",
    "\n",
    "\n",
    "\n",
    "\n",
    "sample_dict = {\"name\":\"Jessa\", 10:\"Mobile\"}\n",
    "print(sample_dict)\n",
    "print(type(sample_dict))\n",
    "\n",
    "print(\"-------------------------------------------------\")\n",
    "\n",
    "#Create dictionary with value as a list\n",
    "\n",
    "person = {\"Name\":\"Jessa\", \"Telephones\":[1178, 2563, 4569], 10: \"Lokey\"}\n",
    "print(person)\n",
    "print(type(person))\n",
    "\n",
    "print(\"---------------------------------------------------\")\n",
    "\n",
    "#Create empty dict\n",
    "\n",
    "emptydict = {}\n",
    "print(type(emptydict))"
   ]
  },
  {
   "cell_type": "code",
   "execution_count": 11,
   "id": "dabf0df9",
   "metadata": {},
   "outputs": [
    {
     "name": "stdout",
     "output_type": "stream",
     "text": [
      "jessa\n",
      "1847855\n",
      "jessa\n"
     ]
    }
   ],
   "source": [
    "'''\n",
    "Ways to access the element - \n",
    "\n",
    "There are two dicff ways to access the element of dict\n",
    "1. Retrive using key name inside the [] square bracket\n",
    "2. Retrive value by passing key name as per paramenter to get() method of dictionary\n",
    "\n",
    "'''\n",
    "\n",
    "#Crate a dict named as person\n",
    "\n",
    "person = {\"Name\" : \"jessa\", \"Country\":\"USA\", \"Telephone\" : 1847855}\n",
    "\n",
    "#Access the value using of respective neme of the key in square bracket []\n",
    "\n",
    "print(person[\"Name\"]) # Jessa\n",
    "\n",
    "print(person[\"Telephone\"])\n",
    "\n",
    "print(\"--------------------------------------------------\")\n",
    "\n",
    "#Using Get() method \n",
    "\n",
    "print(person.get(\"Name\"))\n",
    "\n"
   ]
  },
  {
   "cell_type": "code",
   "execution_count": 16,
   "id": "460f3bdc",
   "metadata": {},
   "outputs": [
    {
     "name": "stdout",
     "output_type": "stream",
     "text": [
      "dict_keys(['Name', 'Country', 'Telephone'])\n",
      "--------------------------------------------------------------\n",
      "dict_values(['jessa', 'USA', 1847855])\n",
      "--------------------------------------------------------------\n",
      "dict_items([('Name', 'jessa'), ('Country', 'USA'), ('Telephone', 1847855)])\n"
     ]
    }
   ],
   "source": [
    "'''\n",
    "Get all keys and value \n",
    "\n",
    "Use the following dictionary methods to retrive all the keys and values at once.\n",
    "\n",
    "Method           Description\n",
    "keys()           Returns the list of all keys present in the dict.\n",
    "values()         Returns the list of all the values present in the dict\n",
    "items()          Returns all the items present in the dictionary,\n",
    "                 Each item will be inside a tuple as key-value pair.\n",
    "\n",
    "'''\n",
    "\n",
    "#Get all the keys from dict\n",
    "\n",
    "#          key1     value1    key2     value2   key3        value3\n",
    "person = {\"Name\" : \"jessa\", \"Country\":\"USA\", \"Telephone\" : 1847855}\n",
    "\n",
    "print(person.keys())\n",
    "\n",
    "print(\"--------------------------------------------------------------\")\n",
    "\n",
    "#Get all the values from dict\n",
    "\n",
    "print(person.values())\n",
    "\n",
    "print(\"--------------------------------------------------------------\")\n",
    "\n",
    "#Get all the items from the dict in tuple form \n",
    "\n",
    "print(person.items())\n"
   ]
  },
  {
   "cell_type": "code",
   "execution_count": 17,
   "id": "efec7a6a",
   "metadata": {},
   "outputs": [
    {
     "name": "stdout",
     "output_type": "stream",
     "text": [
      "Name : jessa\n",
      "Country : USA\n",
      "Telephone : 1847855\n"
     ]
    }
   ],
   "source": [
    "'''\n",
    "Iterating Dictionary\n",
    "\n",
    "We can iterate through a dictionary using for-loop and access the individual\n",
    "key and their corresponding values.\n",
    "\n",
    "'''\n",
    "\n",
    "person = {\"Name\" : \"jessa\", \"Country\":\"USA\", \"Telephone\" : 1847855}\n",
    "\n",
    "for key in person:\n",
    "    print(key,\":\",person[key])\n",
    "    \n"
   ]
  },
  {
   "cell_type": "code",
   "execution_count": 28,
   "id": "44847a17",
   "metadata": {},
   "outputs": [
    {
     "name": "stdout",
     "output_type": "stream",
     "text": [
      "Name : jessa\n",
      "Country : USA\n",
      "Telephone : 1847855\n"
     ]
    }
   ],
   "source": [
    "for key_value in person.items():\n",
    "    print(key_value[0],\":\",key_value[1])"
   ]
  },
  {
   "cell_type": "code",
   "execution_count": 30,
   "id": "6126080c",
   "metadata": {},
   "outputs": [
    {
     "name": "stdout",
     "output_type": "stream",
     "text": [
      "Name\n",
      "Country\n",
      "Telephone\n"
     ]
    }
   ],
   "source": [
    "for key_value in person.items():\n",
    "    print(key_value[0])"
   ]
  },
  {
   "cell_type": "code",
   "execution_count": 31,
   "id": "94593379",
   "metadata": {},
   "outputs": [
    {
     "name": "stdout",
     "output_type": "stream",
     "text": [
      "3\n"
     ]
    }
   ],
   "source": [
    "'''\n",
    "Find a length of a dictionary\n",
    "\n",
    "In order to find number of items in a dictionary, we can use len() function.\n",
    "\n",
    "'''\n",
    "\n",
    "person = {\"Name\" : \"jessa\", \"Country\":\"USA\", \"Telephone\" : 1847855}\n",
    "\n",
    "print(len(person))\n"
   ]
  },
  {
   "cell_type": "code",
   "execution_count": 36,
   "id": "ae14e308",
   "metadata": {},
   "outputs": [
    {
     "name": "stdout",
     "output_type": "stream",
     "text": [
      "{'Name': 'jessa', 'Country': 'USA', 'Telephone': 1847855, 'weight': 50}\n",
      "{'Name': 'jessa', 'Country': 'USA', 'Telephone': 1847855, 'weight': 50, 'Height': 6}\n",
      "{'Name': 'jessa', 'Country': 'USA', 'Telephone': 1847855, 'weight': 50, 'Height': 6, 'Age': 65, 'City': 'Texas'}\n",
      "{'Name': 'jessa', 'Country': 'USA', 'Telephone': 1847855, 'weight': 50, 'Height': 6, 'Age': 65, 'City': 'Texas', 'Company': 'IBM', 'Salary': 80000}\n"
     ]
    }
   ],
   "source": [
    "'''\n",
    "Adding items to the dictionary\n",
    "\n",
    "We can add new items to the dictionary using following methods:- \n",
    "\n",
    "1.Using key-value assignment:- \n",
    "\n",
    "Using a simple asssignment statement where value can beassigned directly to the new key.\n",
    "\n",
    "2.Using update() Method :-\n",
    "In this method, the item passed inside the update() method will be inserted into the dictionary.\n",
    "\n",
    "'''\n",
    "person = {\"Name\" : \"jessa\", \"Country\":\"USA\", \"Telephone\" : 1847855}\n",
    "\n",
    "#Update dictionary by adding 2 new keys\n",
    "\n",
    "person[\"weight\"] = 50  #using \"=\" op \n",
    "\n",
    "print(person)\n",
    "\n",
    "#Using update() method\n",
    "\n",
    "person.update({\"Height\": 6})\n",
    "\n",
    "print(person)\n",
    "\n",
    "#We can add more than one key value pair using update method\n",
    "\n",
    "person.update({\"Age\": 65, \"City\": \"Texas\"})\n",
    "\n",
    "print(person)\n",
    "\n",
    "#We can add new key-value as a list of tuple\n",
    "\n",
    "person.update([(\"Company\",\"IBM\"),(\"Salary\", 80000)])\n",
    "\n",
    "print(person)"
   ]
  },
  {
   "cell_type": "code",
   "execution_count": 8,
   "id": "ddafcaf0",
   "metadata": {},
   "outputs": [
    {
     "name": "stdout",
     "output_type": "stream",
     "text": [
      "{'Name': 'Jessa', 'Country': 'USA', 'Telephone': 1178, 'State': 'Texas'}\n",
      "{'Name': 'Jessa', 'Country': 'USA', 'Telephone': 1178, 'State': 'Texas', 'Zip': None}\n",
      "Name : Jessa\n",
      "Country : USA\n",
      "Telephone : 1178\n",
      "State : Texas\n",
      "Zip : None\n"
     ]
    }
   ],
   "source": [
    "'''\n",
    "Set Default Value to Key\n",
    "\n",
    "Using the setdefault() method default value can be assisgned to a key in the dict.\n",
    "\n",
    "'''\n",
    "\n",
    "person_details = {\"Name\" : \"Jessa\", \"Country\": \"USA\",\"Telephone\": 1178}\n",
    "\n",
    "#Set default value if key doesn't exists.\n",
    "person_details.setdefault(\"State\",\"Texas\")\n",
    "\n",
    "print(person_details)\n",
    "\n",
    "#Key exists and value not mentioned.\n",
    "person_details.setdefault(\"Zip\")\n",
    "\n",
    "print(person_details)\n",
    "\n",
    "#Key exists and value also mentioned.\n",
    "person_details.setdefault(\"Country\",\"Canada\")\n",
    "\n",
    "#Display Dictionary\n",
    "\n",
    "for key,value in person_details.items():\n",
    "    print(key,\":\",value)\n",
    "    "
   ]
  },
  {
   "cell_type": "code",
   "execution_count": null,
   "id": "b8866a00",
   "metadata": {},
   "outputs": [],
   "source": [
    "'''\n",
    "Removing items from the dictionary.\n",
    "\n",
    "Whether we want to remove the single item or the last inserted item or delete entire dictionary,\n",
    "\n",
    "In those cases we used below methods,\n",
    "\n",
    " Method              Description\n",
    "1.pop(key)         Removes the item with key and return the respective key value.\n",
    "                     If key is not found, then it will raise an KeyError.\n",
    "2.popitem()          Removes the last inserted item from the dictionary.\n",
    "                     If dictionary is empty, it will raise an KeyError.\n",
    "3.del key            The del keyword will delete the item with key that is passed.\n",
    "4.clear()            Removes all items from the dictionary & return empty dictionary.\n",
    "5.del dict_name      Delete entire dictionary\n",
    "\n",
    "\n",
    "'''"
   ]
  },
  {
   "cell_type": "code",
   "execution_count": 18,
   "id": "5b9622a5",
   "metadata": {},
   "outputs": [
    {
     "name": "stdout",
     "output_type": "stream",
     "text": [
      "('Height', 6)\n",
      "24584\n",
      "{'name': 'Jessa', 'Country': 'USA'}\n",
      "{}\n"
     ]
    },
    {
     "ename": "NameError",
     "evalue": "name 'person' is not defined",
     "output_type": "error",
     "traceback": [
      "\u001b[1;31m---------------------------------------------------------------------------\u001b[0m",
      "\u001b[1;31mNameError\u001b[0m                                 Traceback (most recent call last)",
      "\u001b[1;32m~\\AppData\\Local\\Temp\\ipykernel_2104\\1601456678.py\u001b[0m in \u001b[0;36m<module>\u001b[1;34m\u001b[0m\n\u001b[0;32m     21\u001b[0m \u001b[1;33m\u001b[0m\u001b[0m\n\u001b[0;32m     22\u001b[0m \u001b[1;32mdel\u001b[0m \u001b[0mperson\u001b[0m\u001b[1;33m\u001b[0m\u001b[1;33m\u001b[0m\u001b[0m\n\u001b[1;32m---> 23\u001b[1;33m \u001b[0mprint\u001b[0m\u001b[1;33m(\u001b[0m\u001b[0mperson\u001b[0m\u001b[1;33m)\u001b[0m\u001b[1;33m\u001b[0m\u001b[1;33m\u001b[0m\u001b[0m\n\u001b[0m",
      "\u001b[1;31mNameError\u001b[0m: name 'person' is not defined"
     ]
    }
   ],
   "source": [
    "person = {\"name\":\"Jessa\", \"Country\":\"USA\",\"Telephone\":24584,\"Weight\":50 , \"Height\":6}\n",
    "\n",
    "#popitem() - Remove last inserted item\n",
    "deleted_item = person.popitem()\n",
    "print(deleted_item)\n",
    "\n",
    "#pop(key_name) --> Remove key Telephone from the dictionary and return its value\n",
    "\n",
    "deleted_item = person.pop(\"Telephone\")\n",
    "print(deleted_item)\n",
    "\n",
    "#del dict_name[key_name] --> del will remove key value pair\n",
    "del person[\"Weight\"]\n",
    "print(person)\n",
    "\n",
    "#dict_name.clear() - remove all item from the dictionary and return empty dict.\n",
    "person.clear()\n",
    "print(person)\n",
    "\n",
    "#del dict_name --> Delete entire dictionary\n",
    "\n",
    "del person  # person dictinary got deleted \n",
    "print(person)"
   ]
  },
  {
   "cell_type": "code",
   "execution_count": 13,
   "id": "ac6a5286",
   "metadata": {},
   "outputs": [
    {
     "name": "stdout",
     "output_type": "stream",
     "text": [
      "Nirman\n"
     ]
    }
   ],
   "source": [
    "#WAP to check whether the key is exists in the dictionary or not & it it exists then print the \n",
    "#key \n",
    "\n",
    "bio = {\"Name\" : \"Nirman\", \"Last Name\" : \"Saini\", \"Age\" : 29, \"Telephone\":8871300112}\n",
    "\n",
    "key_name = 'Name'\n",
    "\n",
    "if key_name in bio.keys():\n",
    "    print(bio[key_name])\n",
    "else:\n",
    "    print(\"Dosent exist\")"
   ]
  },
  {
   "cell_type": "code",
   "execution_count": 4,
   "id": "268111b9",
   "metadata": {},
   "outputs": [
    {
     "name": "stdout",
     "output_type": "stream",
     "text": [
      "Jessa\n",
      "key not exist\n"
     ]
    }
   ],
   "source": [
    "##WAP to check whether the key is exists in the dictionary or not & it it exists then print the value of the key\n",
    "person = {\"name\":\"Jessa\", \"Country\":\"USA\",\"Telephone\":24584,\"Weight\":50 , \"Height\":6}\n",
    "key=\"name\"\n",
    "for i in person.items():\n",
    "    if i[0]==key:\n",
    "        print(i[1])\n",
    "else:\n",
    "        print(\"key not exist\")"
   ]
  },
  {
   "cell_type": "code",
   "execution_count": 6,
   "id": "9516338a",
   "metadata": {},
   "outputs": [
    {
     "name": "stdout",
     "output_type": "stream",
     "text": [
      "{'Name': 'Jessa', 'Company': 'IBM', 'Address': {'State': 'Texas', 'City': 'Houston'}}\n",
      "City : Houston\n",
      "Person Details\n",
      "Name : Jessa\n",
      "Company : IBM\n",
      "Person Address Details \n",
      "State : Texas\n",
      "City : Houston\n"
     ]
    }
   ],
   "source": [
    "'''\n",
    "Nested Dictionary\n",
    "\n",
    "Nested dictionary are the dictionaries that have one or more dictionaries as there members.\n",
    "\n",
    "Its a collection of many dictionaries in one dictionary.\n",
    "\n",
    "'''\n",
    "\n",
    "#Take a dictionary to store person address details\n",
    "\n",
    "address = {\"State\":\"Texas\", \"City\" : \"Houston\"}\n",
    "\n",
    "\n",
    "#Dictionary to store person details with the given address.\n",
    "\n",
    "person = {\"Name\":\"Jessa\",\"Company\":\"IBM\",\"Address\": address}\n",
    "\n",
    "print(person)\n",
    "\n",
    "#Get nested dictionary key 'city'\n",
    "\n",
    "print(\"City :\", person[\"Address\"][\"City\"])\n",
    "\n",
    "#Iterate outer dictionary\n",
    "\n",
    "print(\"Person Details\")\n",
    "\n",
    "for key,value in person.items():   #--> key , value --> [(\"Name\",\"jess\"),(\"Company\",\"IBM\"),(\"Address\", address)]\n",
    "    if key == 'Address':\n",
    "        print(\"Person Address Details \")\n",
    "        for nested_key, nested_value in value.items(): # --> [('State', 'Texas'), ('City': 'Houston')]\n",
    "            print(nested_key, \":\", nested_value)\n",
    "\n",
    "    else:\n",
    "        print(key , \":\" ,value)"
   ]
  },
  {
   "cell_type": "code",
   "execution_count": 5,
   "id": "31bbc7bd",
   "metadata": {},
   "outputs": [
    {
     "name": "stdout",
     "output_type": "stream",
     "text": [
      "30\n",
      "John\n",
      "age 30\n",
      "position Software Engineer\n",
      "skills ['Python', 'JavaScript', 'SQL']\n",
      "Alice\n",
      "age 25\n",
      "position Data Scientist\n",
      "skills ['R', 'Python', 'Machine Learning']\n",
      "Bob\n",
      "age 35\n",
      "position Project Manager\n",
      "skills ['Leadership', 'Communication', 'Project Management']\n"
     ]
    }
   ],
   "source": [
    "# nested dictionary one example \n",
    "\n",
    "employee_data = {\n",
    "    'John': {\n",
    "        'age': 30,\n",
    "        'position': 'Software Engineer',\n",
    "        'skills': ['Python', 'JavaScript', 'SQL']\n",
    "    },\n",
    "    'Alice': {\n",
    "        'age': 25,\n",
    "        'position': 'Data Scientist',\n",
    "        'skills': ['R', 'Python', 'Machine Learning']\n",
    "    },\n",
    "    'Bob': {\n",
    "        'age': 35,\n",
    "        'position': 'Project Manager',\n",
    "        'skills': ['Leadership', 'Communication', 'Project Management']\n",
    "    }\n",
    "}\n",
    "\n",
    "print(employee_data[\"John\"][\"age\"])\n",
    "for employee,data in employee_data.items():\n",
    "    print(employee)\n",
    "    for key,value in data.items():\n",
    "        print(key,value)"
   ]
  },
  {
   "cell_type": "code",
   "execution_count": null,
   "id": "c4773bc6",
   "metadata": {},
   "outputs": [],
   "source": [
    "# Take dictionary where there should be details of\n",
    "# class_six --> {student1 : Jessa,student2 : Merry} --> jessa = {Name : Jessa, City: NY}"
   ]
  },
  {
   "cell_type": "code",
   "execution_count": 4,
   "id": "a4e4a8e9",
   "metadata": {},
   "outputs": [
    {
     "name": "stdout",
     "output_type": "stream",
     "text": [
      "{'Student1': {'Name': 'Jessa', 'State': 'Texas', 'City': 'Houston', 'Marks': 75}, 'Student2': {'Name': 'Emma', 'State': 'Texas', 'City': 'Dallas', 'Marks': 70}, 'Student3': {'Name': 'Kelley', 'State': 'Texas', 'City': 'Austin', 'Marks': 50}}\n",
      "\n",
      "\n",
      "Student1\n",
      "Name : Jessa\n",
      "State : Texas\n",
      "City : Houston\n",
      "Marks : 75\n",
      "\n",
      "\n",
      "Student2\n",
      "Name : Emma\n",
      "State : Texas\n",
      "City : Dallas\n",
      "Marks : 70\n",
      "\n",
      "\n",
      "Student3\n",
      "Name : Kelley\n",
      "State : Texas\n",
      "City : Austin\n",
      "Marks : 50\n",
      "\n",
      "\n"
     ]
    }
   ],
   "source": [
    "jessa = {\"Name\":\"Jessa\",\"State\":\"Texas\",\"City\":\"Houston\",\"Marks\":75}\n",
    "emma = {\"Name\":\"Emma\",\"State\":\"Texas\",\"City\":\"Dallas\",\"Marks\":70}\n",
    "kelley = {\"Name\":\"Kelley\",\"State\":\"Texas\",\"City\":\"Austin\",\"Marks\":50}\n",
    "\n",
    "class_six = {\"Student1\" : jessa, \"Student2\": emma, \"Student3\": kelley}\n",
    "print(class_six)\n",
    "\n",
    "print(\"\\n\")\n",
    "\n",
    "#Iterate dictionary\n",
    "\n",
    "for key, value in class_six.items():\n",
    "    print(key)\n",
    "    for nested_key, nested_value in value.items():\n",
    "        print(nested_key, \":\", nested_value)\n",
    "    print(\"\\n\")"
   ]
  },
  {
   "cell_type": "code",
   "execution_count": 6,
   "id": "32531ed5",
   "metadata": {},
   "outputs": [
    {
     "name": "stdout",
     "output_type": "stream",
     "text": [
      "[('a', 35), ('b', 95), ('c', 45)]\n",
      "['a', 'b', 'c']\n",
      "[35, 45, 95]\n",
      "['a', 'b', 'c']\n"
     ]
    }
   ],
   "source": [
    "'''\n",
    "Sort Dictionary\n",
    "\n",
    "The build-in method sorted() will sort the keys in the dictionary and returns a storted list.\n",
    "\n",
    "'''\n",
    "\n",
    "dict1 = {'c' : 45, 'b' : 95, 'a' : 35}\n",
    "\n",
    "#Sorting dict by keys\n",
    "\n",
    "print(sorted(dict1.items()))\n",
    "\n",
    "#Sort the keys inside dict\n",
    "\n",
    "print(sorted(dict1))\n",
    "\n",
    "#Sort the dict values\n",
    "\n",
    "print(sorted(dict1.values()))\n",
    "\n",
    "print(sorted(dict1.keys()))\n"
   ]
  },
  {
   "cell_type": "code",
   "execution_count": null,
   "id": "d11d1e1a",
   "metadata": {},
   "outputs": [],
   "source": []
  },
  {
   "cell_type": "code",
   "execution_count": null,
   "id": "a70cd8a2",
   "metadata": {},
   "outputs": [],
   "source": []
  },
  {
   "cell_type": "code",
   "execution_count": null,
   "id": "15231846",
   "metadata": {},
   "outputs": [],
   "source": []
  },
  {
   "cell_type": "code",
   "execution_count": null,
   "id": "f1ba47bf",
   "metadata": {},
   "outputs": [],
   "source": []
  },
  {
   "cell_type": "code",
   "execution_count": null,
   "id": "521fec7d",
   "metadata": {},
   "outputs": [],
   "source": [
    "#Deep Copy\n",
    "\n",
    "person1 = person\n",
    "print(id(person1))\n",
    "print(id(person))\n",
    "\n",
    "print(person)\n",
    "print(person1)"
   ]
  }
 ],
 "metadata": {
  "kernelspec": {
   "display_name": "Python 3 (ipykernel)",
   "language": "python",
   "name": "python3"
  },
  "language_info": {
   "codemirror_mode": {
    "name": "ipython",
    "version": 3
   },
   "file_extension": ".py",
   "mimetype": "text/x-python",
   "name": "python",
   "nbconvert_exporter": "python",
   "pygments_lexer": "ipython3",
   "version": "3.9.12"
  }
 },
 "nbformat": 4,
 "nbformat_minor": 5
}
