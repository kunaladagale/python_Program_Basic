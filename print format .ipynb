{
 "cells": [
  {
   "cell_type": "markdown",
   "id": "edd4c9ba",
   "metadata": {},
   "source": [
    "# Printing Format "
   ]
  },
  {
   "cell_type": "code",
   "execution_count": 1,
   "id": "2cf82ce6",
   "metadata": {},
   "outputs": [
    {
     "name": "stdout",
     "output_type": "stream",
     "text": [
      "10\n",
      "20\n"
     ]
    }
   ],
   "source": [
    "a = 10\n",
    "b = 20\n",
    "\n",
    "print(a)\n",
    "print(b)"
   ]
  },
  {
   "cell_type": "code",
   "execution_count": 4,
   "id": "d65471e0",
   "metadata": {},
   "outputs": [
    {
     "name": "stdout",
     "output_type": "stream",
     "text": [
      "The value of a  10\n",
      "20  : the value of b\n"
     ]
    }
   ],
   "source": [
    "print('The value of a ', a)\n",
    "\n",
    "print(b ,' : the value of b')"
   ]
  },
  {
   "cell_type": "code",
   "execution_count": 6,
   "id": "73c6cd55",
   "metadata": {},
   "outputs": [
    {
     "name": "stdout",
     "output_type": "stream",
     "text": [
      "The value of a = 10 The value of b = 20\n"
     ]
    }
   ],
   "source": [
    "print(\"The value of a =\", a ,\"The value of b =\", b)"
   ]
  },
  {
   "cell_type": "code",
   "execution_count": 9,
   "id": "a82c7ad2",
   "metadata": {},
   "outputs": [
    {
     "name": "stdout",
     "output_type": "stream",
     "text": [
      "Welcome in the class of python a very good morning class \n",
      "The value of a = 10 the value of b = 20\n"
     ]
    }
   ],
   "source": [
    "#Format() String \n",
    "\n",
    "msg = \"good morning class\"\n",
    "\n",
    "print(\"Welcome in the class of python a very {} \".format(msg))\n",
    "\n",
    "print(\"The value of a = {} the value of b = {}\". format(a,b))"
   ]
  },
  {
   "cell_type": "code",
   "execution_count": 14,
   "id": "39c2843e",
   "metadata": {},
   "outputs": [
    {
     "name": "stdout",
     "output_type": "stream",
     "text": [
      "the value of number 1 = 10 & the value of number 2 = 20\n",
      "good morning class\n"
     ]
    }
   ],
   "source": [
    "# f string\n",
    "\n",
    "print(f\"the value of number 1 = {a} & the value of number 2 = {b}\")\n",
    "\n",
    "print(f'{msg}')"
   ]
  },
  {
   "cell_type": "code",
   "execution_count": null,
   "id": "e82d6ea3",
   "metadata": {},
   "outputs": [],
   "source": [
    "#Wap to calculate area of circle \n",
    "\n",
    "# Wap to calculate addition,sub,mul,div,mod,floor,exponent of two number and print it using f string.\n",
    "# print(f'{a} + {b} = {add}')\n"
   ]
  },
  {
   "cell_type": "markdown",
   "id": "885c0e62",
   "metadata": {},
   "source": [
    "# Take Input From User"
   ]
  },
  {
   "cell_type": "code",
   "execution_count": 20,
   "id": "6a4f3462",
   "metadata": {},
   "outputs": [
    {
     "name": "stdout",
     "output_type": "stream",
     "text": [
      "Please Enter username Shubham\n",
      "Welcome user  Shubham\n",
      "<class 'str'>\n",
      "-------------------------------------------------------------\n",
      "Enter your age 26\n",
      "Shubham age is 26\n",
      "<class 'str'>\n"
     ]
    }
   ],
   "source": [
    "#Input() - fuction is used to take input from user (console)\n",
    "#It returns string \n",
    "\n",
    "name = input(\"Please Enter username \")\n",
    "\n",
    "print(\"Welcome user \", name)\n",
    "\n",
    "print(type(name))\n",
    "\n",
    "print(\"-------------------------------------------------------------\")\n",
    "\n",
    "age = input(\"Enter your age \")\n",
    "print(f'{name} age is {age}')\n",
    "\n",
    "print(type(age))"
   ]
  },
  {
   "cell_type": "code",
   "execution_count": 22,
   "id": "12752c19",
   "metadata": {},
   "outputs": [
    {
     "name": "stdout",
     "output_type": "stream",
     "text": [
      "Enter number 1 25\n",
      "Enter number 2 25\n",
      "Sum of given numbers is  50\n",
      "<class 'int'>\n",
      "<class 'int'>\n"
     ]
    }
   ],
   "source": [
    "#Convert numeric string into numeric - int(),float()\n",
    "#list() - convert into a list\n",
    "#tuple() -convert into a tuple\n",
    "#str() - convert into string\n",
    "\n",
    "n1 = int(input(\"Enter number 1 \"))\n",
    "n2 = int(input(\"Enter number 2 \"))\n",
    "\n",
    "print(\"Sum of given numbers is \", (n1+n2))\n",
    "\n",
    "print(type(n1))\n",
    "print(type(n2))"
   ]
  },
  {
   "cell_type": "code",
   "execution_count": null,
   "id": "0f2f9154",
   "metadata": {},
   "outputs": [],
   "source": [
    "#Wap to calculate area of triangle --> take base and height from user keep it as float\n",
    "\n"
   ]
  }
 ],
 "metadata": {
  "kernelspec": {
   "display_name": "Python 3 (ipykernel)",
   "language": "python",
   "name": "python3"
  },
  "language_info": {
   "codemirror_mode": {
    "name": "ipython",
    "version": 3
   },
   "file_extension": ".py",
   "mimetype": "text/x-python",
   "name": "python",
   "nbconvert_exporter": "python",
   "pygments_lexer": "ipython3",
   "version": "3.9.12"
  }
 },
 "nbformat": 4,
 "nbformat_minor": 5
}
