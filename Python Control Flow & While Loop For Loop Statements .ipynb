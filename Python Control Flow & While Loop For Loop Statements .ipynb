{
 "cells": [
  {
   "cell_type": "code",
   "execution_count": 2,
   "id": "95bc77b3",
   "metadata": {},
   "outputs": [
    {
     "name": "stdout",
     "output_type": "stream",
     "text": [
      "H\n",
      "e\n",
      "l\n",
      "l\n",
      "o\n",
      ",\n",
      " \n",
      "W\n",
      "o\n",
      "r\n",
      "l\n",
      "d\n",
      "------------------------------------------------------------------\n",
      "H e l l o ,   W o r l d "
     ]
    }
   ],
   "source": [
    "'''\n",
    "2. Iterative Statements: (loop Statements)\n",
    "\n",
    "In python, iterative statements allow us to execute a block of code repeatdely as long as \n",
    "the condition gets False.\n",
    "\n",
    "We also call it as loop Statements.\n",
    "\n",
    "'''\n",
    "\n",
    "#1.For Loop - (Use to iterate over sequence and automate task) --> (Sequence - string, list ,tuple)\n",
    "\n",
    "#The for loop is used to iterate over a sequence such as list, tuple, string and other \n",
    "#iterable objects , such range.\n",
    "\n",
    "#Using for loop , we can automate and repeat task in an efficient manner.\n",
    "\n",
    "#For loop are executed a fixed number of times.\n",
    "\n",
    "#For using for loop you need to know how many times you want to reapeat that task (block of code).\n",
    "\n",
    "#Syntax -\n",
    "#for i in my_string:\n",
    "#       Statement1\n",
    "\n",
    "\n",
    "# 0 1 2 3 4 5 6 7 8 9 10 11  --- INDEX\n",
    "# H e l l o ,   W o r  l d  \n",
    "\n",
    "\n",
    "my_string = \"Hello, World\"\n",
    "for char in my_string:\n",
    "    print(char)\n",
    "    \n",
    "print(\"------------------------------------------------------------------\")\n",
    "    \n",
    "my_string = \"Hello, World\"\n",
    "for char in my_string:\n",
    "    print(char, end = \" \")\n",
    "\n"
   ]
  },
  {
   "cell_type": "code",
   "execution_count": null,
   "id": "9ad43974",
   "metadata": {},
   "outputs": [],
   "source": [
    "#length of the string\n",
    "\n",
    "print(\"length of the string\",len(my_string)) # len(n-1)"
   ]
  },
  {
   "cell_type": "code",
   "execution_count": 3,
   "id": "8ba1cce5",
   "metadata": {},
   "outputs": [
    {
     "name": "stdout",
     "output_type": "stream",
     "text": [
      "1\n",
      "2\n",
      "3\n",
      "4\n",
      "5\n",
      "6\n",
      "7\n",
      "8\n",
      "9\n",
      "10\n"
     ]
    }
   ],
   "source": [
    "\n",
    "#Range \n",
    "#Syntax- range(start,end,step) --> end value will be excluded\n",
    "\n",
    "for i in range(1,11):\n",
    "    print(i)"
   ]
  },
  {
   "cell_type": "code",
   "execution_count": 5,
   "id": "ab04f4b5",
   "metadata": {},
   "outputs": [
    {
     "name": "stdout",
     "output_type": "stream",
     "text": [
      "5\n",
      "6\n",
      "7\n",
      "8\n",
      "9\n",
      "-------------------------------------------------------->\n",
      "0\n",
      "1\n",
      "2\n",
      "3\n",
      "4\n"
     ]
    }
   ],
   "source": [
    "for i in range(5,10): #Step by default 1.starting point by defalut 0 \n",
    "    print(i)\n",
    "print(\"-------------------------------------------------------->\")    \n",
    "for i in range(5):\n",
    "    print(i)#range(5) = start = 0,end = 5, step = 1, end will be excluded"
   ]
  },
  {
   "cell_type": "code",
   "execution_count": 9,
   "id": "d886cdff",
   "metadata": {},
   "outputs": [
    {
     "name": "stdout",
     "output_type": "stream",
     "text": [
      "6\n",
      "=====================================================>\n",
      "0\n",
      "1\n",
      "2\n",
      "3\n",
      "4\n",
      "5\n",
      "=====================================================>\n",
      "1\n",
      "3\n",
      "5\n",
      "7\n",
      "9\n",
      "=====================================================>\n",
      "=====================================================>\n"
     ]
    }
   ],
   "source": [
    "list1 = [10,15,20,26,84,98]\n",
    "print(len(list1))\n",
    "def l():\n",
    "    print(\"=====================================================>\")\n",
    "\n",
    "print(\"=====================================================>\")\n",
    "\n",
    "for i in range(len(list1)):\n",
    "    print (i)\n",
    "print(\"=====================================================>\")\n",
    "\n",
    "for i in range(1,11,2):\n",
    "    print(i)\n",
    "l()\n",
    "l()"
   ]
  },
  {
   "cell_type": "code",
   "execution_count": 1,
   "id": "180aef5d",
   "metadata": {},
   "outputs": [
    {
     "name": "stdout",
     "output_type": "stream",
     "text": [
      "* * * * \n",
      "* * * * \n",
      "* * * * \n",
      "* * * * \n"
     ]
    }
   ],
   "source": [
    "r=4\n",
    "c=4\n",
    "\n",
    "for i in range(r):\n",
    "    for j in range(c):\n",
    "        print(\"*\",end = ' ')\n",
    "    print()"
   ]
  },
  {
   "cell_type": "code",
   "execution_count": 2,
   "id": "53a34b5b",
   "metadata": {},
   "outputs": [
    {
     "name": "stdout",
     "output_type": "stream",
     "text": [
      "* \n",
      "* * \n",
      "* * * \n",
      "* * * * \n"
     ]
    }
   ],
   "source": [
    "r = 4 \n",
    "c = 4\n",
    "\n",
    "for i in range(r):\n",
    "    for j in range(c):\n",
    "        if i>=j:\n",
    "            print(\"*\", end = ' ')\n",
    "    print()"
   ]
  },
  {
   "cell_type": "code",
   "execution_count": 3,
   "id": "89578026",
   "metadata": {},
   "outputs": [
    {
     "name": "stdout",
     "output_type": "stream",
     "text": [
      "* * * * \n",
      "* * * \n",
      "* * \n",
      "* \n"
     ]
    }
   ],
   "source": [
    "r = 4 \n",
    "c = 4\n",
    "\n",
    "for i in range(r):\n",
    "    for j in range(c):\n",
    "        if i<=j:\n",
    "            print(\"*\", end = ' ')\n",
    "    print()"
   ]
  },
  {
   "cell_type": "code",
   "execution_count": 2,
   "id": "6d9e57ce",
   "metadata": {},
   "outputs": [
    {
     "name": "stdout",
     "output_type": "stream",
     "text": [
      "1 \n",
      "1 2 \n",
      "1 2 3 \n",
      "1 2 3 4 \n"
     ]
    }
   ],
   "source": [
    "r = 4 \n",
    "c = 4\n",
    "\n",
    "for i in range(1,r+1):\n",
    "    for j in range(1,c+1):\n",
    "        if i>=j:\n",
    "            print(j, end = ' ')\n",
    "    print()"
   ]
  },
  {
   "cell_type": "code",
   "execution_count": 3,
   "id": "02defcdd",
   "metadata": {},
   "outputs": [
    {
     "name": "stdout",
     "output_type": "stream",
     "text": [
      "1 \n",
      "1 2 \n"
     ]
    }
   ],
   "source": [
    "r = 4 \n",
    "c = 4\n",
    "\n",
    "for i in range(1,r-1):\n",
    "    for j in range(1,c-1):\n",
    "        if i>=j:\n",
    "            print(j, end = ' ')\n",
    "    print()"
   ]
  },
  {
   "cell_type": "code",
   "execution_count": 4,
   "id": "5a5b88a0",
   "metadata": {},
   "outputs": [
    {
     "name": "stdout",
     "output_type": "stream",
     "text": [
      "1 \n",
      "2 2 \n",
      "3 3 3 \n",
      "4 4 4 4 \n"
     ]
    }
   ],
   "source": [
    "r = 4 \n",
    "c = 4\n",
    "\n",
    "for i in range(1,r+1):\n",
    "    for j in range(1,c+1):\n",
    "        if i>=j:\n",
    "            print(i, end = ' ')\n",
    "    print()"
   ]
  },
  {
   "cell_type": "code",
   "execution_count": 5,
   "id": "15e47808",
   "metadata": {},
   "outputs": [
    {
     "name": "stdout",
     "output_type": "stream",
     "text": [
      "A \n",
      "B C \n",
      "D E F \n",
      "G H I J \n"
     ]
    }
   ],
   "source": [
    "ch = 65\n",
    "\n",
    "for i in range(1,r+1):\n",
    "    for j in range(1,c+1):\n",
    "        if i>=j:\n",
    "            print(chr(ch), end = ' ')\n",
    "            ch+=1\n",
    "    print()"
   ]
  },
  {
   "cell_type": "code",
   "execution_count": 6,
   "id": "f87c5096",
   "metadata": {},
   "outputs": [
    {
     "name": "stdout",
     "output_type": "stream",
     "text": [
      "\\\n"
     ]
    }
   ],
   "source": [
    "ch=92\n",
    "\n",
    "print(chr(ch))"
   ]
  },
  {
   "cell_type": "code",
   "execution_count": 8,
   "id": "46596001",
   "metadata": {},
   "outputs": [
    {
     "name": "stdout",
     "output_type": "stream",
     "text": [
      "A \n",
      "B B \n",
      "C C C \n",
      "D D D D \n"
     ]
    }
   ],
   "source": [
    "ch = 65\n",
    "\n",
    "for i in range(1,r+1):\n",
    "    for j in range(1,c+1):\n",
    "        if i>=j:\n",
    "            print(chr(ch), end = ' ')\n",
    "    ch+=1\n",
    "    print()"
   ]
  },
  {
   "cell_type": "code",
   "execution_count": 9,
   "id": "83b55875",
   "metadata": {},
   "outputs": [
    {
     "name": "stdout",
     "output_type": "stream",
     "text": [
      "A \n",
      "A A \n",
      "A A A \n",
      "A A A A \n"
     ]
    }
   ],
   "source": [
    "for i in range(1,r+1):\n",
    "    ch = 65\n",
    "    for j in range(1,c+1):\n",
    "        if i>=j:\n",
    "            print(chr(ch), end = ' ')\n",
    "    ch+=1\n",
    "    print()"
   ]
  },
  {
   "cell_type": "code",
   "execution_count": 10,
   "id": "d17aabc2",
   "metadata": {},
   "outputs": [
    {
     "name": "stdout",
     "output_type": "stream",
     "text": [
      "A \n",
      "A A \n",
      "A A A \n",
      "A A A A \n"
     ]
    }
   ],
   "source": [
    "ch = 65\n",
    "\n",
    "for i in range(1,r+1):\n",
    "    \n",
    "    for j in range(1,c+1):\n",
    "        if i>=j:\n",
    "            print(chr(ch), end = ' ')\n",
    "    print()"
   ]
  },
  {
   "cell_type": "code",
   "execution_count": 11,
   "id": "2297bc1f",
   "metadata": {},
   "outputs": [
    {
     "name": "stdout",
     "output_type": "stream",
     "text": [
      "A \n",
      "C E \n",
      "G I K \n",
      "M O Q S \n",
      "U W Y [ ] \n",
      "_ a c e g \n",
      "i k m o q \n"
     ]
    }
   ],
   "source": [
    "ch = 65\n",
    "\n",
    "r=7\n",
    "c=5\n",
    "\n",
    "for i in range(1,r+1):\n",
    "    for j in range(1,c+1):\n",
    "        if i>=j:\n",
    "            print(chr(ch), end=\" \")\n",
    "            ch=ch+2\n",
    "    print()"
   ]
  },
  {
   "cell_type": "markdown",
   "id": "fb54bc89",
   "metadata": {},
   "source": [
    "# While Loop "
   ]
  },
  {
   "cell_type": "code",
   "execution_count": null,
   "id": "97cb426b",
   "metadata": {
    "scrolled": true
   },
   "outputs": [],
   "source": [
    "'''\n",
    "2. While Loop \n",
    "\n",
    "The while loop statements repeatedly excutes a block of code until certain condition is true.\n",
    "\n",
    "When condition becomes false execution comes out of the loop immediately.\n",
    "\n",
    "The while loop statements continues checking condition in each iteration and keeps executing its block\n",
    "until the condition becomes false.\n",
    "\n",
    "We use while loop when we don't know the no of iterations\n",
    "\n",
    "'''\n",
    "\n",
    "count = 1 \n",
    "\n",
    "while count < 3:\n",
    "    print(count)\n",
    "    count = count+1\n",
    "    \n",
    "    \n",
    "print('----------------------------------------------------------')\n",
    "\n",
    "#Wap to print even numbers between 50 to 85\n",
    "\n",
    "n = 50\n",
    "\n",
    "while n <= 85:\n",
    "    if n%2==0:\n",
    "        print(f\"{n} is an even number\")\n",
    "    n+=1                                #incrementing n value by 1\n",
    "    \n",
    "\n",
    "\n",
    "\n",
    "    \n",
    "\n"
   ]
  },
  {
   "cell_type": "code",
   "execution_count": null,
   "id": "8f34c589",
   "metadata": {},
   "outputs": [],
   "source": [
    "#Check how many times a given number can be divided by 3 before it is less than or equal to 10\n",
    "\n",
    "count = 0\n",
    "\n",
    "number = 180\n",
    "\n",
    "while number > 10:\n",
    "    number = number / 3\n",
    "    count = count + 1\n",
    "    \n",
    "print(\"Count of number\", count )  "
   ]
  },
  {
   "cell_type": "code",
   "execution_count": 6,
   "id": "439c814b",
   "metadata": {},
   "outputs": [
    {
     "name": "stdout",
     "output_type": "stream",
     "text": [
      "Please Enter a number 12\n",
      "12 is even number\n",
      "11 is odd number\n",
      "10 is even number\n",
      "9 is odd number\n",
      "8 is even number\n",
      "7 is odd number\n",
      "6 is even number\n",
      "5 is odd number\n",
      "4 is even number\n",
      "3 is odd number\n",
      "2 is even number\n",
      "1 is odd number\n"
     ]
    }
   ],
   "source": [
    "#Print even number and odd number between 1 to the entered number by the user.-->  1 to 12\n",
    "\n",
    "n = int(input(\"Please Enter a number \"))\n",
    "\n",
    "while n > 0:\n",
    "    if n%2==0:\n",
    "        print(f\"{n} is even number\")\n",
    "    else:\n",
    "        print(f\"{n} is odd number\")\n",
    "    \n",
    "    #Decrease number by 1\n",
    "    n = n-1"
   ]
  },
  {
   "cell_type": "code",
   "execution_count": null,
   "id": "0f30f539",
   "metadata": {},
   "outputs": [],
   "source": []
  }
 ],
 "metadata": {
  "kernelspec": {
   "display_name": "Python 3 (ipykernel)",
   "language": "python",
   "name": "python3"
  },
  "language_info": {
   "codemirror_mode": {
    "name": "ipython",
    "version": 3
   },
   "file_extension": ".py",
   "mimetype": "text/x-python",
   "name": "python",
   "nbconvert_exporter": "python",
   "pygments_lexer": "ipython3",
   "version": "3.9.12"
  }
 },
 "nbformat": 4,
 "nbformat_minor": 5
}
