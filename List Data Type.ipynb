{
 "cells": [
  {
   "cell_type": "code",
   "execution_count": 8,
   "id": "230a5579",
   "metadata": {},
   "outputs": [
    {
     "name": "stdout",
     "output_type": "stream",
     "text": [
      "Length of the list 4\n"
     ]
    }
   ],
   "source": [
    "#Length of the list\n",
    "\n",
    "#In order to find the number of items present in a list.\n",
    "\n",
    "#we can use len() function\n",
    "\n",
    "my_list = [2, 5, 6, 10]\n",
    "print(f\"Length of the list {len(my_list)}\")\n"
   ]
  },
  {
   "cell_type": "code",
   "execution_count": 17,
   "id": "0e61c0a8",
   "metadata": {},
   "outputs": [
    {
     "name": "stdout",
     "output_type": "stream",
     "text": [
      "20\n",
      "[12.3, 'Nirman']\n",
      "[12.3, 20]\n",
      "[10, 20, 'Anshika', 12.3]\n",
      "[10, 'Anshika', 'Nirman']\n",
      "['Nirman', 12.3, 'Anshika', 20, 10]\n",
      "[12.3, 'Nirman']\n",
      "[12.3, 'Nirman']\n"
     ]
    }
   ],
   "source": [
    "'''\n",
    "Accessing items of a list\n",
    "\n",
    "-The items in list can be accessed through indexing and slicing.\n",
    "-Using Indexing, we can access any item from a list using its index number.\n",
    "-Lists are orderd collection of items with unique indexes for each item (elements)\n",
    "\n",
    "# P  Y  T  H  O  N\n",
    "# 0  1  2  3  4  5  --> Positive Indexing --> left to right\n",
    "#-6 -5 -4 -3 -2 -1  --> Negative Indexing --> right to left\n",
    " \n",
    "To access the elements in the list from left to right the index value starts with \n",
    "zero to (length of the string - 1).\n",
    "\n",
    "Index values are always integer, if we try to give any another data type as index will throw TypeError.\n",
    "\n",
    "'''\n",
    "#listname[Start_index:End_index:Step] -End Will be Excluded\n",
    "\n",
    "#Example positive indexing\n",
    "\n",
    "#         -5   -4     -3       -2       -1\n",
    "#          0    1      2        3        4\n",
    "my_list = [10, 20 , 'Anshika', 12.30, 'Nirman']\n",
    "\n",
    "print(my_list[1]) # 20 value present at index 1st\n",
    "\n",
    "\n",
    "#Access and print value present at index 3 and 4.\n",
    "print(my_list[3:5]) \n",
    "\n",
    "\n",
    "#using negative indexing find values present at -2  and -4.\n",
    "print(my_list[-2:-5:-2])\n",
    "\n",
    "\n",
    "#slice first 4 items from the list without giving starting point.\n",
    "print(my_list[:4])\n",
    "\n",
    "#print every second element with a skip count 2, without giving starting and end point.\n",
    "\n",
    "print(my_list[::2])\n",
    "\n",
    "#reverse the my_list and print using slicing\n",
    "print(my_list[::-1])\n",
    "\n",
    "#print last two values without defing ending and step values.\n",
    "\n",
    "print(my_list[-2::])\n",
    "print(my_list[3::])"
   ]
  },
  {
   "cell_type": "code",
   "execution_count": 20,
   "id": "1e485d67",
   "metadata": {},
   "outputs": [
    {
     "name": "stdout",
     "output_type": "stream",
     "text": [
      "0\n",
      "1\n",
      "2\n",
      "3\n",
      "4\n"
     ]
    }
   ],
   "source": [
    "#Iterate a list\n",
    "\n",
    "#print each element of the list\n",
    "\n",
    "#Print each element of the list using range()\n",
    "\n",
    "for i in range(0,len(my_list)):\n",
    "    print(i)"
   ]
  },
  {
   "cell_type": "code",
   "execution_count": 3,
   "id": "ef506a4d",
   "metadata": {},
   "outputs": [
    {
     "name": "stdout",
     "output_type": "stream",
     "text": [
      "[5, 8, 'Tom', 7.5, 'Emma', '85']\n",
      "-----------------------------------------------------------\n",
      "[5, 8, 'Tom', 7.5, 'Emma', '85', [25, 50, 75]]\n"
     ]
    }
   ],
   "source": [
    "'''\n",
    "\n",
    "Adding elements to the list\n",
    "\n",
    "We can add a new element/ list of elements to the list using the list methods such as append(),\n",
    "insert() and extend().\n",
    "\n",
    "'''\n",
    "\n",
    "#Append - It will add item at the end of the list\n",
    "\n",
    "#The append() method will accept only one parameter and add it at end of the list as single unit.\n",
    "\n",
    "#Example of append.\n",
    "\n",
    "l1 = [5, 8, 'Tom', 7.50 , \"Emma\"]\n",
    "\n",
    "#Using append()\n",
    "\n",
    "l1.append(\"85\")\n",
    "print(l1)\n",
    "\n",
    "print(\"-----------------------------------------------------------\")\n",
    "\n",
    "l1.append([25,50,75])\n",
    "print(l1)\n",
    "\n",
    "\n",
    "# 0  1    2     3     4      5         6\n",
    "#[5, 8, 'Tom', 7.5, 'Emma', '85', [25, 50, 75]]\n"
   ]
  },
  {
   "cell_type": "code",
   "execution_count": 7,
   "id": "15cc1d09",
   "metadata": {},
   "outputs": [
    {
     "name": "stdout",
     "output_type": "stream",
     "text": [
      "[5, 8, 25, 'Tom', 7.5, 'Emma']\n",
      "------------------------------------------------------------\n",
      "[5, 8, 25, [25, 50, 75], 'Tom', 7.5, 'Emma']\n"
     ]
    }
   ],
   "source": [
    "#Add item at the specified position in the list.\n",
    "\n",
    "#Use the insert() method to add the object/ item at the specified position in the list.\n",
    "\n",
    "#The insert() method accepts two parameter position and item.\n",
    "\n",
    "#syntax - insert(index , item)\n",
    "\n",
    "my_list = [5,8,'Tom', 7.50, 'Emma']\n",
    "\n",
    "my_list.insert(2,25) #at index no 2 insert value 25.\n",
    "print(my_list)\n",
    "\n",
    "print('------------------------------------------------------------')\n",
    "\n",
    "my_list.insert(3,[25,50,75])\n",
    "print(my_list)"
   ]
  },
  {
   "cell_type": "code",
   "execution_count": 8,
   "id": "c180a193",
   "metadata": {},
   "outputs": [
    {
     "name": "stdout",
     "output_type": "stream",
     "text": [
      "[5, 8, 'Tom', 7.5, 'Emma', 25, 75, 100]\n"
     ]
    }
   ],
   "source": [
    "#Using extend()\n",
    "\n",
    "#The extend method will accept the list of elements each as a separate element and add \n",
    "#them at the end of the list \n",
    "\n",
    "#we can even add another list by using this method.\n",
    "\n",
    "my_list = [5,8,'Tom', 7.50 ,'Emma']\n",
    "my_list.extend([25,75,100])\n",
    "\n",
    "print(my_list)\n",
    "\n",
    "# 0  1   2      3     4      5   6   7\n",
    "#[5, 8, 'Tom', 7.5, 'Emma', 25, 75, 100]"
   ]
  },
  {
   "cell_type": "code",
   "execution_count": 1,
   "id": "9e7de45d",
   "metadata": {},
   "outputs": [
    {
     "name": "stdout",
     "output_type": "stream",
     "text": [
      "[20, 8, 'Tom', 7.5, 'Emma']\n",
      "--------------------------------------------------------\n",
      "[20, 40, 60, 80, 'Emma']\n",
      "-----------------------------------------------------------\n",
      "[20, 40, 60, 80, 100, 120]\n",
      "-----------------------------------------------------------\n",
      "4 16 25 64 "
     ]
    }
   ],
   "source": [
    "#Modify item of the list\n",
    "\n",
    "#The list is mutable sequence of iterable objects\n",
    "\n",
    "#It means we can modify the items of the list.\n",
    "\n",
    "#Use the index number and assignment operator (=) to assign a new value to an item.\n",
    "\n",
    "#Modify the individual item.\n",
    "\n",
    "my_list = [5,8,'Tom',7.50,'Emma']\n",
    "\n",
    "#Modify single item\n",
    "\n",
    "my_list[0] = 20 #The value 20 will be replaced at 0th index.\n",
    "\n",
    "print(my_list)\n",
    "\n",
    "\n",
    "print(\"--------------------------------------------------------\")\n",
    "\n",
    "#Modify the rage of items \n",
    "\n",
    "#Modify from 1st index to 4th. 40,60,80\n",
    "\n",
    "my_list[1:4] = [40,60,80]\n",
    "print(my_list)\n",
    "\n",
    "print(\"-----------------------------------------------------------\")\n",
    "\n",
    "#Modify from 3ed index upto end of the list  80,100,120\n",
    "\n",
    "my_list[3:] = [80,100,120]\n",
    "print(my_list)\n",
    "\n",
    "#Modify from 1st index upto end of the list  80,100\n",
    "\n",
    "my_list[1:4:2] =[20,110]\n",
    "\n",
    "\n",
    "print(\"-----------------------------------------------------------\")\n",
    "\n",
    "#Modify all items\n",
    "\n",
    "#Square each element of the list & list should be numeric.\n",
    "\n",
    "my_list = [2,4,5,8]\n",
    "\n",
    "for i in my_list:\n",
    "    print(i*i ,end = \" \")\n",
    "    "
   ]
  },
  {
   "cell_type": "code",
   "execution_count": 22,
   "id": "78395e31",
   "metadata": {},
   "outputs": [
    {
     "name": "stdout",
     "output_type": "stream",
     "text": [
      "[2, 4, 8, 10, 12]\n",
      "[2, 4, 6, 10, 8]\n",
      "------------------------------------------------------\n",
      "[4, 8, 12]\n",
      "[4, 8, 12]\n",
      "-----------------------------------------------\n",
      "[2, 4, 8, 10, 12]\n",
      "[2, 4, 8, 10]\n",
      "[2, 25, 4, 8, 10]\n",
      "---------------------------------------------------------------\n",
      "[2, 4, 9, 100, 56]\n",
      "[2, 4, 6]\n",
      "----------------------------------------------------\n",
      "[]\n"
     ]
    },
    {
     "ename": "NameError",
     "evalue": "name 'my_list' is not defined",
     "output_type": "error",
     "traceback": [
      "\u001b[1;31m---------------------------------------------------------------------------\u001b[0m",
      "\u001b[1;31mNameError\u001b[0m                                 Traceback (most recent call last)",
      "\u001b[1;32m~\\AppData\\Local\\Temp\\ipykernel_2788\\642680464.py\u001b[0m in \u001b[0;36m<module>\u001b[1;34m\u001b[0m\n\u001b[0;32m    108\u001b[0m \u001b[1;33m\u001b[0m\u001b[0m\n\u001b[0;32m    109\u001b[0m \u001b[1;32mdel\u001b[0m \u001b[0mmy_list\u001b[0m\u001b[1;33m\u001b[0m\u001b[1;33m\u001b[0m\u001b[0m\n\u001b[1;32m--> 110\u001b[1;33m \u001b[0mprint\u001b[0m\u001b[1;33m(\u001b[0m\u001b[0mmy_list\u001b[0m\u001b[1;33m)\u001b[0m\u001b[1;33m\u001b[0m\u001b[1;33m\u001b[0m\u001b[0m\n\u001b[0m",
      "\u001b[1;31mNameError\u001b[0m: name 'my_list' is not defined"
     ]
    }
   ],
   "source": [
    "'''\n",
    "Removing elementgs from a list:\n",
    "\n",
    "Method                         Description \n",
    "\n",
    "remove(item)                   To remove the first occurace of the item from the list.\n",
    "pop(index)                     Removes and returns the item at given index from the list.\n",
    "clear()                        To remove all the items from the list. The output will be empty list.\n",
    "del list_name                  Delete Entire List.\n",
    "\n",
    "'''\n",
    "\n",
    "#Remove Specific item\n",
    "\n",
    "#Use remove() method to remove the first occurance of item from the list\n",
    "\n",
    "#Note: Throws a keyerror if an item not present in the original list.\n",
    "\n",
    "my_list = [2, 4, 6, 8, 10, 12]\n",
    "\n",
    "#Remove element 6 from my_list\n",
    "\n",
    "my_list.remove(6)\n",
    "print(my_list)\n",
    "\n",
    "my_list = [2, 4, 6, 8, 10, 8]\n",
    "my_list.remove(8)\n",
    "print(my_list)\n",
    "\n",
    "print(\"------------------------------------------------------\")\n",
    "\n",
    "#Remove all occurance of number 6 from specific list\n",
    "\n",
    "my_list1 = [6, 4, 6, 6, 8, 6, 12] \n",
    "\n",
    "for item in my_list1:\n",
    "    my_list1.remove(6) #It will remove all occrance of no 6\n",
    "    \n",
    "print(my_list1)\n",
    "    \n",
    "    \n",
    "#remove all occurance of specific list\n",
    "\n",
    "my_list2=[6,4,6,6,8,6,12]\n",
    "\n",
    "for i in my_list2:\n",
    "    my_list2.remove(6)\n",
    "\n",
    "print(my_list2)\n",
    "\n",
    "print(\"-----------------------------------------------\")\n",
    "\n",
    "#Remove item present at given index\n",
    "\n",
    "#Use the pop() method to remove the item at given index\n",
    "\n",
    "#Note: It will remove the last item from the list if the index number is not passed \n",
    "\n",
    "l1 = [2, 4, 6, 8, 10, 12]\n",
    "\n",
    "l1.pop(2) #pop(2) removes value present at index 2\n",
    "print(l1)\n",
    "\n",
    "l1.pop() #If index is not passed, it will remove last value from the list\n",
    "print(l1)\n",
    "\n",
    "l1.insert(1,25)\n",
    "print(l1)\n",
    "\n",
    "l1.pop()\n",
    "\n",
    "print(\"---------------------------------------------------------------\")\n",
    "\n",
    "#Remove the range of item\n",
    "\n",
    "#Use del keyword along with list slicing to remove the range of items \n",
    "\n",
    "my_list = [2, 4, 6, 8, 10, 12, 9, 100, 56]\n",
    "\n",
    "#remove the rage of items \n",
    "\n",
    "\n",
    "#remove the intems from 2 to 5\n",
    "del my_list[2:6]\n",
    "print(my_list)\n",
    "\n",
    "#remove all the items starting from index 3\n",
    "my_list = [2, 4, 6, 8, 10, 12, 9, 100, 56]\n",
    "\n",
    "del my_list[3:]\n",
    "print(my_list)\n",
    "\n",
    "\n",
    "\n",
    "\n",
    "print(\"----------------------------------------------------\")\n",
    "\n",
    "#Remove all item\n",
    "\n",
    "#use the clear() method to remove all the items from the list\n",
    "\n",
    "my_list = [2, 6, 8, 10, 12]\n",
    "\n",
    "#clear list\n",
    "\n",
    "my_list.clear()\n",
    "print(my_list)\n",
    "\n",
    "del my_list\n",
    "print(my_list)"
   ]
  },
  {
   "cell_type": "code",
   "execution_count": 24,
   "id": "acde2ee0",
   "metadata": {},
   "outputs": [
    {
     "name": "stdout",
     "output_type": "stream",
     "text": [
      "1\n"
     ]
    },
    {
     "ename": "ValueError",
     "evalue": "100 is not in list",
     "output_type": "error",
     "traceback": [
      "\u001b[1;31m---------------------------------------------------------------------------\u001b[0m",
      "\u001b[1;31mValueError\u001b[0m                                Traceback (most recent call last)",
      "\u001b[1;32m~\\AppData\\Local\\Temp\\ipykernel_2788\\3597639087.py\u001b[0m in \u001b[0;36m<module>\u001b[1;34m\u001b[0m\n\u001b[0;32m     10\u001b[0m \u001b[0mprint\u001b[0m\u001b[1;33m(\u001b[0m\u001b[0mmy_list\u001b[0m\u001b[1;33m.\u001b[0m\u001b[0mindex\u001b[0m\u001b[1;33m(\u001b[0m\u001b[1;36m6\u001b[0m\u001b[1;33m)\u001b[0m\u001b[1;33m)\u001b[0m \u001b[1;31m#Returns the index position of the value\u001b[0m\u001b[1;33m\u001b[0m\u001b[1;33m\u001b[0m\u001b[0m\n\u001b[0;32m     11\u001b[0m \u001b[1;33m\u001b[0m\u001b[0m\n\u001b[1;32m---> 12\u001b[1;33m \u001b[0mprint\u001b[0m\u001b[1;33m(\u001b[0m\u001b[0mmy_list\u001b[0m\u001b[1;33m.\u001b[0m\u001b[0mindex\u001b[0m\u001b[1;33m(\u001b[0m\u001b[1;36m100\u001b[0m\u001b[1;33m)\u001b[0m\u001b[1;33m)\u001b[0m\u001b[1;33m\u001b[0m\u001b[1;33m\u001b[0m\u001b[0m\n\u001b[0m",
      "\u001b[1;31mValueError\u001b[0m: 100 is not in list"
     ]
    }
   ],
   "source": [
    "# Finding an elements in the list\n",
    "\n",
    "#Use the index() function to find an item's index number from a list\n",
    "\n",
    "#The index() fun will accept the value as parameter and returns the first occurance of index \n",
    "#of that given value.\n",
    "\n",
    "my_list = [2,6,8,10,6,5,78,4]\n",
    "\n",
    "print(my_list.index(6)) #Returns the index position of the value \n",
    "\n",
    "print(my_list.index(100)) #ValueError: 100 is not in list\n"
   ]
  },
  {
   "cell_type": "code",
   "execution_count": 26,
   "id": "c7fd96d8",
   "metadata": {},
   "outputs": [
    {
     "name": "stdout",
     "output_type": "stream",
     "text": [
      "[1, 2, 3, 4, 5, 6]\n",
      "------------------------------------------\n",
      "[1, 2, 3, 4, 5, 6]\n"
     ]
    }
   ],
   "source": [
    "'''\n",
    "Concatenation of two lists\n",
    "\n",
    "the concatenation of two lists means merging of the two list using + operator\n",
    "& using extend()\n",
    "\n",
    "The extend() method appends the new list items at the end of the calling list\n",
    "\n",
    "'''\n",
    "\n",
    "#example of concatenation\n",
    "\n",
    "my_list1 = [1,2,3]\n",
    "my_list2 = [4,5,6]\n",
    "\n",
    "#using + operator\n",
    "\n",
    "my_list3 = my_list1 + my_list2\n",
    "print(my_list3)\n",
    "\n",
    "print(\"------------------------------------------\")\n",
    "\n",
    "my_list1.extend(my_list2)\n",
    "print(my_list1)"
   ]
  },
  {
   "cell_type": "code",
   "execution_count": 34,
   "id": "f5bb5e67",
   "metadata": {},
   "outputs": [
    {
     "name": "stdout",
     "output_type": "stream",
     "text": [
      "[1, 2, 3]\n",
      "[1, 2, 3, 2]\n",
      "[1, 2, 3, 2]\n",
      "---------------------------------------------------\n",
      "[1, 2, 3]\n",
      "[1, 2, 3, [2, 6, 8]]\n",
      "[1, 2, 3]\n"
     ]
    }
   ],
   "source": [
    "\"\"\"\n",
    "Copying a list\n",
    "\n",
    "There are two ways by which a copy of a list can be done.\n",
    "\n",
    "-Using assignment operator (=)\n",
    "This is a straightforward way of creating copy\n",
    "In this method, the new list will be deep copy.\n",
    "\n",
    "The changes that we make in the original list will be reflected in the newly created list.\n",
    "This is called deep copy.\n",
    "\n",
    "\n",
    "\"\"\"\n",
    "\n",
    "#Example \n",
    "\n",
    "my_list1 = [1,2,3]\n",
    "\n",
    "new_list = my_list1\n",
    "\n",
    "print(new_list)\n",
    "\n",
    "#Making changes in original list\n",
    "my_list1.append(2)\n",
    "\n",
    "#Changes will deone in both copies \n",
    "print(my_list1)\n",
    "print(new_list)\n",
    "\n",
    "print(\"---------------------------------------------------\")\n",
    "\n",
    "\"\"\"\n",
    "Another Method \n",
    "\n",
    "Using copy() method\n",
    "\n",
    "This will create a new list and any changes made in original list will not be reflected in the new \n",
    "list.\n",
    "\n",
    "This is called shallow copying\n",
    "\n",
    "\"\"\"\n",
    "\n",
    "my_list = [1, 2, 3]\n",
    "\n",
    "#Using copy() method\n",
    "\n",
    "new_list =  my_list.copy()\n",
    "\n",
    "print(new_list)\n",
    "\n",
    "#Making changes in original list\n",
    "my_list.append([2,6,8])\n",
    "\n",
    "#Print both copies >> change happend in only my_list\n",
    "print(my_list)\n",
    "\n",
    "print(new_list)\n"
   ]
  },
  {
   "cell_type": "code",
   "execution_count": 44,
   "id": "a2c18bc1",
   "metadata": {},
   "outputs": [
    {
     "name": "stdout",
     "output_type": "stream",
     "text": [
      "[1, 4, 5, 5, 6, 7, 7, 8, 9, 9]\n",
      "[9, 9, 8, 7, 7, 6, 5, 5, 4, 1]\n",
      "[8, 7, 4, 2, 2, 1]\n",
      "-------------------------------------------------\n",
      "[1, 7, 6, 5, 4, 3]\n"
     ]
    }
   ],
   "source": [
    "\"\"\"\n",
    "List Operations \n",
    "\n",
    "We can perform some operations over list by using certain functions like sort(), reverse(), clear() \n",
    "etc.\n",
    "\n",
    "\"\"\"\n",
    "\n",
    "#Sort List using sort()\n",
    "\n",
    "#The Sort funtcion sorts the elements in the list in ascending order\n",
    "\n",
    "mylist = [1,5,8,4,7,6,9,7,5,9]\n",
    "mylist.sort()\n",
    "\n",
    "print(mylist)\n",
    "\n",
    "mylist = [1,5,8,4,7,6,9,7,5,9]\n",
    "mylist.sort(reverse = True)\n",
    "\n",
    "print(mylist)\n",
    "\n",
    "\n",
    "my_list = [4,2,7,2,1,8]\n",
    "\n",
    "sorted_list = sorted(my_list ,reverse = True)\n",
    "print(sorted_list)\n",
    "\n",
    "print(\"-------------------------------------------------\")\n",
    "\n",
    "#Reverse a list using reverse()\n",
    "\n",
    "#The reverse function used to reverse elements in the list\n",
    "\n",
    "mylist = [3,4,5,6,7,1]\n",
    "mylist.reverse()\n",
    "\n",
    "print(mylist)\n",
    "\n"
   ]
  },
  {
   "cell_type": "code",
   "execution_count": 2,
   "id": "d2d18f4f",
   "metadata": {},
   "outputs": [
    {
     "name": "stdout",
     "output_type": "stream",
     "text": [
      "6\n",
      "1\n",
      "19\n"
     ]
    }
   ],
   "source": [
    "#Python Build-In Functions with list\n",
    "\n",
    "#Using min() and max()\n",
    "\n",
    "my_list = [3,4,5,6,1]\n",
    "\n",
    "#max() function will find maximum value from the given list\n",
    "\n",
    "print(max(my_list)) #max value \n",
    "\n",
    "#min() function will find maximum value from the given list\n",
    "\n",
    "print(min(my_list)) #max value \n",
    "\n",
    "#sum() will return sum of the list\n",
    "\n",
    "print(sum(my_list))"
   ]
  },
  {
   "cell_type": "code",
   "execution_count": 6,
   "id": "5f224530",
   "metadata": {},
   "outputs": [
    {
     "name": "stdout",
     "output_type": "stream",
     "text": [
      "2 X 1 = 2\n",
      "2 X 2 = 4\n",
      "2 X 3 = 6\n",
      "2 X 4 = 8\n",
      "2 X 5 = 10\n",
      "2 X 6 = 12\n",
      "2 X 7 = 14\n",
      "2 X 8 = 16\n",
      "2 X 9 = 18\n",
      "2 X 10 = 20\n",
      "5 X 1 = 5\n",
      "5 X 2 = 10\n",
      "5 X 3 = 15\n",
      "5 X 4 = 20\n",
      "5 X 5 = 25\n",
      "5 X 6 = 30\n",
      "5 X 7 = 35\n",
      "5 X 8 = 40\n",
      "5 X 9 = 45\n",
      "5 X 10 = 50\n"
     ]
    }
   ],
   "source": [
    "#Q1. Write a program to print the tables of the numbers \n",
    "#present in list.\n",
    "\n",
    "my_list = [2,5]\n",
    "\n",
    "l = [2,5]  #----> [2,4,6,8,10,12,14,16,18,20]\n",
    "\n",
    "l=[2,5]\n",
    "for i in l:\n",
    "    for j in range(1,11):\n",
    "        print(f\"{i} X {j} = {i*j}\") \n"
   ]
  },
  {
   "cell_type": "code",
   "execution_count": 14,
   "id": "3c228029",
   "metadata": {},
   "outputs": [
    {
     "name": "stdout",
     "output_type": "stream",
     "text": [
      "[2, 4, 6, 8, 10, 12, 14, 16, 18, 20]\n",
      "[4, 8, 12, 16, 20, 24, 28, 32, 36, 40]\n",
      "[6, 12, 18, 24, 30, 36, 42, 48, 54, 60]\n",
      "[8, 16, 24, 32, 40, 48, 56, 64, 72, 80]\n",
      "[10, 20, 30, 40, 50, 60, 70, 80, 90, 100]\n",
      "[12, 24, 36, 48, 60, 72, 84, 96, 108, 120]\n",
      "[14, 28, 42, 56, 70, 84, 98, 112, 126, 140]\n",
      "[16, 32, 48, 64, 80, 96, 112, 128, 144, 160]\n",
      "[18, 36, 54, 72, 90, 108, 126, 144, 162, 180]\n",
      "[20, 40, 60, 80, 100, 120, 140, 160, 180, 200]\n"
     ]
    }
   ],
   "source": [
    "#Write a program to create list of table 2\n",
    "\n",
    "#Result should be like --> [2,4,6,8,10,12,14,16,18,20]\n",
    "\n",
    "a=[2,4,6,8,10,12,14,16,18,20]\n",
    "b=[]\n",
    "for i in a:\n",
    "    temp=[]\n",
    "    for j in range(1,11):\n",
    "        mul=i*j\n",
    "        temp.append(mul)\n",
    "    b.append(temp)\n",
    "\n",
    "\n",
    "for i in b:\n",
    "    print(i)\n",
    "\n",
    "\n"
   ]
  },
  {
   "cell_type": "code",
   "execution_count": null,
   "id": "6b180d00",
   "metadata": {},
   "outputs": [],
   "source": [
    "#Q3.Write a program to create a list of favorite fruits of user\n",
    "\n",
    "fruits = []\n",
    "\n",
    "while True:\n",
    "    n = input(\"Enter your fav fruite = \")\n",
    "    \n",
    "    if n == 'exit':\n",
    "        break\n",
    "    else:\n",
    "        fruits.append(n)\n",
    "\n",
    "print(fruits)\n",
    "    "
   ]
  },
  {
   "cell_type": "code",
   "execution_count": 8,
   "id": "f1efdb0d",
   "metadata": {},
   "outputs": [
    {
     "name": "stdout",
     "output_type": "stream",
     "text": [
      "[[1, 2, 3, 4, 5, 6, 7, 8, 9, 10], [2, 4, 6, 8, 10, 12, 14, 16, 18, 20]]\n"
     ]
    }
   ],
   "source": [
    "#Nested list (2D list)\n",
    "\n",
    "#the list can contain another list(sub-list), which contains anothor list and so on.\n",
    "\n",
    "#This term is called as nested list\n",
    "\n",
    "#             0                          1\n",
    "#     0 1 2 3 4 5 6 7 8 9    0 1 2 3 4  5  6  7  8  9\n",
    "l = [[1,2,3,4,5,6,7,8,9,10],[2,4,6,8,10,12,14,16,18,20]]\n",
    "\n",
    "print(l)"
   ]
  },
  {
   "cell_type": "code",
   "execution_count": 9,
   "id": "af34ac17",
   "metadata": {},
   "outputs": [
    {
     "name": "stdout",
     "output_type": "stream",
     "text": [
      "14\n"
     ]
    }
   ],
   "source": [
    "#Access 2D list, an element 6th index position value from \n",
    "#1st index position list\n",
    "\n",
    "print(l[1][6]) \n",
    "\n",
    "#--> Go into 1st index pos list and retrive its 6th index pos value"
   ]
  },
  {
   "cell_type": "code",
   "execution_count": 12,
   "id": "fdfcfb04",
   "metadata": {},
   "outputs": [
    {
     "name": "stdout",
     "output_type": "stream",
     "text": [
      "[[1], []]\n",
      "[[1], [2]]\n",
      "[[1], [2, [2, 3, 4]]]\n"
     ]
    }
   ],
   "source": [
    "#    0   \n",
    "b = [[],[]]\n",
    "\n",
    "b[0].append(1)\n",
    "print(b)\n",
    "\n",
    "b[1].append(2)\n",
    "print(b)\n",
    "#                       0         1\n",
    "#                            0      1\n",
    "#                                0  1  2\n",
    "b[1].append([2,3,4]) #[[1], [2, [2, 3, 4]]]\n",
    "print(b)\n"
   ]
  },
  {
   "cell_type": "code",
   "execution_count": 14,
   "id": "682a3cb8",
   "metadata": {},
   "outputs": [
    {
     "name": "stdout",
     "output_type": "stream",
     "text": [
      "Accessing the third element of second list  5\n",
      "list [2, 4, 6, 8, 10] elements\n",
      "2\n",
      "4\n",
      "6\n",
      "8\n",
      "10\n",
      "list [1, 3, 5, 7, 9] elements\n",
      "1\n",
      "3\n",
      "5\n",
      "7\n",
      "9\n"
     ]
    }
   ],
   "source": [
    "#Access each element from the list\n",
    "\n",
    "nestedlist = [[2,4,6,8,10],[1,3,5,7,9]]\n",
    "\n",
    "print(\"Accessing the third element of second list \",nestedlist[1][2])\n",
    "\n",
    "for i in nestedlist:\n",
    "    print(\"list\", i, \"elements\")\n",
    "    for j in i:\n",
    "        print(j)"
   ]
  },
  {
   "cell_type": "code",
   "execution_count": 6,
   "id": "329f7aad",
   "metadata": {},
   "outputs": [
    {
     "name": "stdout",
     "output_type": "stream",
     "text": [
      "[[1, 2, 3, 4, 5, 6, 7, 8, 9, 10], [2, 4, 6, 8, 10, 12, 14, 16, 18, 20], [3, 6, 9, 12, 15, 18, 21, 24, 27, 30], [4, 8, 12, 16, 20, 24, 28, 32, 36, 40], [5, 10, 15, 20, 25, 30, 35, 40, 45, 50], [6, 12, 18, 24, 30, 36, 42, 48, 54, 60], [7, 14, 21, 28, 35, 42, 49, 56, 63, 70], [8, 16, 24, 32, 40, 48, 56, 64, 72, 80], [9, 18, 27, 36, 45, 54, 63, 72, 81, 90], [10, 20, 30, 40, 50, 60, 70, 80, 90, 100]]\n",
      "--------------------------------------\n",
      "[1, 2, 3, 4, 5, 6, 7, 8, 9, 10]\n",
      "[2, 4, 6, 8, 10, 12, 14, 16, 18, 20]\n",
      "[3, 6, 9, 12, 15, 18, 21, 24, 27, 30]\n",
      "[4, 8, 12, 16, 20, 24, 28, 32, 36, 40]\n",
      "[5, 10, 15, 20, 25, 30, 35, 40, 45, 50]\n",
      "[6, 12, 18, 24, 30, 36, 42, 48, 54, 60]\n",
      "[7, 14, 21, 28, 35, 42, 49, 56, 63, 70]\n",
      "[8, 16, 24, 32, 40, 48, 56, 64, 72, 80]\n",
      "[9, 18, 27, 36, 45, 54, 63, 72, 81, 90]\n",
      "[10, 20, 30, 40, 50, 60, 70, 80, 90, 100]\n"
     ]
    }
   ],
   "source": [
    "#Q1. Write a program to create a list of table from 1 to 10.\n",
    "\n",
    "tables = []\n",
    "for i in range(1,11):\n",
    "    temp = []\n",
    "    for j in range(1,11):\n",
    "        temp.append(i*j)\n",
    "    tables.append(temp)\n",
    "    \n",
    "print(tables)\n",
    "\n",
    "print(\"--------------------------------------\")\n",
    "\n",
    "for i in tables:\n",
    "    print(i)\n",
    "\n",
    "\n",
    "        \n",
    "\n",
    "\n"
   ]
  },
  {
   "cell_type": "code",
   "execution_count": null,
   "id": "a045c965",
   "metadata": {},
   "outputs": [],
   "source": [
    "#write a Python program to count positive and negative numbers in a List. \n"
   ]
  },
  {
   "cell_type": "markdown",
   "id": "c00dba85",
   "metadata": {},
   "source": [
    "# List Comprehension"
   ]
  },
  {
   "cell_type": "code",
   "execution_count": 9,
   "id": "c7786892",
   "metadata": {},
   "outputs": [
    {
     "name": "stdout",
     "output_type": "stream",
     "text": [
      "[16, 324, 400]\n",
      "-------------------------------------------------\n",
      "[49, 121, 169]\n"
     ]
    }
   ],
   "source": [
    "'''\n",
    "List Comprehension - \n",
    "\n",
    "List Comprehension is simpler method to create a list\n",
    "from an existing list.\n",
    "\n",
    "It is genrally a list of iterables, genrated with an \n",
    "option to include only the item with satisfy a\n",
    "metioned condition within list comprehension.\n",
    "\n",
    "Syntax- \n",
    "\n",
    "outputList = [expression(veriable) for veriable in inputlist [if veriable condition 1][if veriable condition 2]]\n",
    "\n",
    "1. expression(optional) : \n",
    "Expression to compute the members of the output list\n",
    "which satisfies the optional conditions.\n",
    "\n",
    "2.Variable(Required) : \n",
    "A veriable that represent the members of the input list\n",
    "\n",
    "3.InputList (Required): Represents the input list\n",
    "\n",
    "4.condition 1, condition2 ...n(optional):\n",
    "\n",
    "Filter conditions for the members of the output list.\n",
    "\n",
    "'''\n",
    "\n",
    "\n",
    "#Example- \n",
    "\n",
    "#create a square of each element present inside a list,\n",
    "#and filter out the even numbers from list\n",
    "\n",
    "inputlist = [4,7,11,13,18,20]\n",
    "\n",
    "#outputList = [expression(veriable) for veriable in inputlist \n",
    "             #[if veriable condition 1][if veriable condition 2]]\n",
    "\n",
    "\n",
    "squarelist = [i**2 for i in inputlist if i%2==0]\n",
    "\n",
    "print(squarelist)\n",
    "\n",
    "print('-------------------------------------------------')\n",
    "\n",
    "inputlist = [4,7,11,13,18,20]\n",
    "\n",
    "#outputList = [expression(veriable) for veriable in inputlist \n",
    "             #[if veriable condition 1][if veriable condition 2]]\n",
    "\n",
    "\n",
    "Oddlist = [i**2 for i in inputlist if i%2!=0]\n",
    "\n",
    "print(Oddlist)\n"
   ]
  },
  {
   "cell_type": "code",
   "execution_count": 11,
   "id": "b5e93081",
   "metadata": {},
   "outputs": [
    {
     "name": "stdout",
     "output_type": "stream",
     "text": [
      "[16, 49, 121, 169, 324, 400]\n"
     ]
    }
   ],
   "source": [
    "inputlist = [4, 7, 11, 13, 18, 20]\n",
    "\n",
    "combinedList = [i**2 if i % 2 == 0 else abs(-i**2)for i in inputlist]\n",
    "\n",
    "print(combinedList)"
   ]
  },
  {
   "cell_type": "code",
   "execution_count": 12,
   "id": "a8a9dbbe",
   "metadata": {},
   "outputs": [
    {
     "name": "stdout",
     "output_type": "stream",
     "text": [
      "[1, 2, 3, 4, 5, 6, 7, 8, 9, 10]\n"
     ]
    }
   ],
   "source": [
    "a = []\n",
    "for i in range(1,11):\n",
    "    a.append(i)\n",
    "\n",
    "print(a)"
   ]
  },
  {
   "cell_type": "code",
   "execution_count": 15,
   "id": "4e735779",
   "metadata": {},
   "outputs": [
    {
     "name": "stdout",
     "output_type": "stream",
     "text": [
      "[1, 2, 3, 4, 5, 6, 7, 8, 9, 10]\n",
      "-----------------------------\n",
      "[1, 4, 9, 16, 25, 36, 49, 64, 81, 100]\n"
     ]
    }
   ],
   "source": [
    "a = [x for x in range(1,11)]\n",
    "print(a)\n",
    "\n",
    "print(\"-----------------------------\")\n",
    "\n",
    "a = [x**2 for x in range(1,11)]\n",
    "print(a)\n"
   ]
  },
  {
   "cell_type": "code",
   "execution_count": 19,
   "id": "a5597252",
   "metadata": {},
   "outputs": [
    {
     "name": "stdout",
     "output_type": "stream",
     "text": [
      "[4, 16, 7, 64, 3, 36]\n"
     ]
    }
   ],
   "source": [
    "\n",
    "a = [2, 4, 7, 8, 3, 6]\n",
    "\n",
    "a = [x**2 if x % 2 == 0 else x for x in a]\n",
    "print(a)\n",
    "\n"
   ]
  },
  {
   "cell_type": "code",
   "execution_count": 20,
   "id": "3a668a6b",
   "metadata": {},
   "outputs": [
    {
     "name": "stdout",
     "output_type": "stream",
     "text": [
      "[[0, 1, 2], [0, 1, 2], [0, 1, 2], [0, 1, 2], [0, 1, 2]]\n"
     ]
    }
   ],
   "source": [
    "#Using list comrehension create a 2d list\n",
    "\n",
    "matrix = [[j for j in range(3)] for i in range(5)]\n",
    "\n",
    "\n",
    "#for i in range(5):\n",
    "#    for j in range(3):\n",
    "#        print(j)\n",
    "\n",
    "print(matrix)"
   ]
  },
  {
   "cell_type": "code",
   "execution_count": 22,
   "id": "5fa0616d",
   "metadata": {},
   "outputs": [
    {
     "name": "stdout",
     "output_type": "stream",
     "text": [
      "enter a number 3\n",
      "enter a number 5\n",
      "enter a number 7\n",
      "enter a number 8\n",
      "enter a number 9\n",
      "[3, 5, 7, 8, 9]\n"
     ]
    }
   ],
   "source": [
    "list1=[]\n",
    "\n",
    "for i in range(5):\n",
    "    a = int(input(\"enter a number \"))\n",
    "    list1.append(a)\n",
    "    \n",
    "print(list1)"
   ]
  },
  {
   "cell_type": "code",
   "execution_count": 1,
   "id": "4b283efd",
   "metadata": {},
   "outputs": [
    {
     "name": "stdout",
     "output_type": "stream",
     "text": [
      "Even Number: [2, 4, 6, 8]\n",
      "Odd Number: [1, 3, 5, 7, 9]\n"
     ]
    }
   ],
   "source": [
    "orig_list = [1,2,3,4,5,6,7,8,9]\n",
    "\n",
    "even_list,odd_list = [num for num in orig_list if num % 2 == 0],[num for num in orig_list if num % 2 != 0]\n",
    "\n",
    "print(\"Even Number:\",even_list)\n",
    "print(\"Odd Number:\",odd_list)"
   ]
  }
 ],
 "metadata": {
  "kernelspec": {
   "display_name": "Python 3 (ipykernel)",
   "language": "python",
   "name": "python3"
  },
  "language_info": {
   "codemirror_mode": {
    "name": "ipython",
    "version": 3
   },
   "file_extension": ".py",
   "mimetype": "text/x-python",
   "name": "python",
   "nbconvert_exporter": "python",
   "pygments_lexer": "ipython3",
   "version": "3.9.12"
  }
 },
 "nbformat": 4,
 "nbformat_minor": 5
}
