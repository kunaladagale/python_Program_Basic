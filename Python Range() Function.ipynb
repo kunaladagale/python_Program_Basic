{
 "cells": [
  {
   "cell_type": "code",
   "execution_count": 2,
   "id": "0319f591",
   "metadata": {},
   "outputs": [
    {
     "name": "stdout",
     "output_type": "stream",
     "text": [
      "0\n",
      "1\n",
      "2\n",
      "3\n",
      "4\n",
      "5\n",
      "6\n"
     ]
    }
   ],
   "source": [
    "'''\n",
    "Python range() function generates the immutable (cannot be changed) sequence of numbers from the \n",
    "given start value to stop value.\n",
    "\n",
    "The range() is a built-in fuction that returns object that series of integer numbers which we can \n",
    "iterate using for loop.\n",
    "\n",
    "'''\n",
    "#gernarate numbers between 0 to 6\n",
    "\n",
    "for i in range(0,7):  #start = 0 ,end = 7 but end will be excluded while printing \n",
    "    print(i)"
   ]
  },
  {
   "cell_type": "code",
   "execution_count": 8,
   "id": "eefa2888",
   "metadata": {},
   "outputs": [
    {
     "name": "stdout",
     "output_type": "stream",
     "text": [
      "11 13 15 17 19 21 23 25 27 29 31 33 35 37 39 41 43 45 47 49 10 12 14 16 18 20 22 24 26 28 30 32 34 36 38 40 42 44 46 48 50 "
     ]
    }
   ],
   "source": [
    "# print odd numbers between  10 , 50.\n",
    "\n",
    "for i in range(11,50,2):\n",
    "    print(i, end = ' ') # 10-50 odd no --> 11 , 13 --> 13-11 = 2\n"
   ]
  },
  {
   "cell_type": "code",
   "execution_count": 9,
   "id": "e7684306",
   "metadata": {},
   "outputs": [
    {
     "name": "stdout",
     "output_type": "stream",
     "text": [
      "10 12 14 16 18 20 22 24 26 28 30 32 34 36 38 40 42 44 46 48 50 "
     ]
    }
   ],
   "source": [
    "# print even numbers between  10 , 50.\n",
    "\n",
    "for i in range(10,51,2): # 10,12 even no --> 12-10 = 2\n",
    "    print(i, end = ' ')"
   ]
  },
  {
   "cell_type": "code",
   "execution_count": 12,
   "id": "a872affa",
   "metadata": {},
   "outputs": [
    {
     "name": "stdout",
     "output_type": "stream",
     "text": [
      "9\n",
      "8\n",
      "7\n",
      "6\n",
      "5\n",
      "4\n",
      "3\n",
      "2\n",
      "1\n"
     ]
    }
   ],
   "source": [
    "# Reverse range \n",
    "\n",
    "for i in range(9,0,-1):\n",
    "    print(i)"
   ]
  },
  {
   "cell_type": "code",
   "execution_count": 13,
   "id": "231a8493",
   "metadata": {},
   "outputs": [
    {
     "name": "stdout",
     "output_type": "stream",
     "text": [
      "9\n",
      "8\n",
      "7\n",
      "6\n",
      "5\n",
      "4\n",
      "3\n",
      "2\n",
      "1\n",
      "0\n"
     ]
    }
   ],
   "source": [
    "# Reverse range \n",
    "\n",
    "for i in range(9,-1,-1):\n",
    "    print(i)"
   ]
  },
  {
   "cell_type": "code",
   "execution_count": 16,
   "id": "8cd11b15",
   "metadata": {},
   "outputs": [
    {
     "name": "stdout",
     "output_type": "stream",
     "text": [
      "20\n",
      "19\n",
      "18\n",
      "17\n",
      "16\n",
      "15\n",
      "14\n",
      "13\n",
      "12\n",
      "11\n",
      "10\n",
      "------------------------------------------------------\n",
      "<class 'range_iterator'>\n"
     ]
    }
   ],
   "source": [
    "#Reverse range using Revered() built-in function\n",
    "\n",
    "for i in reversed(range(10,21)):\n",
    "    print(i)\n",
    "    \n",
    "print(\"------------------------------------------------------\")   \n",
    "\n",
    "print(type(reversed(range(10,21))))"
   ]
  },
  {
   "cell_type": "code",
   "execution_count": null,
   "id": "43c320bb",
   "metadata": {},
   "outputs": [],
   "source": [
    "#Create a decrement range for 30 to 20 --> 30,28,26...."
   ]
  },
  {
   "cell_type": "code",
   "execution_count": 19,
   "id": "aba17332",
   "metadata": {},
   "outputs": [
    {
     "name": "stdout",
     "output_type": "stream",
     "text": [
      "range(3, 8)\n",
      "3\n",
      "4\n",
      "5\n",
      "6\n",
      "7\n"
     ]
    }
   ],
   "source": [
    "'''\n",
    "Range Slicing- \n",
    "\n",
    " 0  1  2, 3  4  5  6  7  8  9 --> Index\n",
    " 0, 1, 2, 3, 4, 5, 6, 7, 8, 9 --> Numbers or sequence\n",
    "\n",
    "'''\n",
    "var = range(10)[3:8] # 0,1,2......9  --> [3:8] --> slicing \n",
    "print(var)\n",
    "\n",
    "for i in var:\n",
    "    print(i)"
   ]
  },
  {
   "cell_type": "code",
   "execution_count": 20,
   "id": "5b245a75",
   "metadata": {},
   "outputs": [
    {
     "name": "stdout",
     "output_type": "stream",
     "text": [
      "0\n",
      "1\n",
      "2\n",
      "3\n",
      "4\n",
      "5\n",
      "6\n",
      "7\n",
      "8\n",
      "9\n"
     ]
    }
   ],
   "source": [
    "for i in range(10):\n",
    "    print(i)"
   ]
  }
 ],
 "metadata": {
  "kernelspec": {
   "display_name": "Python 3 (ipykernel)",
   "language": "python",
   "name": "python3"
  },
  "language_info": {
   "codemirror_mode": {
    "name": "ipython",
    "version": 3
   },
   "file_extension": ".py",
   "mimetype": "text/x-python",
   "name": "python",
   "nbconvert_exporter": "python",
   "pygments_lexer": "ipython3",
   "version": "3.9.12"
  }
 },
 "nbformat": 4,
 "nbformat_minor": 5
}
