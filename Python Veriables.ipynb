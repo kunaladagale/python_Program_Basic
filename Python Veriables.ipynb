{
 "cells": [
  {
   "cell_type": "markdown",
   "id": "251e799a",
   "metadata": {},
   "source": [
    "# Veriable & Identifier"
   ]
  },
  {
   "cell_type": "code",
   "execution_count": 18,
   "id": "fc93973a",
   "metadata": {},
   "outputs": [
    {
     "name": "stdout",
     "output_type": "stream",
     "text": [
      "Anshika\n",
      "---------------------------------------------------------------------\n",
      "25+26\n",
      "---------------------------------------------------------------------\n",
      "22\n",
      "---------------------------------------------------------------------\n",
      "25000.0\n",
      "---------------------------------------------------------------------\n",
      "25\n",
      "<class 'int'>\n",
      "---------------------------------------------------------------------\n",
      "Kaustubh\n",
      "<class 'str'>\n",
      "---------------------------------------------------------------------\n",
      "\n",
      "<class 'str'>\n",
      "---------------------------------------------------------------------\n",
      "(3+5j)\n",
      "<class 'complex'>\n"
     ]
    }
   ],
   "source": [
    "#Veriable - It is a reserved memory area to store value. (memory address) \n",
    "\n",
    "#ex - salary = 25000\n",
    "\n",
    "# veriable_name (left side) =(assignment operator) Value (right side)\n",
    "\n",
    "#Python is danamically typed langauge so there is no need to declare a veriable using data type.\n",
    "#The declaration happens automatically when we assign value to a veriable.\n",
    "\n",
    "\n",
    "name = \"Anshika\"\n",
    "print(name)\n",
    "\n",
    "print(\"---------------------------------------------------------------------\")\n",
    "\n",
    "var = (\"25+26\")\n",
    "print(var)\n",
    "\n",
    "print(\"---------------------------------------------------------------------\")\n",
    "\n",
    "age = 22\n",
    "print(age)\n",
    "\n",
    "print(\"---------------------------------------------------------------------\")\n",
    "\n",
    "salary = 25000.00\n",
    "print(salary)\n",
    "\n",
    "print(\"---------------------------------------------------------------------\")\n",
    "\n",
    "# A veriable may be assigned to a value of one type and then later we can also re-assigned a value \n",
    "#of differnt type \n",
    "\n",
    "var = 25\n",
    "print(var)\n",
    "print(type(var))\n",
    "\n",
    "print(\"---------------------------------------------------------------------\")\n",
    "\n",
    "var = \"Kaustubh\"\n",
    "print(var)\n",
    "print(type(var))\n",
    "\n",
    "print(\"---------------------------------------------------------------------\")\n",
    "\n",
    "var = \"\"\n",
    "print(var)\n",
    "print(type(var))\n",
    "\n",
    "print(\"---------------------------------------------------------------------\")\n",
    "\n",
    "var = 3+5j\n",
    "print(var)\n",
    "print(type(var))"
   ]
  },
  {
   "cell_type": "code",
   "execution_count": 5,
   "id": "990ccd0f",
   "metadata": {},
   "outputs": [
    {
     "name": "stdout",
     "output_type": "stream",
     "text": [
      "100\n",
      "<class 'int'>\n"
     ]
    },
    {
     "ename": "NameError",
     "evalue": "name 'var3' is not defined",
     "output_type": "error",
     "traceback": [
      "\u001b[1;31m---------------------------------------------------------------------------\u001b[0m",
      "\u001b[1;31mNameError\u001b[0m                                 Traceback (most recent call last)",
      "\u001b[1;32m~\\AppData\\Local\\Temp\\ipykernel_14244\\1549405351.py\u001b[0m in \u001b[0;36m<module>\u001b[1;34m\u001b[0m\n\u001b[0;32m     12\u001b[0m \u001b[1;32mdel\u001b[0m \u001b[0mvar3\u001b[0m\u001b[1;33m\u001b[0m\u001b[1;33m\u001b[0m\u001b[0m\n\u001b[0;32m     13\u001b[0m \u001b[1;33m\u001b[0m\u001b[0m\n\u001b[1;32m---> 14\u001b[1;33m \u001b[0mprint\u001b[0m\u001b[1;33m(\u001b[0m\u001b[0mvar3\u001b[0m\u001b[1;33m)\u001b[0m\u001b[1;33m\u001b[0m\u001b[1;33m\u001b[0m\u001b[0m\n\u001b[0m",
      "\u001b[1;31mNameError\u001b[0m: name 'var3' is not defined"
     ]
    }
   ],
   "source": [
    "#Delete a veriable\n",
    "\n",
    "#Use the del keyword to delete the veriable\n",
    "#onec we delete the veriable, it will no longer accessible and eligible for the garbage collector.\n",
    "\n",
    "var3 = 100\n",
    "print(var3)\n",
    "print(type(var3))\n",
    "\n",
    "#delete var3 --> We are going to delete var3\n",
    "\n",
    "del var3\n",
    "\n",
    "print(var3) #NameError: name 'var3' is not defined"
   ]
  },
  {
   "cell_type": "code",
   "execution_count": 8,
   "id": "808e4411",
   "metadata": {},
   "outputs": [
    {
     "name": "stdout",
     "output_type": "stream",
     "text": [
      "1827502773712\n",
      "1827502776976\n",
      "300\n"
     ]
    }
   ],
   "source": [
    "# Example of Veriable is case sensitive\n",
    "\n",
    "a = 100\n",
    "A = 200\n",
    "\n",
    "print(id(a)) # Memory Address- 1827502773712\n",
    "\n",
    "print(id(A)) # Memory Address- 1827502776976\n",
    "\n",
    "print(a+A)\n"
   ]
  },
  {
   "cell_type": "code",
   "execution_count": 15,
   "id": "cee43237",
   "metadata": {},
   "outputs": [
    {
     "name": "stdout",
     "output_type": "stream",
     "text": [
      "10\n",
      "10\n",
      "1827502582352\n",
      "1827502582352\n",
      "--------------------------------------------------------\n",
      "1827502582672\n",
      "1827502582672\n",
      "1827502582672\n"
     ]
    }
   ],
   "source": [
    "#In python , \n",
    "#whenever we create an object , a number is given to it and uniquely identfies it (Memory Address)\n",
    "\n",
    "#This number is nothing but a memory address of a veriable value.\n",
    "#python has built-in function id() to get the memory address of a veriable\n",
    "\n",
    "\n",
    "#Example\n",
    "\n",
    "m=10\n",
    "\n",
    "n=m\n",
    "print(n)\n",
    "print(m)\n",
    "print(id(n))\n",
    "print(id(m))\n",
    "\n",
    "print(\"--------------------------------------------------------\")\n",
    "\n",
    "\n",
    "#Example\n",
    "\n",
    "a=20\n",
    "b=20\n",
    "c=20\n",
    "\n",
    "print(id(a))\n",
    "print(id(b))\n",
    "print(id(c))"
   ]
  },
  {
   "cell_type": "code",
   "execution_count": null,
   "id": "98afbe2c",
   "metadata": {},
   "outputs": [],
   "source": [
    "#Constant Veriables-\n",
    "#Its a value that does not change, \n",
    "#which means it remains same and cannot be modified \n",
    "\n",
    "# But in case of python, the constant concept is not available\n",
    "#Python provides us \"Capitalized naming Convention method\"\n",
    "\n",
    "#by Convention, We can use only capital latters to define the \n",
    "#constant veriable in python.\n",
    "\n",
    "#Example \n",
    "\n",
    "MAX_VALUE = 500"
   ]
  },
  {
   "cell_type": "code",
   "execution_count": null,
   "id": "8bbc8066",
   "metadata": {},
   "outputs": [],
   "source": [
    "'''\n",
    "Rules and naming convention for variables and constants\n",
    "\n",
    "A name in a Python program is called an identifier.\n",
    "An identifier can be a variable name, class name, function name and module name.\n",
    "\n",
    "An identifier is a term used in programming to refer to the name given to various program \n",
    "elements such as variables, classes, functions, and more.\n",
    "\n",
    "\n",
    "EX-\n",
    "There are some rules to define variables in Python.\n",
    "\n",
    "Rule 1: The name of the variable and constant should have a combination of letters, digits, and underscore symbols.\n",
    "Rule 2: The variable name and constant name should make sense.\n",
    "Rule 3: Don’t’ use special symbols in a variable name\n",
    "Rule 4: Variable and constant should not start with digit letters.\n",
    "Rule 5: Identifiers are case sensitive. a,A consider as two veriable(object)\n",
    "Rule 6: To declare constant should use capital letters.\n",
    "Rule 6: Use an underscore symbol for separating the words in a variable name.\n",
    "ex- current_temperature = 24\n",
    "\n",
    "'''"
   ]
  }
 ],
 "metadata": {
  "kernelspec": {
   "display_name": "Python 3 (ipykernel)",
   "language": "python",
   "name": "python3"
  },
  "language_info": {
   "codemirror_mode": {
    "name": "ipython",
    "version": 3
   },
   "file_extension": ".py",
   "mimetype": "text/x-python",
   "name": "python",
   "nbconvert_exporter": "python",
   "pygments_lexer": "ipython3",
   "version": "3.9.12"
  }
 },
 "nbformat": 4,
 "nbformat_minor": 5
}
