{
 "cells": [
  {
   "cell_type": "code",
   "execution_count": 4,
   "id": "f2c5df32",
   "metadata": {},
   "outputs": [
    {
     "name": "stdout",
     "output_type": "stream",
     "text": [
      "Area of rectangle: 12\n"
     ]
    }
   ],
   "source": [
    "l = 2 ; b = 6\n",
    "\n",
    "\n",
    "print('Area of rectangle:', l * b)"
   ]
  },
  {
   "cell_type": "code",
   "execution_count": null,
   "id": "8ab29a4d",
   "metadata": {},
   "outputs": [],
   "source": [
    "#Indentation- Python indentation tells a Python interpreter that the group of statements \n",
    "#belongs to a particular block of code.\n",
    "\n",
    "#It is combination of multiple statements\n",
    "\n",
    "#( {} >> In C,Java to define block of code )\n",
    "\n",
    "#Here in python, Whitespace is used for indentation in Python to define the indentation level. \n",
    "#Use 4 Spaces per indentation level.\n",
    "\n",
    "#Ex- if-else statement in Python.\n",
    "\n",
    "num1 = 50 \n",
    "num2 = 100 \n",
    "if num1 > num2:\n",
    "    #Indented code blocks are preceded by colon(:) print(num1, 'is greater than', num2) elif num2 > num1: print(num2, 'is greater than', num1) else: print('Both numbers are equal')\n",
    "    \n",
    "    \n",
    "    "
   ]
  },
  {
   "cell_type": "code",
   "execution_count": null,
   "id": "788fab85",
   "metadata": {},
   "outputs": [],
   "source": [
    "#comments\n",
    "#  single line commenting \n",
    "\n",
    "\"\"\"\n",
    "Triple inverted comma is used for multi-line comments\n",
    "\n",
    "\"\"\""
   ]
  },
  {
   "cell_type": "markdown",
   "id": "785925ac",
   "metadata": {},
   "source": [
    "# keywords"
   ]
  },
  {
   "cell_type": "markdown",
   "id": "880f9a4d",
   "metadata": {},
   "source": [
    "type ->task bar -> code dropdown -> Heading"
   ]
  },
  {
   "cell_type": "code",
   "execution_count": 2,
   "id": "e39906cf",
   "metadata": {},
   "outputs": [
    {
     "name": "stdout",
     "output_type": "stream",
     "text": [
      "\n",
      "Here is a list of the Python keywords.  Enter any keyword to get more help.\n",
      "\n",
      "False               break               for                 not\n",
      "None                class               from                or\n",
      "True                continue            global              pass\n",
      "__peg_parser__      def                 if                  raise\n",
      "and                 del                 import              return\n",
      "as                  elif                in                  try\n",
      "assert              else                is                  while\n",
      "async               except              lambda              with\n",
      "await               finally             nonlocal            yield\n",
      "\n"
     ]
    }
   ],
   "source": [
    "#keywords\n",
    "\n",
    "#Python keywords are reserve words that have a special meaning associated with them.\n",
    "#and it cant be used for anything but those specific purpose.\n",
    "\n",
    "#each keyword is designed to perform to do specific task(fuctionality)\n",
    "\n",
    "#user cannot use these keywords to define the name of any veriable, class, object etc. \n",
    "\n",
    "#In python keywords are case-sensitive.\n",
    "\n",
    "\n",
    "help(\"keywords\")\n"
   ]
  },
  {
   "cell_type": "code",
   "execution_count": 4,
   "id": "3596e9b3",
   "metadata": {},
   "outputs": [
    {
     "name": "stdout",
     "output_type": "stream",
     "text": [
      "No Python documentation found for 'Keywords'.\n",
      "Use help() to get the interactive help utility.\n",
      "Use help(str) for help on the str class.\n",
      "\n",
      "Keywords\n"
     ]
    }
   ],
   "source": [
    "#help() -> It is a function which gives us informative documentation about veriable, keywords, classed , objects etc. \n",
    "\n",
    "help(\"Keywords\")\n",
    "\n",
    "print(\"Keywords\")"
   ]
  },
  {
   "cell_type": "code",
   "execution_count": 5,
   "id": "d1e044f3",
   "metadata": {},
   "outputs": [
    {
     "name": "stdout",
     "output_type": "stream",
     "text": [
      "The \"if\" statement\n",
      "******************\n",
      "\n",
      "The \"if\" statement is used for conditional execution:\n",
      "\n",
      "   if_stmt ::= \"if\" assignment_expression \":\" suite\n",
      "               (\"elif\" assignment_expression \":\" suite)*\n",
      "               [\"else\" \":\" suite]\n",
      "\n",
      "It selects exactly one of the suites by evaluating the expressions one\n",
      "by one until one is found to be true (see section Boolean operations\n",
      "for the definition of true and false); then that suite is executed\n",
      "(and no other part of the \"if\" statement is executed or evaluated).\n",
      "If all expressions are false, the suite of the \"else\" clause, if\n",
      "present, is executed.\n",
      "\n",
      "Related help topics: TRUTHVALUE\n",
      "\n",
      "None\n"
     ]
    }
   ],
   "source": [
    "print(help(\"if\"))"
   ]
  },
  {
   "cell_type": "code",
   "execution_count": 7,
   "id": "cffa595f",
   "metadata": {},
   "outputs": [
    {
     "data": {
      "text/plain": [
       "['__all__',\n",
       " '__builtins__',\n",
       " '__cached__',\n",
       " '__doc__',\n",
       " '__file__',\n",
       " '__loader__',\n",
       " '__name__',\n",
       " '__package__',\n",
       " '__spec__',\n",
       " 'iskeyword',\n",
       " 'issoftkeyword',\n",
       " 'kwlist',\n",
       " 'softkwlist']"
      ]
     },
     "execution_count": 7,
     "metadata": {},
     "output_type": "execute_result"
    }
   ],
   "source": [
    "#dir -> directory\n",
    "\n",
    "import keyword\n",
    "\n",
    "dir(keyword)"
   ]
  },
  {
   "cell_type": "code",
   "execution_count": 13,
   "id": "0a976455",
   "metadata": {},
   "outputs": [
    {
     "name": "stdout",
     "output_type": "stream",
     "text": [
      "True\n",
      "False\n",
      "False\n"
     ]
    }
   ],
   "source": [
    "print (keyword.iskeyword(\"if\"))\n",
    "\n",
    "print(keyword.iskeyword(\"cos\"))\n",
    "\n",
    "print(keyword.iskeyword(\"__builtins__\"))\n",
    "\n"
   ]
  },
  {
   "cell_type": "code",
   "execution_count": 14,
   "id": "1ce55fd1",
   "metadata": {},
   "outputs": [
    {
     "name": "stdout",
     "output_type": "stream",
     "text": [
      "['False', 'None', 'True', '__peg_parser__', 'and', 'as', 'assert', 'async', 'await', 'break', 'class', 'continue', 'def', 'del', 'elif', 'else', 'except', 'finally', 'for', 'from', 'global', 'if', 'import', 'in', 'is', 'lambda', 'nonlocal', 'not', 'or', 'pass', 'raise', 'return', 'try', 'while', 'with', 'yield']\n"
     ]
    }
   ],
   "source": [
    "print(keyword.kwlist)"
   ]
  },
  {
   "cell_type": "code",
   "execution_count": 10,
   "id": "ba3f7c97",
   "metadata": {},
   "outputs": [
    {
     "data": {
      "text/plain": [
       "['__doc__',\n",
       " '__loader__',\n",
       " '__name__',\n",
       " '__package__',\n",
       " '__spec__',\n",
       " 'acos',\n",
       " 'acosh',\n",
       " 'asin',\n",
       " 'asinh',\n",
       " 'atan',\n",
       " 'atan2',\n",
       " 'atanh',\n",
       " 'ceil',\n",
       " 'comb',\n",
       " 'copysign',\n",
       " 'cos',\n",
       " 'cosh',\n",
       " 'degrees',\n",
       " 'dist',\n",
       " 'e',\n",
       " 'erf',\n",
       " 'erfc',\n",
       " 'exp',\n",
       " 'expm1',\n",
       " 'fabs',\n",
       " 'factorial',\n",
       " 'floor',\n",
       " 'fmod',\n",
       " 'frexp',\n",
       " 'fsum',\n",
       " 'gamma',\n",
       " 'gcd',\n",
       " 'hypot',\n",
       " 'inf',\n",
       " 'isclose',\n",
       " 'isfinite',\n",
       " 'isinf',\n",
       " 'isnan',\n",
       " 'isqrt',\n",
       " 'lcm',\n",
       " 'ldexp',\n",
       " 'lgamma',\n",
       " 'log',\n",
       " 'log10',\n",
       " 'log1p',\n",
       " 'log2',\n",
       " 'modf',\n",
       " 'nan',\n",
       " 'nextafter',\n",
       " 'perm',\n",
       " 'pi',\n",
       " 'pow',\n",
       " 'prod',\n",
       " 'radians',\n",
       " 'remainder',\n",
       " 'sin',\n",
       " 'sinh',\n",
       " 'sqrt',\n",
       " 'tan',\n",
       " 'tanh',\n",
       " 'tau',\n",
       " 'trunc',\n",
       " 'ulp']"
      ]
     },
     "execution_count": 10,
     "metadata": {},
     "output_type": "execute_result"
    }
   ],
   "source": [
    "import math\n",
    "dir(math)"
   ]
  }
 ],
 "metadata": {
  "kernelspec": {
   "display_name": "Python 3 (ipykernel)",
   "language": "python",
   "name": "python3"
  },
  "language_info": {
   "codemirror_mode": {
    "name": "ipython",
    "version": 3
   },
   "file_extension": ".py",
   "mimetype": "text/x-python",
   "name": "python",
   "nbconvert_exporter": "python",
   "pygments_lexer": "ipython3",
   "version": "3.9.13"
  }
 },
 "nbformat": 4,
 "nbformat_minor": 5
}
