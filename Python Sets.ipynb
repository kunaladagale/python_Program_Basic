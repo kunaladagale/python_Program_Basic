{
 "cells": [
  {
   "cell_type": "code",
   "execution_count": null,
   "id": "2bfb5b98",
   "metadata": {},
   "outputs": [],
   "source": [
    "'''\n",
    "\n",
    "Set Data Type - Unordered collection of data item ithat are unique.\n",
    "              - Duplicate elements are not allowed \n",
    "              - Heterogeneous (values of all data type) elements are allowed.\n",
    "              - insertion order is not preserved(unordered), so we cant perform indexing and slicing.\n",
    "              - Set used to represent unique group of values as single entity.\n",
    "              \n",
    "We can create set using two ways ;\n",
    "\n",
    "- By enclosing elements in the curly brackets {}\n",
    "- Using a set() method\n",
    "              \n",
    "\n",
    "'''"
   ]
  },
  {
   "cell_type": "code",
   "execution_count": 1,
   "id": "df5ac062",
   "metadata": {},
   "outputs": [
    {
     "name": "stdout",
     "output_type": "stream",
     "text": [
      "{'Jessa', 25, 'Marks', 75.25}\n",
      "<class 'set'>\n"
     ]
    }
   ],
   "source": [
    "sample_set = {\"Marks\",\"Jessa\",25, 75.25}\n",
    "print(sample_set)\n",
    "print(type(sample_set))"
   ]
  },
  {
   "cell_type": "code",
   "execution_count": 2,
   "id": "4d0a23c7",
   "metadata": {},
   "outputs": [
    {
     "name": "stdout",
     "output_type": "stream",
     "text": [
      "{'Herry Potter', 'Atlas Shrugged', 'Game of Thrones', 'Ikigai'}\n"
     ]
    }
   ],
   "source": [
    "book_set = set((\"Herry Potter\",\"Game of Thrones\",\"Ikigai\",\"Atlas Shrugged\"))\n",
    "print(book_set)"
   ]
  },
  {
   "cell_type": "code",
   "execution_count": 5,
   "id": "6aacbc4f",
   "metadata": {},
   "outputs": [
    {
     "name": "stdout",
     "output_type": "stream",
     "text": [
      "{40, 50, 20, 30}\n"
     ]
    }
   ],
   "source": [
    "#Convert list into set\n",
    "\n",
    "#Create a list with duplicate elements \n",
    "number_list = [20,30,40,50,30]\n",
    "\n",
    "#Covert that list into set\n",
    "sample_set = set(number_list)\n",
    "print(sample_set)"
   ]
  },
  {
   "cell_type": "code",
   "execution_count": 9,
   "id": "9c2d255b",
   "metadata": {},
   "outputs": [
    {
     "name": "stdout",
     "output_type": "stream",
     "text": [
      "<class 'set'>\n",
      "<class 'dict'>\n"
     ]
    }
   ],
   "source": [
    "#Empty set\n",
    "\n",
    "empty_set = set(())\n",
    "print(type(empty_set))\n",
    "\n",
    "empty_set = {} #By default curly braces will be created as dictionary\n",
    "print(type(empty_set))"
   ]
  },
  {
   "cell_type": "code",
   "execution_count": 10,
   "id": "68fd13cd",
   "metadata": {},
   "outputs": [
    {
     "name": "stdout",
     "output_type": "stream",
     "text": [
      "Herry Potter\n",
      "Atlas Shrugged\n",
      "Game of Thrones\n",
      "Ikigai\n"
     ]
    }
   ],
   "source": [
    "'''\n",
    "Accessing item of the set\n",
    "\n",
    "The items of the set are unordered and they dont have any index number.\n",
    "\n",
    "In order to access the items of set we need to use loop\n",
    "\n",
    "'''\n",
    "book_set = set((\"Herry Potter\",\"Game of Thrones\",\"Ikigai\",\"Atlas Shrugged\"))\n",
    "\n",
    "for book in book_set:\n",
    "    print(book)"
   ]
  },
  {
   "cell_type": "code",
   "execution_count": null,
   "id": "fe938ef0",
   "metadata": {},
   "outputs": [],
   "source": [
    "#Check if book is exists in the set and if exists print the book is exist in \n",
    "#the set"
   ]
  },
  {
   "cell_type": "code",
   "execution_count": 12,
   "id": "c2fbf443",
   "metadata": {},
   "outputs": [
    {
     "name": "stdout",
     "output_type": "stream",
     "text": [
      "{'The Lord of The Rings', 'Game of Thrones', 'Herry Potter', 'Atlas Shrugged', 'Ikigai'}\n",
      "-----------------------------------------------------------------\n",
      "{'The Lord of The Rings', '3 Idiots', 'Game of Thrones', 'Herry Potter', 'Atlas Shrugged', 'Ulysses', 'Ikigai'}\n"
     ]
    }
   ],
   "source": [
    "'''\n",
    "Adding items into a set\n",
    "\n",
    "Though the value of the item inside a set can't modified.\n",
    "\n",
    "We can add new items to the set using follows two types:\n",
    "\n",
    "1. The add() Method \n",
    "2. Using update() Method\n",
    "\n",
    "'''\n",
    "\n",
    "book_set = {\"Herry Potter\",\"Game of Thrones\",\"Ikigai\",\"Atlas Shrugged\"}\n",
    "\n",
    "#add item into set\n",
    "book_set.add(\"The Lord of The Rings\")\n",
    "\n",
    "print(book_set)\n",
    "\n",
    "print(\"-----------------------------------------------------------------\")\n",
    "\n",
    "#update [can give list of elements as well]\n",
    "#method to add more than one item\n",
    "\n",
    "book_set.update([\"Ulysses\",\"3 Idiots\"])\n",
    "print(book_set)"
   ]
  },
  {
   "cell_type": "code",
   "execution_count": 24,
   "id": "46d428bd",
   "metadata": {},
   "outputs": [
    {
     "name": "stdout",
     "output_type": "stream",
     "text": [
      "{'red', 'white', 'green', 'black', 'orange'}\n",
      "{'red', 'white', 'green', 'orange'}\n",
      "{'red', 'white', 'green', 'orange'}\n",
      "red\n",
      "white\n",
      "set()\n"
     ]
    }
   ],
   "source": [
    "'''\n",
    "Removing Items from The Set: -\n",
    "\n",
    "Method            Description\n",
    "\n",
    "remove()          -To remove a single item from a set.\n",
    "                  -This method will take one parameted, which is the item to be\n",
    "                   removed from set.\n",
    "                  -Throws a keyerror if item not present in set.\n",
    "                  \n",
    "discard()         -To remove single item that may or may not be present in set.\n",
    "                  -This mothod also takes one parameter i.e. which item to be \n",
    "                   removed from set\n",
    "                  -But If that item does not present in set, it will not thorw \n",
    "                   any error.\n",
    "pop()             -The remove any random item from a set.\n",
    "clear()           -To remove all items from set. The output will be empty set.\n",
    "del()             -Delete Entire set.\n",
    "                  \n",
    "'''\n",
    "\n",
    "color_set = {'red','orange','yellow','white','black','green'}\n",
    "\n",
    "#remove single item\n",
    "color_set.remove('yellow')\n",
    "\n",
    "print(color_set)\n",
    "\n",
    "#color_set.remove('blue')\n",
    "\n",
    "#Discard single item\n",
    "\n",
    "color_set.discard('black')\n",
    "\n",
    "print(color_set)\n",
    "\n",
    "#Print the set without giving error eventhough the item is not present in \n",
    "#the set.\n",
    "\n",
    "color_set.discard('blue')\n",
    "\n",
    "print(color_set)\n",
    "\n",
    "#remove any random item\n",
    "deleted_item1 = color_set.pop()\n",
    "print(deleted_item1)\n",
    "\n",
    "deleted_item1 = color_set.pop()\n",
    "print(deleted_item1)\n",
    "\n",
    "#clear \n",
    "color_set.clear()\n",
    "print(color_set)\n",
    "\n",
    "#delete a set\n",
    "del color_set\n",
    "\n",
    "#print(color_set) -- NameError- 'color_set' not defined beacuse we use del"
   ]
  },
  {
   "cell_type": "code",
   "execution_count": 2,
   "id": "a30cb218",
   "metadata": {},
   "outputs": [
    {
     "name": "stdout",
     "output_type": "stream",
     "text": [
      "{'yellow', 'blue', 'green', 'indigo', 'orange', 'red', 'violet'}\n",
      "{'yellow', 'blue', 'green', 'indigo', 'orange', 'red', 'violet'}\n"
     ]
    }
   ],
   "source": [
    "'''\n",
    "Set Operations \n",
    "\n",
    "All the operations that could be performed mathematically, it could be done with\n",
    "python sets.\n",
    "\n",
    "We can perform such set operations using operator or the built-in methods.\n",
    "\n",
    "Operations   Defination                 Operator           method()  \n",
    "\n",
    "Union        -All the items of both         |               union()\n",
    "              sets will be returned.\n",
    "             -Duplicate items will be\n",
    "              dropped.\n",
    "\n",
    "Itersection  -Only the items common in\n",
    "              both sets will returned.      &               inersection()\n",
    "              \n",
    "Difference   -Return the unique elements    -               difference()\n",
    "              from the first set which is \n",
    "              not present in second set.     \n",
    "\n",
    "Symmetric    -Return the element of both \n",
    "Difference    sets whcih is not common      ^               symmetric_difference()           \n",
    "\n",
    "\n",
    "'''\n",
    "\n",
    "\n",
    "#Union of Sets \n",
    "\n",
    "#Union of two sets will return all the items present in both sets \n",
    "#(all the items will be print only once)\n",
    "\n",
    "\n",
    "color_set = {'violet','indigo','blue','green','yellow'}\n",
    "\n",
    "remaining_colors = {'indigo','orange','red'}\n",
    "\n",
    "#union of two sets using operator \"|\"\n",
    "\n",
    "vibgyor_color = color_set | remaining_colors\n",
    "print(vibgyor_color)\n",
    "\n",
    "#union using union() method\n",
    "vibgyor_color = color_set.union(remaining_colors)\n",
    "print(vibgyor_color)\n",
    "\n"
   ]
  },
  {
   "cell_type": "code",
   "execution_count": 12,
   "id": "9ce0f112",
   "metadata": {},
   "outputs": [
    {
     "name": "stdout",
     "output_type": "stream",
     "text": [
      "{'indigo'}\n",
      "{'indigo'}\n",
      "{'indigo'}\n",
      "{'yellow', 'blue', 'green', 'indigo', 'violet'}\n",
      "{'indigo'}\n",
      "{'indigo'}\n"
     ]
    }
   ],
   "source": [
    "#Intersection of sets\n",
    "\n",
    "#The inetersection of two sets will return only the common elements in both sets.\n",
    "\n",
    "#Example\n",
    "\n",
    "color_set = {'violet','indigo','blue','green','yellow'}\n",
    "\n",
    "remaining_colors = {'indigo','orange','red'}\n",
    "\n",
    "#Inetersection of two sets using & operator\n",
    "\n",
    "new_set = color_set & remaining_colors\n",
    "print(new_set)\n",
    "\n",
    "#Using intersection method()\n",
    "\n",
    "new_set = color_set.intersection(remaining_colors)\n",
    "print(new_set)\n",
    "\n",
    "#intersection of two sets \n",
    "\n",
    "common_color = color_set.intersection(remaining_colors)\n",
    "print(common_color)\n",
    "\n",
    "#original set\n",
    "print(color_set) #{'yellow', 'blue', 'green', 'indigo', 'violet'}\n",
    "\n",
    "#intersection of two sets using intersection_update()\n",
    "color_set.intersection_update(remaining_colors)\n",
    "\n",
    "#original set after intersection_update\n",
    "print(color_set) #{'indigo'}\n",
    "\n",
    "print(color_set)"
   ]
  },
  {
   "cell_type": "code",
   "execution_count": 17,
   "id": "1166c473",
   "metadata": {},
   "outputs": [
    {
     "name": "stdout",
     "output_type": "stream",
     "text": [
      "{'yellow', 'blue', 'green', 'violet'}\n",
      "{'yellow', 'blue', 'green', 'violet'}\n",
      "{'yellow', 'blue', 'green', 'violet'}\n"
     ]
    }
   ],
   "source": [
    "#Difference of sets \n",
    "\n",
    "#The difference operation will return the items that are present only in the\n",
    "#first set i.e. the set on which the method is called.\n",
    "\n",
    "#using operator \"-\"\n",
    "\n",
    "color_set = {'violet','indigo','blue','green','yellow'}\n",
    "\n",
    "remaining_colors = {'indigo','orange','red'} \n",
    "\n",
    "#return all the elements from first set, except those are common with second set.\n",
    "\n",
    "diff_set = color_set - remaining_colors\n",
    "print(diff_set)\n",
    "\n",
    "#using difference() method\n",
    "\n",
    "print(color_set.difference(remaining_colors))\n",
    "\n",
    "\n",
    "#difference_update() -- will not work same as intersection_update()\n",
    "\n",
    "color_set.difference_update(remaining_colors)\n",
    "print(color_set)"
   ]
  },
  {
   "cell_type": "code",
   "execution_count": 21,
   "id": "8ab2ece8",
   "metadata": {},
   "outputs": [
    {
     "name": "stdout",
     "output_type": "stream",
     "text": [
      "{'yellow', 'blue', 'green', 'orange', 'red', 'violet'}\n",
      "{'yellow', 'blue', 'green', 'orange', 'red', 'violet'}\n",
      "{'yellow', 'blue', 'green', 'orange', 'red', 'violet'}\n"
     ]
    }
   ],
   "source": [
    "#Symmentric difference of sets\n",
    "\n",
    "#The symmetric difference return the elements that are unique in both sets.\n",
    "\n",
    "#This is opposite of intersection\n",
    "\n",
    "color_set = {'violet','indigo','blue','green','yellow'}\n",
    "\n",
    "remaining_colors = {'indigo','orange','red'} \n",
    "\n",
    "#Symmetric difference operator \"^\"\n",
    "\n",
    "unique_items = color_set ^ remaining_colors\n",
    "print(unique_items) #only unique \"indigo\" is duplicate \n",
    "\n",
    "#using symmetric_difference() method\n",
    "\n",
    "unique_items = color_set.symmetric_difference(remaining_colors) \n",
    "print(unique_items) #only unique \"indigo\" is duplicate \n",
    "\n",
    "#using symmetric_difference_update() method -- will not work\n",
    "\n",
    "color_set.symmetric_difference_update(remaining_colors) \n",
    "print(color_set) \n",
    "\n"
   ]
  },
  {
   "cell_type": "code",
   "execution_count": 24,
   "id": "818d6988",
   "metadata": {},
   "outputs": [
    {
     "name": "stdout",
     "output_type": "stream",
     "text": [
      "True\n",
      "False\n",
      "False\n",
      "True\n"
     ]
    }
   ],
   "source": [
    "'''\n",
    "Subset and Superset\n",
    "\n",
    "We can find whether a set is a subset of the another set.\n",
    "\n",
    "we need to use the set method i.e. issubset() and issuperset()\n",
    "\n",
    "issubset()-\n",
    "The issubset is used to find whether set is subset of another set.\n",
    "i.e. all the items present in set should preset in the subset.\n",
    "\n",
    "is superset()\n",
    "The issuperset determines whether set is superset of another set or not.\n",
    "\n",
    "'''\n",
    "\n",
    "#subset\n",
    "color_set1 = {'violet','indigo','blue','green','yellow','orange','red'}\n",
    "color_set2 = {'indigo','orange','red'}\n",
    "\n",
    "print(color_set2.issubset(color_set1)) #true \n",
    "\n",
    "print(color_set1.issubset(color_set2)) #false \n",
    "\n",
    "#superset\n",
    "\n",
    "print(color_set2.issuperset(color_set1)) #false\n",
    "\n",
    "print(color_set1.issuperset(color_set2)) #true \n"
   ]
  },
  {
   "cell_type": "code",
   "execution_count": 26,
   "id": "49f7805b",
   "metadata": {},
   "outputs": [
    {
     "name": "stdout",
     "output_type": "stream",
     "text": [
      "False\n",
      "True\n"
     ]
    }
   ],
   "source": [
    "'''\n",
    "Disjoint\n",
    "\n",
    "Find whether two sets are disjoint\n",
    "\n",
    "The isdisjoint() method will find whether two sets are disjoint.\n",
    "i.e. there are no common elements in both sets.\n",
    "\n",
    "'''\n",
    "\n",
    "color_set1 = {'violet','blue','yellow','red'}\n",
    "\n",
    "color_set2 = {'orange','red'}\n",
    "\n",
    "color_set3 = {'green','orange'}\n",
    "\n",
    "\n",
    "#disjoint\n",
    "\n",
    "print(color_set2.isdisjoint(color_set1)) #flase --> why - red is common\n",
    "\n",
    "print(color_set3.isdisjoint(color_set1)) #true --> nothing is common\n"
   ]
  },
  {
   "cell_type": "code",
   "execution_count": 29,
   "id": "203d0937",
   "metadata": {},
   "outputs": [
    {
     "name": "stdout",
     "output_type": "stream",
     "text": [
      "[4, 6, 8, 10, 15, 20]\n",
      "{4, 6, 8, 10, 15, 20}\n"
     ]
    }
   ],
   "source": [
    "'''\n",
    "sort the set\n",
    "\n",
    "A set is an unordered collection of data items, so there is no point in sorting \n",
    "it.\n",
    "\n",
    "\n",
    "\n",
    "If you still want to sort it using the sorted() method but this method will\n",
    "return the list.\n",
    "\n",
    "'''\n",
    "\n",
    "set1 = {20,4,6,10,8,15}\n",
    "sorted_list = sorted(set1)\n",
    "\n",
    "print(sorted_list)\n",
    "\n",
    "#Converting sorted list into set\n",
    "\n",
    "sorted_set = set(sorted_list)\n",
    "print(sorted_set)"
   ]
  }
 ],
 "metadata": {
  "kernelspec": {
   "display_name": "Python 3 (ipykernel)",
   "language": "python",
   "name": "python3"
  },
  "language_info": {
   "codemirror_mode": {
    "name": "ipython",
    "version": 3
   },
   "file_extension": ".py",
   "mimetype": "text/x-python",
   "name": "python",
   "nbconvert_exporter": "python",
   "pygments_lexer": "ipython3",
   "version": "3.9.12"
  }
 },
 "nbformat": 4,
 "nbformat_minor": 5
}
