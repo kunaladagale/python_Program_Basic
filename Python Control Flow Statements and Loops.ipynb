{
 "cells": [
  {
   "cell_type": "code",
   "execution_count": null,
   "id": "24d7ac53",
   "metadata": {},
   "outputs": [],
   "source": [
    "'''\n",
    "Flow control is the order in which statements or block of code are executed at \n",
    "runtime based on a condition.\n",
    "\n",
    "The flow control statements are devided into three catagories.\n",
    "\n",
    "1. Conditional Statement - There are three types\n",
    "a) if \n",
    "b) if-else \n",
    "c) if-else-if --> elif\n",
    "d) nested-if\n",
    "\n",
    "2. Iterative Statement- There are two types\n",
    "a) for\n",
    "b) while\n",
    "\n",
    "3. Transfer Statement- There are three types\n",
    "a) break\n",
    "b) continue\n",
    "c) pass\n",
    "\n",
    "'''"
   ]
  },
  {
   "cell_type": "code",
   "execution_count": 8,
   "id": "551579c1",
   "metadata": {},
   "outputs": [
    {
     "name": "stdout",
     "output_type": "stream",
     "text": [
      "The number is greater than 5\n",
      "Next line of code\n",
      "------------------------------------------------------------\n",
      "Enter Password :ItEducation\n",
      "You are logged in\n",
      "-------------------------------------------------\n",
      "The weather is pleasant\n"
     ]
    }
   ],
   "source": [
    "# 1. Conditional Statement -\n",
    "\n",
    "#Conditional statements act denpending on whether a given condition is true \n",
    "#or flase.\n",
    "\n",
    "#You can execute different block of codes depending on the outcome of condition.\n",
    "\n",
    "#a) If Statement- \n",
    "\n",
    "#If the condition is true, then the block of code written inside if will execute.\n",
    "#&\n",
    "#If the condition is false, then the block of code skipped, and the controller\n",
    "#moves to the next line. \n",
    "\n",
    "number = 6\n",
    "\n",
    "if number > 5:\n",
    "    print(\"The number is greater than 5\")\n",
    "    \n",
    "print('Next line of code')\n",
    "\n",
    "print('------------------------------------------------------------')\n",
    "\n",
    "#2.if-else statement\n",
    "\n",
    "#If the condition is true, then the block of code written inside if will execute.\n",
    "#&\n",
    "#If the condition is false, then it will execute else statements\n",
    "\n",
    "password = input(\"Enter Password :\")\n",
    "\n",
    "if password == \"ItEducation\":\n",
    "    print(\"You are logged in\")\n",
    "else:\n",
    "    print(\"Incorrect Password\")\n",
    "\n",
    "    \n",
    "print(\"-------------------------------------------------\")\n",
    "\n",
    "#3. if-else-if : chain of if statement\n",
    "\n",
    "#The if-elif-else condition statements has elif blocks to chain multiple conditions\n",
    "#one after another\n",
    "\n",
    "#This is useful when you need to check multiple conditions and can be useful\n",
    "#when we make difficult decision.\n",
    "\n",
    "#The elif statement checks multiple conditions one by one and if condition \n",
    "#fullfills (True) , then execute that code.\n",
    "\n",
    "temperature = 20\n",
    "\n",
    "if temperature < 0:\n",
    "    print(\"Its freezing\")\n",
    "    \n",
    "elif temperature >= 0 and temperature < 15:\n",
    "    print(\"Its a bit chilly\")\n",
    "    \n",
    "elif temperature >= 15 and temperature < 25:\n",
    "    print(\"The weather is pleasant\")\n",
    "\n",
    "else:\n",
    "    print(\"Its a hot day\")"
   ]
  },
  {
   "cell_type": "code",
   "execution_count": 1,
   "id": "3a8ccd67",
   "metadata": {},
   "outputs": [
    {
     "name": "stdout",
     "output_type": "stream",
     "text": [
      "Enter no 1 :2\n",
      "Enter no 2 :6\n",
      "Enter 1 to add\n",
      "Enter 2 to sub\n",
      "Enter 3 to mul\n",
      "Enter 4 to div\n",
      "Enter your choice :5\n",
      "Invalid option selected\n"
     ]
    }
   ],
   "source": [
    "#example - if-elif-else\n",
    "\n",
    "n1 = int(input(\"Enter no 1 :\"))\n",
    "n2 = int(input(\"Enter no 2 :\"))\n",
    "\n",
    "print(\"Enter 1 to add\")\n",
    "print(\"Enter 2 to sub\")\n",
    "print(\"Enter 3 to mul\")\n",
    "print(\"Enter 4 to div\")\n",
    "\n",
    "choice = int(input(\"Enter your choice :\"))\n",
    "\n",
    "if choice == 1:\n",
    "    print(f\"{n1}+{n2}={n1+n2}\")\n",
    "elif choice == 2:\n",
    "    print(f\"{n1}-{n2}={n1-n2}\")\n",
    "elif choice == 3:\n",
    "    print(f\"{n1}*{n2}={n1*n2}\")\n",
    "elif choice == 4:\n",
    "    print(f\"{n1}/{n2}={n1/n2}\")\n",
    "else:\n",
    "    print(\"Invalid option selected\")"
   ]
  },
  {
   "cell_type": "code",
   "execution_count": 15,
   "id": "0aca3416",
   "metadata": {},
   "outputs": [
    {
     "name": "stdout",
     "output_type": "stream",
     "text": [
      "Enter the first number:10\n",
      "Enter the second number:12\n",
      "10 is less than 12\n"
     ]
    }
   ],
   "source": [
    "#4.Nested if-else statement\n",
    "\n",
    "#The nested if-else statement is if statement inside another if-else statement\n",
    "\n",
    "#The nested if-else is useful when we want to make series of decision.\n",
    "\n",
    "num1 = int(input(\"Enter the first number:\"))\n",
    "num2 = int(input(\"Enter the second number:\"))\n",
    "\n",
    "if num1 >= num2:\n",
    "    if num1 == num2:\n",
    "        print(num1, \"and\", num2, \"are equal\")\n",
    "    else:\n",
    "        print(num1, \"is greater than\" ,num2)\n",
    "        \n",
    "else:\n",
    "    print(num1, \"is less than\" ,num2)\n",
    "    \n"
   ]
  },
  {
   "cell_type": "code",
   "execution_count": 3,
   "id": "bdd1af5f",
   "metadata": {},
   "outputs": [
    {
     "name": "stdout",
     "output_type": "stream",
     "text": [
      "Enter your pin1234\n",
      "Enter 1 to withdraw cash\n",
      "Enter 2 to deposit cash\n",
      "Enter 3 to check balance\n",
      "Enter 4 to exit\n",
      "Enter your choice1\n",
      "------Withdraw Cash------\n",
      "Enter your withdraw amount5000\n",
      "Amount withdraw is  5000\n",
      "Available balance is  15000\n"
     ]
    }
   ],
   "source": [
    "# ATM \n",
    "\n",
    "pin = 1234\n",
    "curr_amount = 20000\n",
    "\n",
    "upin = int(input(\"Enter your pin :\"))\n",
    "\n",
    "if pin==upin:\n",
    "    print(\"Enter 1 to withdraw cash\")\n",
    "    print(\"Enter 2 to deposit cash\")\n",
    "    print(\"Enter 3 to check balance\")\n",
    "    print(\"Enter 4 to exit\")\n",
    "\n",
    "    ch=int(input(\"Enter your choice:\"))\n",
    "    \n",
    "    if ch == 1:\n",
    "        print(\"------Withdraw Cash------\")\n",
    "        wamt = int(input(\"Enter your withdraw amount: \"))\n",
    "        if wamt <= curr_amount:\n",
    "            if wamt % 100 == 0:\n",
    "                if wamt >= 100:\n",
    "                    curr_amount-=wamt #curr_amonut = curr_amount- wamt\n",
    "                    print(\"Amount withdraw is: \",wamt)\n",
    "                    print(\"Available balance is: \",curr_amount)\n",
    "                else:\n",
    "                    print(\"Invalid amount entered\")\n",
    "            else:\n",
    "                print(\"Amount should be in multiple 100,200,500\")\n",
    "        else:\n",
    "            print(\"Insufficient amount\")\n",
    "    \n",
    "    elif ch == 2:\n",
    "        print(\"------Deposite Cash-------\")\n",
    "    \n",
    "    elif ch == 3:\n",
    "        print(\"Availabe Balance: \",curr_amount)\n",
    "        \n",
    "    elif ch == 4:\n",
    "        print(\"Exit Transaction\")\n",
    "    \n",
    "    else:\n",
    "        print(\"Invalid Choice\")\n",
    "            \n",
    "else:\n",
    "    print(\"Invalid pin\")\n"
   ]
  },
  {
   "cell_type": "code",
   "execution_count": null,
   "id": "ec0e3afc",
   "metadata": {},
   "outputs": [],
   "source": [
    "# only do the withdraw code using logical and\n"
   ]
  },
  {
   "cell_type": "code",
   "execution_count": 5,
   "id": "d94873fc",
   "metadata": {},
   "outputs": [
    {
     "name": "stdout",
     "output_type": "stream",
     "text": [
      "---------Welcome to my class-----------\n",
      "---------Submit your ID Proof----------\n",
      "Enter 'PAN' for Pan Card Idenfication\n",
      "Enter 'ADHAAR' for Adhar Card Idenfication\n",
      "Enter your id type:PAN\n",
      "Enter your idno DUIPD9229\n",
      "PAN:DUIPD9229\n"
     ]
    }
   ],
   "source": [
    "print(\"---------Welcome to my class-----------\")\n",
    "print(\"---------Submit your ID Proof----------\")\n",
    "print(\"Enter 'PAN' for Pan Card Idenfication\")\n",
    "print(\"Enter 'ADHAAR' for Adhar Card Idenfication\")\n",
    "\n",
    "idtype=input(\"Enter your id type:\")\n",
    "\n",
    "if idtype == \"PAN\" or idtype == \"ADHAAR\":\n",
    "    idno=input(\"Enter your idno \")\n",
    "    \n",
    "    print(f\"{idtype}:{idno}\")\n",
    "else:\n",
    "    print(\"Not valid IDtype\")"
   ]
  },
  {
   "cell_type": "code",
   "execution_count": 5,
   "id": "6fa5c752",
   "metadata": {},
   "outputs": [
    {
     "name": "stdout",
     "output_type": "stream",
     "text": [
      "Enter total marks90\n",
      "Grade is A+\n"
     ]
    }
   ],
   "source": [
    "#Make a greading system where if student gets score above 90 give him A+, if he is between 90 to 80\n",
    "#then give them A, if 80 to 70 B+, if 70 to 60 then B, 60 to 50 then B- , 50 to 40 then c, below 40 \n",
    "#fail \n",
    "\n",
    "\n",
    "marks = int(input(\"Enter total marks\"))\n",
    "\n",
    "if marks >= 90:\n",
    "    print(\"Grade is A+\")\n",
    "elif marks < 90 and marks >= 80:\n",
    "    print(\"Grade is A\")\n",
    "elif marks < 80 and marks >= 70:\n",
    "    print(\"Grade is B+\")\n",
    "elif marks < 70 and marks >= 60:\n",
    "    print(\"Grade is B\")\n",
    "elif marks < 60 and marks >= 50:\n",
    "    print(\"Grade is C\")\n",
    "elif marks < 50 and marks >= 40:\n",
    "    print(\"Grade is D\")\n",
    "else:\n",
    "    print(\"Fail\")"
   ]
  },
  {
   "cell_type": "code",
   "execution_count": 27,
   "id": "22cd6f74",
   "metadata": {},
   "outputs": [
    {
     "name": "stdout",
     "output_type": "stream",
     "text": [
      "5\n"
     ]
    }
   ],
   "source": [
    "print(len(var))"
   ]
  },
  {
   "cell_type": "code",
   "execution_count": 7,
   "id": "77887765",
   "metadata": {},
   "outputs": [
    {
     "name": "stdout",
     "output_type": "stream",
     "text": [
      "H\n",
      "e\n",
      "l\n",
      "l\n",
      "o\n",
      ",\n",
      " \n",
      "W\n",
      "o\n",
      "r\n",
      "l\n",
      "d\n",
      "------------------------------------------------------------------\n",
      "H e l l o ,   W o r l d "
     ]
    }
   ],
   "source": [
    "'''\n",
    "2. Iterative Statements: (loop Statements)\n",
    "\n",
    "In python, iterative statements allow us to execute a block of code repeatdely as long as \n",
    "the condition gets False.\n",
    "\n",
    "We also call it as loop Statements.\n",
    "\n",
    "'''\n",
    "\n",
    "#1.For Loop - (Use to iterate over sequence and automate task) --> (Sequence - string, list ,tuple)\n",
    "\n",
    "#The for loop is used to iterate over a sequence such as list, tuple, string and other \n",
    "#iterable objects , such range.\n",
    "\n",
    "#Using for loop , we can automate and repeat task in an efficient manner.\n",
    "\n",
    "#For loop are executed a fixed number of times.\n",
    "\n",
    "#For using for loop you need to know how many times you want to reapeat that task (block of code).\n",
    "\n",
    "#Syntax -\n",
    "#for i in my_string:\n",
    "#       Statement1\n",
    "\n",
    "\n",
    "# 0 1 2 3 4 5 6 7 8 9 10 11  --- INDEX\n",
    "# H e l l o ,   W o r  l d  \n",
    "\n",
    "\n",
    "my_string = \"Hello, World\"\n",
    "for char in my_string:\n",
    "    print(char)\n",
    "    \n",
    "print(\"------------------------------------------------------------------\")\n",
    "    \n",
    "my_string = \"Hello, World\"\n",
    "for char in my_string:\n",
    "    print(char, end = \" \")\n",
    "\n"
   ]
  },
  {
   "cell_type": "code",
   "execution_count": 8,
   "id": "abafef3a",
   "metadata": {},
   "outputs": [
    {
     "name": "stdout",
     "output_type": "stream",
     "text": [
      "length of the string 12\n"
     ]
    }
   ],
   "source": [
    "#length of the string\n",
    "\n",
    "print(\"length of the string\",len(my_string)) # len(n-1)"
   ]
  },
  {
   "cell_type": "code",
   "execution_count": 17,
   "id": "28f1abb3",
   "metadata": {},
   "outputs": [
    {
     "name": "stdout",
     "output_type": "stream",
     "text": [
      "1\n",
      "2\n",
      "3\n",
      "4\n",
      "5\n",
      "6\n",
      "7\n",
      "8\n",
      "9\n",
      "10\n"
     ]
    }
   ],
   "source": [
    "\n",
    "#Range \n",
    "#Syntax- range(start,end,step) --> end value will be excluded\n",
    "\n",
    "for i in range(1,11):\n",
    "    print(i)"
   ]
  },
  {
   "cell_type": "code",
   "execution_count": 13,
   "id": "644a73b9",
   "metadata": {},
   "outputs": [
    {
     "name": "stdout",
     "output_type": "stream",
     "text": [
      "5\n",
      "6\n",
      "7\n",
      "8\n",
      "9\n"
     ]
    }
   ],
   "source": [
    "for i in range(5,10): #Step by default 1.starting point by defalut 0 \n",
    "    print(i)\n",
    "    \n",
    "for in range(5) #range(5) = start = 0,end = 5, step = 1, end will be excluded"
   ]
  },
  {
   "cell_type": "code",
   "execution_count": 11,
   "id": "953844d5",
   "metadata": {},
   "outputs": [
    {
     "name": "stdout",
     "output_type": "stream",
     "text": [
      "6\n",
      "-----------------------------------------\n",
      "0\n",
      "1\n",
      "2\n",
      "3\n",
      "4\n",
      "5\n"
     ]
    }
   ],
   "source": [
    "list1 = [10,15,20,26,84,98]\n",
    "print(len(list1))\n",
    "\n",
    "print(\"-----------------------------------------\")\n",
    "\n",
    "for i in range(len(list1)):\n",
    "    print (i)"
   ]
  },
  {
   "cell_type": "code",
   "execution_count": null,
   "id": "f7c1df85",
   "metadata": {},
   "outputs": [],
   "source": []
  }
 ],
 "metadata": {
  "kernelspec": {
   "display_name": "Python 3 (ipykernel)",
   "language": "python",
   "name": "python3"
  },
  "language_info": {
   "codemirror_mode": {
    "name": "ipython",
    "version": 3
   },
   "file_extension": ".py",
   "mimetype": "text/x-python",
   "name": "python",
   "nbconvert_exporter": "python",
   "pygments_lexer": "ipython3",
   "version": "3.9.13"
  }
 },
 "nbformat": 4,
 "nbformat_minor": 5
}
