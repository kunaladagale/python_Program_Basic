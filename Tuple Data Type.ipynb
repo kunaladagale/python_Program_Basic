{
 "cells": [
  {
   "cell_type": "code",
   "execution_count": null,
   "id": "3bb52004",
   "metadata": {},
   "outputs": [],
   "source": [
    "'''\n",
    "Tuples in Python\n",
    "\n",
    "Tuples are ordered collections of heterogeneous data that are unchangeable.\n",
    "(Heterogeneous - can store all kind of values) \n",
    "\n",
    "1.Ordered: Tuples are part of sequence data types, which means they hold the order of the data \n",
    "           insertion.\n",
    "           It maintains the index value for each item.\n",
    "\n",
    "2.Unchangeable: Tuples are immutable, which means that we cannot add or delete items to the \n",
    "                tuple after creation.\n",
    "\n",
    "3.Heterogeneous: Tuples are a sequence of data of different data types (like integer, float, list, string, etc;)\n",
    "                 and can be accessed through indexing and slicing.\n",
    "\n",
    "4.Contains Duplicates: Tuples can contain duplicates,  \n",
    "                       which means they can have items with the same value.\n",
    "\n",
    "Creating a Tuple\n",
    "\n",
    "We can create a tuple using the two ways\n",
    "\n",
    "1.Using parenthesis (): A tuple is created by enclosing comma-separated items inside rounded brackets.\n",
    "\n",
    "2.Using a tuple() constructor: Create a tuple by passing the comma-separated items inside the tuple().\n",
    "  \n",
    "'''"
   ]
  },
  {
   "cell_type": "code",
   "execution_count": 2,
   "id": "18359a9e",
   "metadata": {},
   "outputs": [
    {
     "name": "stdout",
     "output_type": "stream",
     "text": [
      "(10, 54, 87, 92)\n",
      "<class 'tuple'>\n",
      "('Jessa', 30, 54, [15, 56])\n"
     ]
    }
   ],
   "source": [
    "#Create a tuple \n",
    "\n",
    "my_tuple = (10,54,87,92)\n",
    "print(my_tuple)\n",
    "print(type(my_tuple))\n",
    "\n",
    "#mixed type of tuple\n",
    "\n",
    "my_tuple = tuple((\"Jessa\",30,54,[15,56]))\n",
    "print(my_tuple)"
   ]
  },
  {
   "cell_type": "code",
   "execution_count": 6,
   "id": "73aa3773",
   "metadata": {},
   "outputs": [
    {
     "name": "stdout",
     "output_type": "stream",
     "text": [
      "<class 'str'>\n",
      "<class 'tuple'>\n",
      "<class 'int'>\n",
      "<class 'tuple'>\n"
     ]
    }
   ],
   "source": [
    "#Single item tuple \n",
    "\n",
    "single_tuple = (\"Hello\")\n",
    "print(type(single_tuple))\n",
    "\n",
    "single_tuple = (\"Hello\",)\n",
    "print(type(single_tuple))\n",
    "\n",
    "single_tuple = (1)\n",
    "print(type(single_tuple))\n",
    "\n",
    "#with comma\n",
    "single_tuple = (1,)\n",
    "print(type(single_tuple))\n",
    "\n"
   ]
  },
  {
   "cell_type": "code",
   "execution_count": 14,
   "id": "5b97c0ba",
   "metadata": {},
   "outputs": [
    {
     "name": "stdout",
     "output_type": "stream",
     "text": [
      "(1, 2, 'Hello', 78)\n",
      "<class 'tuple'>\n",
      "------------------------------------------------\n",
      "1\n",
      "<class 'int'>\n",
      "Hello\n",
      "<class 'str'>\n"
     ]
    }
   ],
   "source": [
    "'''\n",
    "Packing and Unpacking of tuple \n",
    "\n",
    "A tuple can be also created without using a tuple() constructor\n",
    "or enclosing items inside the parenthesis ().\n",
    "\n",
    "#EX - tuple1 = 1 ,2 , \"Hello\",78\n",
    "\n",
    "It is called variable \"packing\".\n",
    "\n",
    "\n",
    "Packing can be used when we want to collect multiple values\n",
    "in single veriable, this operation is called tuple packing.\n",
    "\n",
    "'''\n",
    "#Example of Packing\n",
    "\n",
    "tuple1 = 1 ,2 , \"Hello\",78\n",
    "\n",
    "print(tuple1)\n",
    "print(type(tuple1)) \n",
    "\n",
    "\n",
    "print(\"------------------------------------------------\")\n",
    "\n",
    "#Similarly we can unpack the items by just assigning the \n",
    "#veriable same as the number of tuple items.\n",
    "#This process is called unpacking.\n",
    "\n",
    "i , j , k , l = tuple1\n",
    "\n",
    "print(i)\n",
    "print(type(i))\n",
    "\n",
    "print(k)\n",
    "print(type(k))\n"
   ]
  },
  {
   "cell_type": "code",
   "execution_count": 16,
   "id": "4ca704a7",
   "metadata": {},
   "outputs": [
    {
     "name": "stdout",
     "output_type": "stream",
     "text": [
      "6\n",
      "P Y T H O N "
     ]
    }
   ],
   "source": [
    "#Length of tuple \n",
    "\n",
    "tuple1 = (\"P\",\"Y\",'T','H','O','N')\n",
    "print(len(tuple1))\n",
    "\n",
    "#Iterate a tuple\n",
    "\n",
    "for item in tuple1:\n",
    "    print(item , end= ' ')"
   ]
  },
  {
   "cell_type": "code",
   "execution_count": 23,
   "id": "3c4f685f",
   "metadata": {},
   "outputs": [
    {
     "name": "stdout",
     "output_type": "stream",
     "text": [
      "P Y T H \n",
      "\n",
      "----------------------------------------\n",
      "N O H T \n",
      "\n",
      "---------------------------------\n",
      "P Y T H O N "
     ]
    }
   ],
   "source": [
    "'''\n",
    "Accessing Tuple Items -\n",
    "\n",
    "Tuple Items can be accessed through two ways \n",
    "1.Indexing\n",
    "2.Slicing\n",
    "\n",
    "1.Indexing-\n",
    "\n",
    "A tuple is an ordered sequence of items, \n",
    "which means they hold the order of the data insertion.\n",
    "It maintains the index value for each item.\n",
    "\n",
    "We can access an item of a tuple by using its index number \n",
    "inside the index operator [] and \n",
    "this process is called “Indexing”.\n",
    "\n",
    "\n",
    "Note:\n",
    "\n",
    "As tuples are ordered sequences of items, \n",
    "the index values start from 0 to the tuple’s length.\n",
    "\n",
    "Whenever we try to access an item with an index more \n",
    "than the tuple’s length, it will throw the 'Index Error'.\n",
    "\n",
    "Similarly, the index values are always integer. \n",
    "If we give any other type, then it will throw Type Error.\n",
    "\n",
    "'''\n",
    "\n",
    "#Example of positive indexing\n",
    "\n",
    "\n",
    "#index +ve   0    1    2    3    4    5\n",
    "tuple1 =   ('P', 'Y', 'T', 'H', 'O', 'N')\n",
    "\n",
    "for i in range(4):\n",
    "    print(tuple1[i], end = \" \")\n",
    "    \n",
    "print(\"\\n\")\n",
    "    \n",
    "print(\"----------------------------------------\")\n",
    "\n",
    "#Examle of negative indexing\n",
    "\n",
    "#index -ve   -6   -5   -4   -3   -2   -1 \n",
    "tuple1 =    ('P', 'Y', 'T', 'H', 'O', 'N')\n",
    "\n",
    "for i in range(-1,-5,-1):\n",
    "    print(tuple1[i], end = \" \")\n",
    "    \n",
    "print(\"\\n\")\n",
    "print(\"---------------------------------\")\n",
    "\n",
    "#using of negative indexing print \"python\".\n",
    "\n",
    "for i in range(-6,0):\n",
    "    print(tuple1[i], end = \" \")\n"
   ]
  },
  {
   "cell_type": "code",
   "execution_count": 29,
   "id": "8c242e4c",
   "metadata": {},
   "outputs": [
    {
     "name": "stdout",
     "output_type": "stream",
     "text": [
      "(1, 2, 3, 4)\n",
      "(0, 1, 2, 3, 4)\n",
      "(3, 4, 8, 5, 9, 8, 5)\n",
      "---------------------------------------\n",
      "(6, 7, 8, 9)\n"
     ]
    }
   ],
   "source": [
    "#Slicing - \n",
    "\n",
    "#positive Slicing\n",
    "tuple1 = (0,1,2,3,4,8,5,9,8,5)\n",
    "\n",
    "print(tuple1[1:5])\n",
    "\n",
    "print(tuple1[:5])\n",
    "\n",
    "print(tuple1[3:])\n",
    "\n",
    "print(\"---------------------------------------\")\n",
    "\n",
    "#Negative Slicing\n",
    "\n",
    "#index -ve  -11 -10 -9 -8 -7 -6 -5 -4 -3 -2  -1\n",
    "tuple1 =    (0,  1,  2, 3, 4, 5, 6, 7, 8, 9, 10)\n",
    "\n",
    "print(tuple1[-5:-1])"
   ]
  },
  {
   "cell_type": "code",
   "execution_count": 33,
   "id": "749b24c1",
   "metadata": {},
   "outputs": [
    {
     "name": "stdout",
     "output_type": "stream",
     "text": [
      "4\n",
      "---------------------------------------------\n",
      "2\n"
     ]
    }
   ],
   "source": [
    "'''\n",
    "Finding an item in a tuple\n",
    "\n",
    "We can search for certain item in a tuple using index()\n",
    "method and it will return the position of that perticular\n",
    "item in the tuple.\n",
    "\n",
    "syntax:\n",
    "\n",
    "tuple_name.index(item, starting point of search , \n",
    "                 end pt of search)\n",
    "\n",
    "item – The item which needs to be searched\n",
    "start – (Optional) The starting value of the index\n",
    "from which the search will start\n",
    "end – (Optional) The end value of the index search\n",
    "\n",
    "'''\n",
    "\n",
    "tuple1 = (10,2,25,5,45)\n",
    "\n",
    "#get index postion of value 45\n",
    "\n",
    "position = tuple1.index(45) #return index position\n",
    "print(position)\n",
    "\n",
    "print(\"---------------------------------------------\")\n",
    "\n",
    "#Find within range\n",
    "\n",
    "position = tuple1.index(25,1,4) #search start index - 1 , end - 4 \n",
    "print(position)"
   ]
  },
  {
   "cell_type": "code",
   "execution_count": 1,
   "id": "f43356a8",
   "metadata": {},
   "outputs": [
    {
     "name": "stdout",
     "output_type": "stream",
     "text": [
      "4\n"
     ]
    }
   ],
   "source": [
    "#Take a tuple and print any items index no \n",
    "\n",
    "a=(1,2,3,4,5)\n",
    "print(a.index(5))"
   ]
  },
  {
   "cell_type": "code",
   "execution_count": 36,
   "id": "5b4aa59f",
   "metadata": {},
   "outputs": [
    {
     "name": "stdout",
     "output_type": "stream",
     "text": [
      "True\n",
      "False\n"
     ]
    }
   ],
   "source": [
    "#Checking if an item exists.\n",
    "\n",
    "tuple1 = (10,2,40,65,78,9)\n",
    "\n",
    "#Checking no 65 is present or not\n",
    "\n",
    "print(65 in tuple1)\n",
    "print(5 in tuple1)\n"
   ]
  },
  {
   "cell_type": "code",
   "execution_count": 37,
   "id": "3c73c763",
   "metadata": {},
   "outputs": [
    {
     "ename": "TypeError",
     "evalue": "'tuple' object does not support item assignment",
     "output_type": "error",
     "traceback": [
      "\u001b[1;31m---------------------------------------------------------------------------\u001b[0m",
      "\u001b[1;31mTypeError\u001b[0m                                 Traceback (most recent call last)",
      "\u001b[1;32m~\\AppData\\Local\\Temp\\ipykernel_11632\\3676825002.py\u001b[0m in \u001b[0;36m<module>\u001b[1;34m\u001b[0m\n\u001b[0;32m      3\u001b[0m \u001b[1;33m\u001b[0m\u001b[0m\n\u001b[0;32m      4\u001b[0m \u001b[0mtuple\u001b[0m \u001b[1;33m=\u001b[0m \u001b[1;33m(\u001b[0m\u001b[1;36m0\u001b[0m\u001b[1;33m,\u001b[0m\u001b[1;36m1\u001b[0m\u001b[1;33m,\u001b[0m\u001b[1;36m2\u001b[0m\u001b[1;33m,\u001b[0m\u001b[1;36m3\u001b[0m\u001b[1;33m,\u001b[0m\u001b[1;36m5\u001b[0m\u001b[1;33m,\u001b[0m\u001b[1;36m4\u001b[0m\u001b[1;33m,\u001b[0m\u001b[1;36m8\u001b[0m\u001b[1;33m)\u001b[0m\u001b[1;33m\u001b[0m\u001b[1;33m\u001b[0m\u001b[0m\n\u001b[1;32m----> 5\u001b[1;33m \u001b[0mtuple\u001b[0m\u001b[1;33m[\u001b[0m\u001b[1;36m1\u001b[0m\u001b[1;33m]\u001b[0m \u001b[1;33m=\u001b[0m \u001b[1;36m10\u001b[0m\u001b[1;33m\u001b[0m\u001b[1;33m\u001b[0m\u001b[0m\n\u001b[0m",
      "\u001b[1;31mTypeError\u001b[0m: 'tuple' object does not support item assignment"
     ]
    }
   ],
   "source": [
    "#Adding and changing items in tuple is not possible.\n",
    "#because tuple is immutable\n",
    "\n",
    "tuple = (0,1,2,3,5,4,8)\n",
    "tuple[1] = 10"
   ]
  },
  {
   "cell_type": "code",
   "execution_count": 50,
   "id": "622ce9b3",
   "metadata": {},
   "outputs": [
    {
     "name": "stdout",
     "output_type": "stream",
     "text": [
      "<class 'list'>\n",
      "([0, 1, 2, 3, 4, 5, 6],)\n",
      "<class 'tuple'>\n"
     ]
    }
   ],
   "source": [
    "#As a second solution, \n",
    "#We can convert our tuple to list and then we can \n",
    "#adding or deleting or changing respective values.\n",
    "\n",
    "tuple1 = (0 ,1, 2, 3, 4, 5)\n",
    "\n",
    "#Converting tuple into list\n",
    "sample_list = list(tuple1) #--> Type Casting\n",
    "\n",
    "print(type(sample_list))\n",
    "\n",
    "#add item into list\n",
    "sample_list.append(6)\n",
    "\n",
    "tup = (sample_list,)\n",
    "print(tup)\n",
    "print(type(tup))"
   ]
  },
  {
   "cell_type": "code",
   "execution_count": 1,
   "id": "dafb41a5",
   "metadata": {},
   "outputs": [
    {
     "name": "stdout",
     "output_type": "stream",
     "text": [
      "('p', 'Y', 't', 'h', 'o', 'n')\n"
     ]
    }
   ],
   "source": [
    "#Type Casting\n",
    "\n",
    "list1 = ['p', 'Y', 't', 'h', 'o', 'n']\n",
    "t = tuple(list1)\n",
    "print(t)"
   ]
  },
  {
   "cell_type": "code",
   "execution_count": 2,
   "id": "1e68c5cd",
   "metadata": {},
   "outputs": [
    {
     "name": "stdout",
     "output_type": "stream",
     "text": [
      "<class 'float'>\n",
      "------------------------------------------\n",
      "<class 'complex'>\n",
      "(2+5j)\n",
      "<class 'str'>\n",
      "------------------------------------------\n",
      "2500000.0\n",
      "<class 'float'>\n",
      "<class 'int'>\n"
     ]
    }
   ],
   "source": [
    "#Type Casting - converting one type of data into another type using the data type function (construtcor)\n",
    "\n",
    "\n",
    "a = 10\n",
    "b = float(a)\n",
    "print(type(b))\n",
    "\n",
    "print(\"------------------------------------------\")\n",
    "\n",
    "c = 2+5j    # complex\n",
    "d = str(c)\n",
    "print(d)\n",
    "print(type(d))\n",
    "\n",
    "print(\"------------------------------------------\")\n",
    "\n",
    "e = 2.5e6 \n",
    "print(e)\n",
    "print(type(e))\n",
    "print(type(int(e)))"
   ]
  },
  {
   "cell_type": "code",
   "execution_count": 11,
   "id": "c1843b95",
   "metadata": {},
   "outputs": [
    {
     "ename": "NameError",
     "evalue": "name 'sampletuple1' is not defined",
     "output_type": "error",
     "traceback": [
      "\u001b[1;31m---------------------------------------------------------------------------\u001b[0m",
      "\u001b[1;31mNameError\u001b[0m                                 Traceback (most recent call last)",
      "\u001b[1;32m~\\AppData\\Local\\Temp\\ipykernel_14104\\596639186.py\u001b[0m in \u001b[0;36m<module>\u001b[1;34m\u001b[0m\n\u001b[0;32m     15\u001b[0m \u001b[1;32mdel\u001b[0m\u001b[1;33m(\u001b[0m\u001b[0msampletuple1\u001b[0m\u001b[1;33m)\u001b[0m\u001b[1;33m\u001b[0m\u001b[1;33m\u001b[0m\u001b[0m\n\u001b[0;32m     16\u001b[0m \u001b[1;33m\u001b[0m\u001b[0m\n\u001b[1;32m---> 17\u001b[1;33m \u001b[0mprint\u001b[0m\u001b[1;33m(\u001b[0m\u001b[0msampletuple1\u001b[0m\u001b[1;33m)\u001b[0m\u001b[1;33m\u001b[0m\u001b[1;33m\u001b[0m\u001b[0m\n\u001b[0m",
      "\u001b[1;31mNameError\u001b[0m: name 'sampletuple1' is not defined"
     ]
    }
   ],
   "source": [
    "'''\n",
    "Removing items from tuple\n",
    "\n",
    "Tupeles are immutable, so there are no pop() or remove() methods fro the tuple.\n",
    "\n",
    "we can remove item from the tuple using two ways :\n",
    "\n",
    "1. converting tuple into list\n",
    "2. del keyword used for delete items.\n",
    "\n",
    "'''\n",
    "\n",
    "sampletuple1 = (0,1,2,3,4,5,6,7,8,9)\n",
    "\n",
    "del(sampletuple1)\n",
    "\n",
    "print(sampletuple1) #NameError: name 'sampletuple1' is not defined --> we have deleted the tuple"
   ]
  },
  {
   "cell_type": "code",
   "execution_count": 13,
   "id": "f70cdeb1",
   "metadata": {},
   "outputs": [
    {
     "name": "stdout",
     "output_type": "stream",
     "text": [
      "3\n"
     ]
    }
   ],
   "source": [
    "'''\n",
    "Count the occurance of an item in tuple.\n",
    "\n",
    "To determine how many times specific item occured in a tuple , we can use the count() method of tuple \n",
    "object.\n",
    "\n",
    "As we know tuple can have duplicates.\n",
    "'''\n",
    "\n",
    "tuple1 = (10, 20, 30, 40, 50, 80, 80 ,80 ,50)\n",
    "\n",
    "#Count Occurance of item 80.\n",
    "\n",
    "count_80 = tuple1.count(80)\n",
    "print(count_80)\n"
   ]
  },
  {
   "cell_type": "code",
   "execution_count": 17,
   "id": "cedd85a4",
   "metadata": {},
   "outputs": [
    {
     "name": "stdout",
     "output_type": "stream",
     "text": [
      "(0, 1, 2, 3, 4, 5)\n",
      "-----------------------------------\n",
      "(0, 1, 2, 3, 4, 5)\n",
      "-----------------------------------\n",
      "(0, 1, 2, 3, 4, 5, 6)\n"
     ]
    }
   ],
   "source": [
    "'''\n",
    "Copying a tuple - \n",
    "\n",
    "We can create a copy of a tuple using assignment operator '='.\n",
    "This only a reference (shallow) copy and not a deep copy because tuple are immutable.\n",
    "\n",
    "'''\n",
    "\n",
    "tuple1 = (0,1,2,3,4,5)\n",
    "\n",
    "#copy tuple (shallow or reference copy)\n",
    "\n",
    "tuple2 = tuple1 \n",
    "print(tuple2)\n",
    "\n",
    "print(\"-----------------------------------\")\n",
    "\n",
    "# Changing tuple2\n",
    "#Converting tuple2 into list\n",
    "\n",
    "sample_list = list(tuple2)\n",
    "sample_list.append(6)\n",
    "\n",
    "#converting sample_list to tuple2\n",
    "tuple2 = tuple(sample_list)\n",
    "\n",
    "print(tuple1)\n",
    "print(\"-----------------------------------\")\n",
    "print(tuple2)\n"
   ]
  },
  {
   "cell_type": "code",
   "execution_count": 32,
   "id": "798757cb",
   "metadata": {},
   "outputs": [
    {
     "name": "stdout",
     "output_type": "stream",
     "text": [
      "(1, 2, 3, 4, 5, 6, 7, 8, 9, 10)\n",
      "(1, 2, 3, 4, 5, 1, 2, 3, 4, 5, 6, 7, 8, 9, 10)\n",
      "----------------------------------------------\n",
      "(1, 2, 3, 4, 5, 1, 2, 3, 4, 5, 6, 7, 8, 9, 10)\n",
      "----------------------------------------------\n",
      "(1, 2, 3, 4, 5, 1, 2, 3, 4, 5, 6, 7, 8, 9, 10)\n",
      "------------------------------------------------\n",
      "(1, 2, 3, 4, 5, 1, 2, 3, 4, 5, 6, 7, 8, 9, 10)\n"
     ]
    }
   ],
   "source": [
    "#Concatinating two tuples \n",
    "\n",
    "tuple1 = (1,2,3,4,5)\n",
    "tuple2 = (6,7,8,9,10)\n",
    "\n",
    "tuple2 = tuple1 + tuple2\n",
    "print(tuple2)\n",
    "\n",
    "\n",
    "tuple3 = tuple1 + tuple2\n",
    "print(tuple3)\n",
    "\n",
    "\n",
    "print(\"----------------------------------------------\")\n",
    "\n",
    "#using Sum Function\n",
    "\n",
    "tuple4 = sum((tuple1,tuple2),())\n",
    "print(tuple4)\n",
    "\n",
    "print(\"----------------------------------------------\")\n",
    "\n",
    "#Using Itertools.chain \n",
    "\n",
    "from itertools import chain\n",
    "\n",
    "tuple6 = tuple(chain(tuple1,tuple2))\n",
    "print(tuple6)\n",
    "\n",
    "print(\"------------------------------------------------\")\n",
    "\n",
    "#using tuple comprehension\n",
    "\n",
    "tuple5 = tuple(item for item in itertools.chain(tuple1,tuple2))\n",
    "print(tuple5)"
   ]
  },
  {
   "cell_type": "code",
   "execution_count": 33,
   "id": "113ef85a",
   "metadata": {},
   "outputs": [
    {
     "name": "stdout",
     "output_type": "stream",
     "text": [
      "1 2 3 4 5 1 2 3 4 5 6 7 8 9 10 "
     ]
    }
   ],
   "source": [
    "for i in (1, 2, 3, 4, 5, 1, 2, 3, 4, 5, 6, 7, 8, 9, 10):\n",
    "    print(i, end = \" \")"
   ]
  },
  {
   "cell_type": "code",
   "execution_count": 45,
   "id": "6c546db8",
   "metadata": {},
   "outputs": [
    {
     "name": "stdout",
     "output_type": "stream",
     "text": [
      "P\n",
      "----------------------------------------------\n",
      "C#\n",
      "----------------------------------------------\n",
      "Tuples (1, 2, 3, 4, 7, 8) elements\n",
      "1 2 3 4 7 8 \n",
      "\n",
      "Tuples (10, 20, 30) elements\n",
      "10 20 30 \n",
      "\n",
      "Tuples Python elements\n",
      "P y t h o n \n",
      "\n"
     ]
    }
   ],
   "source": [
    "'''\n",
    "Nested tuple \n",
    "\n",
    "Nested tuple are tuple within tuple.\n",
    "\n",
    "'''\n",
    "\n",
    "#                     0           1         2\n",
    "#                0 1 2 3 4 5   0  1   2      \n",
    "nested_tuple = ((1,2,3,4,7,8),(10,20,30),\"Python\")\n",
    "\n",
    "\n",
    "\n",
    "#access the first item of the third tuple\n",
    "\n",
    "print(nested_tuple[2][0])\n",
    "\n",
    "print(\"----------------------------------------------\")\n",
    "\n",
    "tuple1 = (\"Python\",\"Java\",\"C#\",\"PHP\")\n",
    "print(tuple1[2])\n",
    "\n",
    "print(\"----------------------------------------------\")\n",
    "\n",
    "#Iterate a nested tuple \n",
    "\n",
    "for i in nested_tuple:\n",
    "    print(\"Tuples\", i ,\"elements\")\n",
    "    for j in i:\n",
    "        print(j , end = \" \")\n",
    "    print(\"\\n\")\n",
    "    \n",
    " "
   ]
  }
 ],
 "metadata": {
  "kernelspec": {
   "display_name": "Python 3 (ipykernel)",
   "language": "python",
   "name": "python3"
  },
  "language_info": {
   "codemirror_mode": {
    "name": "ipython",
    "version": 3
   },
   "file_extension": ".py",
   "mimetype": "text/x-python",
   "name": "python",
   "nbconvert_exporter": "python",
   "pygments_lexer": "ipython3",
   "version": "3.9.12"
  }
 },
 "nbformat": 4,
 "nbformat_minor": 5
}
