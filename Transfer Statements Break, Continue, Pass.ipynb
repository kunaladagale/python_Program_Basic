{
 "cells": [
  {
   "cell_type": "code",
   "execution_count": null,
   "id": "fd28e977",
   "metadata": {},
   "outputs": [],
   "source": [
    "'''\n",
    "3. Transfer Statement- There are three types\n",
    "a) break\n",
    "b) continue\n",
    "c) pass\n",
    "\n",
    "'''"
   ]
  },
  {
   "cell_type": "markdown",
   "id": "a3b243c8",
   "metadata": {},
   "source": [
    "# Break"
   ]
  },
  {
   "cell_type": "code",
   "execution_count": 4,
   "id": "606822c4",
   "metadata": {},
   "outputs": [
    {
     "name": "stdout",
     "output_type": "stream",
     "text": [
      "0\n",
      "1\n",
      "2\n",
      "3\n",
      "4\n",
      "5\n",
      "Stop processing\n"
     ]
    }
   ],
   "source": [
    "#1. Break Statement -\n",
    "\n",
    "#The break statement is ued inside the loop to exit out of the loop.\n",
    "\n",
    "#It is useful when we want to terminate the loop as soon as the condition is fullfilled,\n",
    "#instead of doing remaining iterations.\n",
    "\n",
    "#It reduce time of execution\n",
    "\n",
    "#Whenever the controller comes in contact with break statement, it comes out of that loop immediately\n",
    "\n",
    "for num in range(10):\n",
    "    if num > 5:\n",
    "        print(\"Stop processing\")\n",
    "        break\n",
    "    \n",
    "    print(num)"
   ]
  },
  {
   "cell_type": "code",
   "execution_count": 3,
   "id": "cc95e88c",
   "metadata": {},
   "outputs": [
    {
     "name": "stdout",
     "output_type": "stream",
     "text": [
      "J e s s a "
     ]
    }
   ],
   "source": [
    "#write a while loop to display each character from a string and if a character is number \n",
    "#then stop the loop\n",
    "\n",
    "name = 'Jessa29Roy'\n",
    "size = len(name)\n",
    "\n",
    "i = 0\n",
    "\n",
    "while i < size:\n",
    "    #break loop if current character is number\n",
    "    if name[i].isdecimal():\n",
    "        break\n",
    "    print(name[i], end=\" \")\n",
    "    i = i+1"
   ]
  },
  {
   "cell_type": "code",
   "execution_count": 1,
   "id": "fc75d7c5",
   "metadata": {},
   "outputs": [
    {
     "name": "stdout",
     "output_type": "stream",
     "text": [
      "10\n",
      "J\n",
      "e\n",
      "s\n",
      "s\n",
      "a\n",
      "2\n",
      "9\n",
      "R\n",
      "o\n",
      "y\n"
     ]
    }
   ],
   "source": [
    "name = 'Jessa29Roy'\n",
    "size = len(name)\n",
    "print(size)\n",
    "i = 0\n",
    "\n",
    "while i<size:\n",
    "    print(name[i])\n",
    "    i=i+1"
   ]
  },
  {
   "cell_type": "code",
   "execution_count": 6,
   "id": "85e72e4a",
   "metadata": {},
   "outputs": [
    {
     "name": "stdout",
     "output_type": "stream",
     "text": [
      "y\n"
     ]
    }
   ],
   "source": [
    "name = 'Jessa29Roy'\n",
    "print(name[9])"
   ]
  },
  {
   "cell_type": "markdown",
   "id": "c23132ec",
   "metadata": {},
   "source": [
    "# Continue"
   ]
  },
  {
   "cell_type": "code",
   "execution_count": null,
   "id": "5ccde9b7",
   "metadata": {},
   "outputs": [],
   "source": [
    "'''\n",
    "Continue is statement that skips a block of code in the loop for the current iteration only.\n",
    "\n",
    "It doesn't terminate the loop but continues in the next iteration ignoring the loop's body after it.\n",
    "\n",
    "'''"
   ]
  },
  {
   "cell_type": "code",
   "execution_count": 7,
   "id": "a0547239",
   "metadata": {},
   "outputs": [
    {
     "name": "stdout",
     "output_type": "stream",
     "text": [
      "J e s s a R o y "
     ]
    }
   ],
   "source": [
    "#Write a while loop to display only alphabets from string\n",
    "\n",
    "name = 'Jessa29Roy'\n",
    "size = len(name)\n",
    "\n",
    "i = -1\n",
    "\n",
    "while i < size-1: #--> 10 -- i = -1,0,1,2,3,4,5,6,7,8,9,10\n",
    "    i = i+1\n",
    "    #break loop if current character is number\n",
    "    if name[i].isdecimal():\n",
    "        continue\n",
    "    print(name[i], end=\" \")\n",
    "    "
   ]
  },
  {
   "cell_type": "code",
   "execution_count": 1,
   "id": "9c73f77f",
   "metadata": {},
   "outputs": [
    {
     "name": "stdout",
     "output_type": "stream",
     "text": [
      "J e s s a R o y "
     ]
    }
   ],
   "source": [
    "#Write a while loop to display only alphabets from string\n",
    "\n",
    "\n",
    "\n",
    "\n",
    "name = 'Jessa29Roy'\n",
    "size = len(name)\n",
    "\n",
    "i = -1\n",
    "\n",
    "while i < size-1: #--> 10 -- i = -1,0,1,2,3,4,5,6,7,8,9,10\n",
    "    i = i+1\n",
    "    #break loop if current character is number\n",
    "    if not name[i].isalpha():\n",
    "        continue\n",
    "    print(name[i], end=\" \")\n",
    "    "
   ]
  },
  {
   "cell_type": "markdown",
   "id": "d0a6a76e",
   "metadata": {},
   "source": [
    "# Pass"
   ]
  },
  {
   "cell_type": "code",
   "execution_count": 3,
   "id": "6fd40d30",
   "metadata": {},
   "outputs": [
    {
     "ename": "IndentationError",
     "evalue": "expected an indented block (2889069834.py, line 15)",
     "output_type": "error",
     "traceback": [
      "\u001b[1;36m  File \u001b[1;32m\"C:\\Users\\Kaustubh Danwadkar\\AppData\\Local\\Temp\\ipykernel_13624\\2889069834.py\"\u001b[1;36m, line \u001b[1;32m15\u001b[0m\n\u001b[1;33m    print(\"Geeks\")\u001b[0m\n\u001b[1;37m    ^\u001b[0m\n\u001b[1;31mIndentationError\u001b[0m\u001b[1;31m:\u001b[0m expected an indented block\n"
     ]
    }
   ],
   "source": [
    "'''\n",
    "Pass Statement \n",
    "Pass statement is the keyword in python, which won't do anything.\n",
    "\n",
    "Why Python needs \"Pass\" Statement?\n",
    "\n",
    "If we do not use pass or simply enter a comment or blank here we will receive an IndentationError \n",
    "Message.\n",
    "\n",
    "Sometimes tere is a situation in programming where we need to define a syntactically empty block,\n",
    "in such situations we can define that empty block with pass keyword.\n",
    "\n",
    "When interpreter finds pass statement in program ,it return no operation.\n",
    "\n",
    "It is useful in a situations where we are implementing new methods or in exception handling.\n",
    "\n",
    "'''\n",
    "\n",
    "n = 26 \n",
    "\n",
    "if n > 26:\n",
    "    #Write a code here \n",
    "\n",
    "print(\"Geeks\")"
   ]
  },
  {
   "cell_type": "code",
   "execution_count": 4,
   "id": "8d9c82d2",
   "metadata": {},
   "outputs": [
    {
     "name": "stdout",
     "output_type": "stream",
     "text": [
      "Geeks\n"
     ]
    }
   ],
   "source": [
    "n = 26 \n",
    "\n",
    "if n > 26:\n",
    "    pass\n",
    "    #Write a code here \n",
    "\n",
    "print(\"Geeks\")"
   ]
  },
  {
   "cell_type": "code",
   "execution_count": 17,
   "id": "49c36372",
   "metadata": {},
   "outputs": [
    {
     "name": "stdout",
     "output_type": "stream",
     "text": [
      "----------------------------------------\n",
      "Enter number 1:10\n",
      "Enter number 2:5\n",
      "b<a\n"
     ]
    }
   ],
   "source": [
    "n = 10\n",
    "\n",
    "for i in range(n):\n",
    "    pass\n",
    "    \n",
    "    #pass can be used as placeholder \n",
    "    #when code is to added later\n",
    "    \n",
    "print(\"----------------------------------------\")\n",
    "\n",
    "a = int(input(\"Enter number 1:\"))\n",
    "b = int(input(\"Enter number 2:\"))\n",
    "\n",
    "if (a<b):\n",
    "    pass\n",
    "else:\n",
    "    print(\"b<a\")"
   ]
  },
  {
   "cell_type": "code",
   "execution_count": 27,
   "id": "b3a4506b",
   "metadata": {},
   "outputs": [
    {
     "name": "stdout",
     "output_type": "stream",
     "text": [
      "Enter a number to check whether it a prime no or not : 2\n",
      "prime no\n"
     ]
    }
   ],
   "source": [
    "# Write a code to check whether it is a prime number or not and if yes print prime number else\n",
    "# print no prime num using while loop \n",
    "\n",
    "# A whole number greater than 1 whose only factor are 1 and itself.\n",
    "\n",
    "n = int(input(\"Enter a number to check whether it a prime no or not : \"))\n",
    "\n",
    "i = 2\n",
    "flag = 1\n",
    "\n",
    "while i < n:\n",
    "    if n % i == 0:\n",
    "        flag = 0\n",
    "        break\n",
    "    i = i + 1\n",
    "\n",
    "if flag!=1:\n",
    "    print(\"not prime no\")\n",
    "else:\n",
    "    print(\"prime no\")\n",
    "\n"
   ]
  },
  {
   "cell_type": "code",
   "execution_count": null,
   "id": "c97a816b",
   "metadata": {},
   "outputs": [],
   "source": []
  }
 ],
 "metadata": {
  "kernelspec": {
   "display_name": "Python 3 (ipykernel)",
   "language": "python",
   "name": "python3"
  },
  "language_info": {
   "codemirror_mode": {
    "name": "ipython",
    "version": 3
   },
   "file_extension": ".py",
   "mimetype": "text/x-python",
   "name": "python",
   "nbconvert_exporter": "python",
   "pygments_lexer": "ipython3",
   "version": "3.9.12"
  }
 },
 "nbformat": 4,
 "nbformat_minor": 5
}
